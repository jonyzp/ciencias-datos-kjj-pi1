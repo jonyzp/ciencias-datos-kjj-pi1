{
 "cells": [
  {
   "cell_type": "markdown",
   "id": "09d49ee1-874b-43f1-ab22-aa7fb9852964",
   "metadata": {},
   "source": [
    "# Proyecto integrador I - Raw\n",
    "---\n",
    "Presentado por:\n",
    "* Karla Orozco\n",
    "* Jonathan zapata\n",
    "* Juan Fernando Gallego"
   ]
  },
  {
   "cell_type": "markdown",
   "id": "466ff8a5-6c0a-4d9a-bc69-1de13d2c9b64",
   "metadata": {},
   "source": [
    "---\n",
    "### Importar librerías"
   ]
  },
  {
   "cell_type": "code",
   "execution_count": 1,
   "id": "e934a269",
   "metadata": {
    "tags": []
   },
   "outputs": [
    {
     "name": "stderr",
     "output_type": "stream",
     "text": [
      "[nltk_data] Downloading package punkt to\n",
      "[nltk_data]     C:\\Users\\USUARIO\\AppData\\Roaming\\nltk_data...\n",
      "[nltk_data]   Package punkt is already up-to-date!\n",
      "[nltk_data] Downloading package stopwords to\n",
      "[nltk_data]     C:\\Users\\USUARIO\\AppData\\Roaming\\nltk_data...\n",
      "[nltk_data]   Package stopwords is already up-to-date!\n",
      "[nltk_data] Downloading package words to\n",
      "[nltk_data]     C:\\Users\\USUARIO\\AppData\\Roaming\\nltk_data...\n",
      "[nltk_data]   Package words is already up-to-date!\n",
      "[nltk_data] Downloading package wordnet to\n",
      "[nltk_data]     C:\\Users\\USUARIO\\AppData\\Roaming\\nltk_data...\n",
      "[nltk_data]   Package wordnet is already up-to-date!\n"
     ]
    },
    {
     "data": {
      "text/plain": [
       "True"
      ]
     },
     "execution_count": 1,
     "metadata": {},
     "output_type": "execute_result"
    }
   ],
   "source": [
    "import numpy as np\n",
    "import pandas as pd\n",
    "import nltk\n",
    "import re\n",
    "import matplotlib.pyplot as plt\n",
    "import seaborn as sns\n",
    "from nltk.stem import WordNetLemmatizer\n",
    "from nltk.corpus import stopwords\n",
    "nltk.download('punkt')\n",
    "nltk.download('stopwords')\n",
    "nltk.download('words')\n",
    "nltk.download('wordnet')"
   ]
  },
  {
   "cell_type": "markdown",
   "id": "d0d9bb97-aa39-4dae-8c0a-361253da7058",
   "metadata": {},
   "source": [
    "---\n",
    "### Cargar datos"
   ]
  },
  {
   "cell_type": "code",
   "execution_count": 2,
   "id": "f7249a55",
   "metadata": {},
   "outputs": [],
   "source": [
    "company = pd.read_csv('raw/Company.csv')\n",
    "company_tweet = pd.read_csv('raw/Company_Tweet.csv')\n",
    "tweet = pd.read_csv('raw/Tweet.csv')"
   ]
  },
  {
   "cell_type": "markdown",
   "id": "ae93f1ab-b550-41a1-85c9-61a1b50b9974",
   "metadata": {},
   "source": [
    "---\n",
    "### Observar datos"
   ]
  },
  {
   "cell_type": "code",
   "execution_count": 3,
   "id": "8158570e-532c-48f6-9add-087127b472ca",
   "metadata": {},
   "outputs": [
    {
     "data": {
      "text/html": [
       "<div>\n",
       "<style scoped>\n",
       "    .dataframe tbody tr th:only-of-type {\n",
       "        vertical-align: middle;\n",
       "    }\n",
       "\n",
       "    .dataframe tbody tr th {\n",
       "        vertical-align: top;\n",
       "    }\n",
       "\n",
       "    .dataframe thead th {\n",
       "        text-align: right;\n",
       "    }\n",
       "</style>\n",
       "<table border=\"1\" class=\"dataframe\">\n",
       "  <thead>\n",
       "    <tr style=\"text-align: right;\">\n",
       "      <th></th>\n",
       "      <th>ticker_symbol</th>\n",
       "      <th>company_name</th>\n",
       "    </tr>\n",
       "  </thead>\n",
       "  <tbody>\n",
       "    <tr>\n",
       "      <th>0</th>\n",
       "      <td>AAPL</td>\n",
       "      <td>apple</td>\n",
       "    </tr>\n",
       "    <tr>\n",
       "      <th>1</th>\n",
       "      <td>GOOG</td>\n",
       "      <td>Google Inc</td>\n",
       "    </tr>\n",
       "    <tr>\n",
       "      <th>2</th>\n",
       "      <td>GOOGL</td>\n",
       "      <td>Google Inc</td>\n",
       "    </tr>\n",
       "    <tr>\n",
       "      <th>3</th>\n",
       "      <td>AMZN</td>\n",
       "      <td>Amazon.com</td>\n",
       "    </tr>\n",
       "    <tr>\n",
       "      <th>4</th>\n",
       "      <td>TSLA</td>\n",
       "      <td>Tesla Inc</td>\n",
       "    </tr>\n",
       "  </tbody>\n",
       "</table>\n",
       "</div>"
      ],
      "text/plain": [
       "  ticker_symbol company_name\n",
       "0          AAPL        apple\n",
       "1          GOOG   Google Inc\n",
       "2         GOOGL   Google Inc\n",
       "3          AMZN   Amazon.com\n",
       "4          TSLA    Tesla Inc"
      ]
     },
     "execution_count": 3,
     "metadata": {},
     "output_type": "execute_result"
    }
   ],
   "source": [
    "company.head()"
   ]
  },
  {
   "cell_type": "code",
   "execution_count": 4,
   "id": "1ea640bc-b6a4-40ba-84fa-baa278d3ceb0",
   "metadata": {},
   "outputs": [
    {
     "data": {
      "text/plain": [
       "(6, 2)"
      ]
     },
     "execution_count": 4,
     "metadata": {},
     "output_type": "execute_result"
    }
   ],
   "source": [
    "company.shape"
   ]
  },
  {
   "cell_type": "code",
   "execution_count": 5,
   "id": "9a22e5cb",
   "metadata": {},
   "outputs": [
    {
     "data": {
      "text/html": [
       "<div>\n",
       "<style scoped>\n",
       "    .dataframe tbody tr th:only-of-type {\n",
       "        vertical-align: middle;\n",
       "    }\n",
       "\n",
       "    .dataframe tbody tr th {\n",
       "        vertical-align: top;\n",
       "    }\n",
       "\n",
       "    .dataframe thead th {\n",
       "        text-align: right;\n",
       "    }\n",
       "</style>\n",
       "<table border=\"1\" class=\"dataframe\">\n",
       "  <thead>\n",
       "    <tr style=\"text-align: right;\">\n",
       "      <th></th>\n",
       "      <th>tweet_id</th>\n",
       "      <th>ticker_symbol</th>\n",
       "    </tr>\n",
       "  </thead>\n",
       "  <tbody>\n",
       "    <tr>\n",
       "      <th>0</th>\n",
       "      <td>550803612197457920</td>\n",
       "      <td>AAPL</td>\n",
       "    </tr>\n",
       "    <tr>\n",
       "      <th>1</th>\n",
       "      <td>550803610825928706</td>\n",
       "      <td>AAPL</td>\n",
       "    </tr>\n",
       "    <tr>\n",
       "      <th>2</th>\n",
       "      <td>550803225113157632</td>\n",
       "      <td>AAPL</td>\n",
       "    </tr>\n",
       "    <tr>\n",
       "      <th>3</th>\n",
       "      <td>550802957370159104</td>\n",
       "      <td>AAPL</td>\n",
       "    </tr>\n",
       "    <tr>\n",
       "      <th>4</th>\n",
       "      <td>550802855129382912</td>\n",
       "      <td>AAPL</td>\n",
       "    </tr>\n",
       "  </tbody>\n",
       "</table>\n",
       "</div>"
      ],
      "text/plain": [
       "             tweet_id ticker_symbol\n",
       "0  550803612197457920          AAPL\n",
       "1  550803610825928706          AAPL\n",
       "2  550803225113157632          AAPL\n",
       "3  550802957370159104          AAPL\n",
       "4  550802855129382912          AAPL"
      ]
     },
     "execution_count": 5,
     "metadata": {},
     "output_type": "execute_result"
    }
   ],
   "source": [
    "company_tweet.head()"
   ]
  },
  {
   "cell_type": "code",
   "execution_count": 6,
   "id": "4a4cd2bd-0c44-46bf-9de3-2b2ee68ac008",
   "metadata": {},
   "outputs": [
    {
     "data": {
      "text/plain": [
       "(4336445, 2)"
      ]
     },
     "execution_count": 6,
     "metadata": {},
     "output_type": "execute_result"
    }
   ],
   "source": [
    "company_tweet.shape"
   ]
  },
  {
   "cell_type": "code",
   "execution_count": 7,
   "id": "99e061b0",
   "metadata": {},
   "outputs": [
    {
     "data": {
      "text/html": [
       "<div>\n",
       "<style scoped>\n",
       "    .dataframe tbody tr th:only-of-type {\n",
       "        vertical-align: middle;\n",
       "    }\n",
       "\n",
       "    .dataframe tbody tr th {\n",
       "        vertical-align: top;\n",
       "    }\n",
       "\n",
       "    .dataframe thead th {\n",
       "        text-align: right;\n",
       "    }\n",
       "</style>\n",
       "<table border=\"1\" class=\"dataframe\">\n",
       "  <thead>\n",
       "    <tr style=\"text-align: right;\">\n",
       "      <th></th>\n",
       "      <th>tweet_id</th>\n",
       "      <th>writer</th>\n",
       "      <th>post_date</th>\n",
       "      <th>body</th>\n",
       "      <th>comment_num</th>\n",
       "      <th>retweet_num</th>\n",
       "      <th>like_num</th>\n",
       "    </tr>\n",
       "  </thead>\n",
       "  <tbody>\n",
       "    <tr>\n",
       "      <th>0</th>\n",
       "      <td>550441509175443456</td>\n",
       "      <td>VisualStockRSRC</td>\n",
       "      <td>1420070457</td>\n",
       "      <td>lx21 made $10,008  on $AAPL -Check it out! htt...</td>\n",
       "      <td>0</td>\n",
       "      <td>0</td>\n",
       "      <td>1</td>\n",
       "    </tr>\n",
       "    <tr>\n",
       "      <th>1</th>\n",
       "      <td>550441672312512512</td>\n",
       "      <td>KeralaGuy77</td>\n",
       "      <td>1420070496</td>\n",
       "      <td>Insanity of today weirdo massive selling. $aap...</td>\n",
       "      <td>0</td>\n",
       "      <td>0</td>\n",
       "      <td>0</td>\n",
       "    </tr>\n",
       "    <tr>\n",
       "      <th>2</th>\n",
       "      <td>550441732014223360</td>\n",
       "      <td>DozenStocks</td>\n",
       "      <td>1420070510</td>\n",
       "      <td>S&amp;P100 #Stocks Performance $HD $LOW $SBUX $TGT...</td>\n",
       "      <td>0</td>\n",
       "      <td>0</td>\n",
       "      <td>0</td>\n",
       "    </tr>\n",
       "    <tr>\n",
       "      <th>3</th>\n",
       "      <td>550442977802207232</td>\n",
       "      <td>ShowDreamCar</td>\n",
       "      <td>1420070807</td>\n",
       "      <td>$GM $TSLA: Volkswagen Pushes 2014 Record Recal...</td>\n",
       "      <td>0</td>\n",
       "      <td>0</td>\n",
       "      <td>1</td>\n",
       "    </tr>\n",
       "    <tr>\n",
       "      <th>4</th>\n",
       "      <td>550443807834402816</td>\n",
       "      <td>i_Know_First</td>\n",
       "      <td>1420071005</td>\n",
       "      <td>Swing Trading: Up To 8.91% Return In 14 Days h...</td>\n",
       "      <td>0</td>\n",
       "      <td>0</td>\n",
       "      <td>1</td>\n",
       "    </tr>\n",
       "  </tbody>\n",
       "</table>\n",
       "</div>"
      ],
      "text/plain": [
       "             tweet_id           writer   post_date  \\\n",
       "0  550441509175443456  VisualStockRSRC  1420070457   \n",
       "1  550441672312512512      KeralaGuy77  1420070496   \n",
       "2  550441732014223360      DozenStocks  1420070510   \n",
       "3  550442977802207232     ShowDreamCar  1420070807   \n",
       "4  550443807834402816     i_Know_First  1420071005   \n",
       "\n",
       "                                                body  comment_num  \\\n",
       "0  lx21 made $10,008  on $AAPL -Check it out! htt...            0   \n",
       "1  Insanity of today weirdo massive selling. $aap...            0   \n",
       "2  S&P100 #Stocks Performance $HD $LOW $SBUX $TGT...            0   \n",
       "3  $GM $TSLA: Volkswagen Pushes 2014 Record Recal...            0   \n",
       "4  Swing Trading: Up To 8.91% Return In 14 Days h...            0   \n",
       "\n",
       "   retweet_num  like_num  \n",
       "0            0         1  \n",
       "1            0         0  \n",
       "2            0         0  \n",
       "3            0         1  \n",
       "4            0         1  "
      ]
     },
     "execution_count": 7,
     "metadata": {},
     "output_type": "execute_result"
    }
   ],
   "source": [
    "tweet.head()"
   ]
  },
  {
   "cell_type": "code",
   "execution_count": 8,
   "id": "e8a99253-80c5-4eb2-b5a5-a77ba0902d39",
   "metadata": {},
   "outputs": [
    {
     "data": {
      "text/plain": [
       "(3717964, 7)"
      ]
     },
     "execution_count": 8,
     "metadata": {},
     "output_type": "execute_result"
    }
   ],
   "source": [
    "tweet.shape"
   ]
  },
  {
   "cell_type": "markdown",
   "id": "a9bfb298-9214-491f-80b2-479de3649a0f",
   "metadata": {},
   "source": [
    "### Reducir el tamaño de la muestra para trabajar más facil:"
   ]
  },
  {
   "cell_type": "code",
   "execution_count": 9,
   "id": "09bc6bb2-79cf-4f10-998d-741369d3898e",
   "metadata": {},
   "outputs": [],
   "source": [
    "#tweet=tweet.head(10000).copy()"
   ]
  },
  {
   "cell_type": "code",
   "execution_count": 10,
   "id": "5923220c-35c4-48bf-9f44-900c54dd022c",
   "metadata": {},
   "outputs": [],
   "source": [
    "#company_tweet=company_tweet.loc[company_tweet['tweet_id'].isin(tweet['tweet_id'])]"
   ]
  },
  {
   "cell_type": "code",
   "execution_count": 11,
   "id": "aad0468d-9ec0-471d-a1f1-48f1e02550f2",
   "metadata": {},
   "outputs": [
    {
     "data": {
      "text/plain": [
       "((3717964, 7), (4336445, 2))"
      ]
     },
     "execution_count": 11,
     "metadata": {},
     "output_type": "execute_result"
    }
   ],
   "source": [
    "tweet.shape, company_tweet.shape "
   ]
  },
  {
   "cell_type": "markdown",
   "id": "d0a25b4a-9e28-40ee-a05d-97279afc5aec",
   "metadata": {},
   "source": [
    "Ajustar formato fecha en la tabla \"tweet\":"
   ]
  },
  {
   "cell_type": "code",
   "execution_count": 12,
   "id": "dd2bc59f",
   "metadata": {},
   "outputs": [
    {
     "data": {
      "text/html": [
       "<div>\n",
       "<style scoped>\n",
       "    .dataframe tbody tr th:only-of-type {\n",
       "        vertical-align: middle;\n",
       "    }\n",
       "\n",
       "    .dataframe tbody tr th {\n",
       "        vertical-align: top;\n",
       "    }\n",
       "\n",
       "    .dataframe thead th {\n",
       "        text-align: right;\n",
       "    }\n",
       "</style>\n",
       "<table border=\"1\" class=\"dataframe\">\n",
       "  <thead>\n",
       "    <tr style=\"text-align: right;\">\n",
       "      <th></th>\n",
       "      <th>tweet_id</th>\n",
       "      <th>writer</th>\n",
       "      <th>post_date</th>\n",
       "      <th>body</th>\n",
       "      <th>comment_num</th>\n",
       "      <th>retweet_num</th>\n",
       "      <th>like_num</th>\n",
       "    </tr>\n",
       "  </thead>\n",
       "  <tbody>\n",
       "    <tr>\n",
       "      <th>0</th>\n",
       "      <td>550441509175443456</td>\n",
       "      <td>VisualStockRSRC</td>\n",
       "      <td>2015-01-01 00:00:57</td>\n",
       "      <td>lx21 made $10,008  on $AAPL -Check it out! htt...</td>\n",
       "      <td>0</td>\n",
       "      <td>0</td>\n",
       "      <td>1</td>\n",
       "    </tr>\n",
       "    <tr>\n",
       "      <th>1</th>\n",
       "      <td>550441672312512512</td>\n",
       "      <td>KeralaGuy77</td>\n",
       "      <td>2015-01-01 00:01:36</td>\n",
       "      <td>Insanity of today weirdo massive selling. $aap...</td>\n",
       "      <td>0</td>\n",
       "      <td>0</td>\n",
       "      <td>0</td>\n",
       "    </tr>\n",
       "  </tbody>\n",
       "</table>\n",
       "</div>"
      ],
      "text/plain": [
       "             tweet_id           writer           post_date  \\\n",
       "0  550441509175443456  VisualStockRSRC 2015-01-01 00:00:57   \n",
       "1  550441672312512512      KeralaGuy77 2015-01-01 00:01:36   \n",
       "\n",
       "                                                body  comment_num  \\\n",
       "0  lx21 made $10,008  on $AAPL -Check it out! htt...            0   \n",
       "1  Insanity of today weirdo massive selling. $aap...            0   \n",
       "\n",
       "   retweet_num  like_num  \n",
       "0            0         1  \n",
       "1            0         0  "
      ]
     },
     "execution_count": 12,
     "metadata": {},
     "output_type": "execute_result"
    }
   ],
   "source": [
    "tweet['post_date'] = pd.to_datetime(tweet['post_date'],unit='s')\n",
    "tweet.head(2)"
   ]
  },
  {
   "cell_type": "markdown",
   "id": "8fb93b0a-df4f-438a-a15f-1cec283feb7d",
   "metadata": {},
   "source": [
    "Crear una columna con la fecha hasta la unidad de días:"
   ]
  },
  {
   "cell_type": "code",
   "execution_count": 13,
   "id": "2948923f-d15c-445a-9ec7-790644374d7c",
   "metadata": {},
   "outputs": [
    {
     "data": {
      "text/html": [
       "<div>\n",
       "<style scoped>\n",
       "    .dataframe tbody tr th:only-of-type {\n",
       "        vertical-align: middle;\n",
       "    }\n",
       "\n",
       "    .dataframe tbody tr th {\n",
       "        vertical-align: top;\n",
       "    }\n",
       "\n",
       "    .dataframe thead th {\n",
       "        text-align: right;\n",
       "    }\n",
       "</style>\n",
       "<table border=\"1\" class=\"dataframe\">\n",
       "  <thead>\n",
       "    <tr style=\"text-align: right;\">\n",
       "      <th></th>\n",
       "      <th>tweet_id</th>\n",
       "      <th>writer</th>\n",
       "      <th>post_date</th>\n",
       "      <th>body</th>\n",
       "      <th>comment_num</th>\n",
       "      <th>retweet_num</th>\n",
       "      <th>like_num</th>\n",
       "      <th>date</th>\n",
       "    </tr>\n",
       "  </thead>\n",
       "  <tbody>\n",
       "    <tr>\n",
       "      <th>0</th>\n",
       "      <td>550441509175443456</td>\n",
       "      <td>VisualStockRSRC</td>\n",
       "      <td>2015-01-01 00:00:57</td>\n",
       "      <td>lx21 made $10,008  on $AAPL -Check it out! htt...</td>\n",
       "      <td>0</td>\n",
       "      <td>0</td>\n",
       "      <td>1</td>\n",
       "      <td>2015-01-01</td>\n",
       "    </tr>\n",
       "    <tr>\n",
       "      <th>1</th>\n",
       "      <td>550441672312512512</td>\n",
       "      <td>KeralaGuy77</td>\n",
       "      <td>2015-01-01 00:01:36</td>\n",
       "      <td>Insanity of today weirdo massive selling. $aap...</td>\n",
       "      <td>0</td>\n",
       "      <td>0</td>\n",
       "      <td>0</td>\n",
       "      <td>2015-01-01</td>\n",
       "    </tr>\n",
       "  </tbody>\n",
       "</table>\n",
       "</div>"
      ],
      "text/plain": [
       "             tweet_id           writer           post_date  \\\n",
       "0  550441509175443456  VisualStockRSRC 2015-01-01 00:00:57   \n",
       "1  550441672312512512      KeralaGuy77 2015-01-01 00:01:36   \n",
       "\n",
       "                                                body  comment_num  \\\n",
       "0  lx21 made $10,008  on $AAPL -Check it out! htt...            0   \n",
       "1  Insanity of today weirdo massive selling. $aap...            0   \n",
       "\n",
       "   retweet_num  like_num        date  \n",
       "0            0         1  2015-01-01  \n",
       "1            0         0  2015-01-01  "
      ]
     },
     "execution_count": 13,
     "metadata": {},
     "output_type": "execute_result"
    }
   ],
   "source": [
    "tweet['date'] = tweet['post_date'].dt.date\n",
    "tweet.head(2)"
   ]
  },
  {
   "cell_type": "markdown",
   "id": "f6333c59-85c6-44d1-b041-7944a1a05cba",
   "metadata": {},
   "source": [
    "Valores nulos en la tabla \"tweet\":"
   ]
  },
  {
   "cell_type": "code",
   "execution_count": 14,
   "id": "34feb3df",
   "metadata": {
    "tags": []
   },
   "outputs": [
    {
     "data": {
      "text/plain": [
       "tweet_id           0\n",
       "writer         47273\n",
       "post_date          0\n",
       "body               0\n",
       "comment_num        0\n",
       "retweet_num        0\n",
       "like_num           0\n",
       "date               0\n",
       "dtype: int64"
      ]
     },
     "execution_count": 14,
     "metadata": {},
     "output_type": "execute_result"
    }
   ],
   "source": [
    "tweet.isnull().sum()"
   ]
  },
  {
   "cell_type": "markdown",
   "id": "839b94a4-3ca0-4ece-b006-dc4829577b03",
   "metadata": {},
   "source": [
    "Evaluar duplicados de la columna \"tweet_id\" de la tabla \"tweet\":"
   ]
  },
  {
   "cell_type": "code",
   "execution_count": 15,
   "id": "7b2866da-9423-4ab9-8889-0ade5e4e90b5",
   "metadata": {},
   "outputs": [
    {
     "data": {
      "text/plain": [
       "0"
      ]
     },
     "execution_count": 15,
     "metadata": {},
     "output_type": "execute_result"
    }
   ],
   "source": [
    "tweet['tweet_id'].duplicated().sum()"
   ]
  },
  {
   "cell_type": "markdown",
   "id": "795b0148-0e93-4282-b3c7-7e7dced111a4",
   "metadata": {},
   "source": [
    "---\n",
    "### Traer en la tabla \"tweet\" las compañias de las que habla cada tweet por la columna \"tweet_id\":"
   ]
  },
  {
   "cell_type": "markdown",
   "id": "ad120235-1c33-4d15-9dff-68a81f45d2c0",
   "metadata": {},
   "source": [
    "Valores nulos en la tabla \"company_tweet\":"
   ]
  },
  {
   "cell_type": "code",
   "execution_count": 16,
   "id": "f569a526",
   "metadata": {},
   "outputs": [
    {
     "data": {
      "text/plain": [
       "tweet_id         0\n",
       "ticker_symbol    0\n",
       "dtype: int64"
      ]
     },
     "execution_count": 16,
     "metadata": {},
     "output_type": "execute_result"
    }
   ],
   "source": [
    "company_tweet.isnull().sum()"
   ]
  },
  {
   "cell_type": "markdown",
   "id": "95a013bd-556a-4b94-aa20-e02a06dcf1ed",
   "metadata": {},
   "source": [
    "Evaluar duplicados de la columna \"tweet_id\" de la tabla \"company_tweet\":"
   ]
  },
  {
   "cell_type": "code",
   "execution_count": 17,
   "id": "a3b12bb1",
   "metadata": {},
   "outputs": [
    {
     "data": {
      "text/plain": [
       "618481"
      ]
     },
     "execution_count": 17,
     "metadata": {},
     "output_type": "execute_result"
    }
   ],
   "source": [
    "company_tweet.duplicated(subset=['tweet_id']).sum()"
   ]
  },
  {
   "cell_type": "markdown",
   "id": "934e7e0e-4b39-488e-b821-cef9c63260b7",
   "metadata": {},
   "source": [
    "##### Examinar duplicados:"
   ]
  },
  {
   "cell_type": "code",
   "execution_count": 18,
   "id": "1d545cd6-ffa5-4008-80b6-2c828d7eeb12",
   "metadata": {},
   "outputs": [
    {
     "data": {
      "text/html": [
       "<div>\n",
       "<style scoped>\n",
       "    .dataframe tbody tr th:only-of-type {\n",
       "        vertical-align: middle;\n",
       "    }\n",
       "\n",
       "    .dataframe tbody tr th {\n",
       "        vertical-align: top;\n",
       "    }\n",
       "\n",
       "    .dataframe thead th {\n",
       "        text-align: right;\n",
       "    }\n",
       "</style>\n",
       "<table border=\"1\" class=\"dataframe\">\n",
       "  <thead>\n",
       "    <tr style=\"text-align: right;\">\n",
       "      <th></th>\n",
       "      <th>tweet_id</th>\n",
       "      <th>ticker_symbol</th>\n",
       "    </tr>\n",
       "  </thead>\n",
       "  <tbody>\n",
       "    <tr>\n",
       "      <th>1425013</th>\n",
       "      <td>550447850857828352</td>\n",
       "      <td>GOOG</td>\n",
       "    </tr>\n",
       "  </tbody>\n",
       "</table>\n",
       "</div>"
      ],
      "text/plain": [
       "                   tweet_id ticker_symbol\n",
       "1425013  550447850857828352          GOOG"
      ]
     },
     "execution_count": 18,
     "metadata": {},
     "output_type": "execute_result"
    }
   ],
   "source": [
    "company_tweet.loc[company_tweet.duplicated(subset=['tweet_id'])].head(1)"
   ]
  },
  {
   "cell_type": "code",
   "execution_count": 19,
   "id": "9bc9d8a8-a50a-49b5-a765-fc44839975ce",
   "metadata": {},
   "outputs": [
    {
     "data": {
      "text/html": [
       "<div>\n",
       "<style scoped>\n",
       "    .dataframe tbody tr th:only-of-type {\n",
       "        vertical-align: middle;\n",
       "    }\n",
       "\n",
       "    .dataframe tbody tr th {\n",
       "        vertical-align: top;\n",
       "    }\n",
       "\n",
       "    .dataframe thead th {\n",
       "        text-align: right;\n",
       "    }\n",
       "</style>\n",
       "<table border=\"1\" class=\"dataframe\">\n",
       "  <thead>\n",
       "    <tr style=\"text-align: right;\">\n",
       "      <th></th>\n",
       "      <th>tweet_id</th>\n",
       "      <th>ticker_symbol</th>\n",
       "    </tr>\n",
       "  </thead>\n",
       "  <tbody>\n",
       "    <tr>\n",
       "      <th>283</th>\n",
       "      <td>550447850857828352</td>\n",
       "      <td>AAPL</td>\n",
       "    </tr>\n",
       "    <tr>\n",
       "      <th>1425013</th>\n",
       "      <td>550447850857828352</td>\n",
       "      <td>GOOG</td>\n",
       "    </tr>\n",
       "    <tr>\n",
       "      <th>2145152</th>\n",
       "      <td>550447850857828352</td>\n",
       "      <td>AMZN</td>\n",
       "    </tr>\n",
       "    <tr>\n",
       "      <th>3239585</th>\n",
       "      <td>550447850857828352</td>\n",
       "      <td>TSLA</td>\n",
       "    </tr>\n",
       "  </tbody>\n",
       "</table>\n",
       "</div>"
      ],
      "text/plain": [
       "                   tweet_id ticker_symbol\n",
       "283      550447850857828352          AAPL\n",
       "1425013  550447850857828352          GOOG\n",
       "2145152  550447850857828352          AMZN\n",
       "3239585  550447850857828352          TSLA"
      ]
     },
     "execution_count": 19,
     "metadata": {},
     "output_type": "execute_result"
    }
   ],
   "source": [
    "company_tweet.loc[company_tweet['tweet_id'] == 550447850857828352]"
   ]
  },
  {
   "cell_type": "code",
   "execution_count": 20,
   "id": "4df10768-0ea1-459d-94c8-991076bbd8e6",
   "metadata": {},
   "outputs": [
    {
     "data": {
      "text/plain": [
       "array(['Top 10 searched #stocks of #2014 $AAPL $FB $BABA $TSLA $BAC $GOOG $INTC $GE $TWTR $AMZN http://stks.co/g1V5S http://stks.co/h1VAb'],\n",
       "      dtype=object)"
      ]
     },
     "execution_count": 20,
     "metadata": {},
     "output_type": "execute_result"
    }
   ],
   "source": [
    "tweet.loc[tweet['tweet_id'] == 550447850857828352, 'body'].values"
   ]
  },
  {
   "cell_type": "markdown",
   "id": "d5141ec0-e922-4187-8b04-4dcb14b6586c",
   "metadata": {},
   "source": [
    "Los tweets pueden hacer referencia a más de una empresa."
   ]
  },
  {
   "cell_type": "markdown",
   "id": "af502943-6ada-4a4a-a850-bcf7307563ad",
   "metadata": {
    "tags": []
   },
   "source": [
    "#### Agrupar por \"tweet_id\" el \"ticker_symbol\" de las empresas relacionadas:"
   ]
  },
  {
   "cell_type": "code",
   "execution_count": 21,
   "id": "414e0835-2352-41f2-bb95-f5a90c67c523",
   "metadata": {},
   "outputs": [],
   "source": [
    "ticker_symbol_group = company_tweet.groupby('tweet_id')['ticker_symbol'].unique()"
   ]
  },
  {
   "cell_type": "markdown",
   "id": "2c965153-205b-42e0-8b63-a471d8eada02",
   "metadata": {},
   "source": [
    "Renombrar y mostrar la serie:"
   ]
  },
  {
   "cell_type": "code",
   "execution_count": 22,
   "id": "2e19ec66-375a-41a0-9908-c36dfc8be78f",
   "metadata": {},
   "outputs": [
    {
     "data": {
      "text/plain": [
       "tweet_id\n",
       "550441509175443456    [AAPL]\n",
       "550441672312512512    [AAPL]\n",
       "Name: ticker_symbol_group, dtype: object"
      ]
     },
     "execution_count": 22,
     "metadata": {},
     "output_type": "execute_result"
    }
   ],
   "source": [
    "ticker_symbol_group.rename(\"ticker_symbol_group\", inplace=True)\n",
    "ticker_symbol_group.head(2)"
   ]
  },
  {
   "cell_type": "markdown",
   "id": "c9ec008e-3db9-4f21-acbc-e90f37f1e4c3",
   "metadata": {},
   "source": [
    "Realizar combinación mencionada entre la tabla agrupada \"ticker_symbol_group\" y \"tweet\" por la columna \"tweet_id\":"
   ]
  },
  {
   "cell_type": "code",
   "execution_count": 23,
   "id": "cc10b437-16d5-403b-9c5f-70e720edc8a3",
   "metadata": {},
   "outputs": [],
   "source": [
    "tweet = tweet.merge(ticker_symbol_group, how='left',left_on='tweet_id',right_on='tweet_id')"
   ]
  },
  {
   "cell_type": "markdown",
   "id": "377ce16e-f45e-4cd1-abe8-d1ce754a52fa",
   "metadata": {},
   "source": [
    "Revisar el tweet examinado en los duplicados de la tabla \"company_tweet\":"
   ]
  },
  {
   "cell_type": "code",
   "execution_count": 24,
   "id": "9f754768-688b-4ce7-907b-44beeedab715",
   "metadata": {},
   "outputs": [
    {
     "data": {
      "text/html": [
       "<div>\n",
       "<style scoped>\n",
       "    .dataframe tbody tr th:only-of-type {\n",
       "        vertical-align: middle;\n",
       "    }\n",
       "\n",
       "    .dataframe tbody tr th {\n",
       "        vertical-align: top;\n",
       "    }\n",
       "\n",
       "    .dataframe thead th {\n",
       "        text-align: right;\n",
       "    }\n",
       "</style>\n",
       "<table border=\"1\" class=\"dataframe\">\n",
       "  <thead>\n",
       "    <tr style=\"text-align: right;\">\n",
       "      <th></th>\n",
       "      <th>tweet_id</th>\n",
       "      <th>writer</th>\n",
       "      <th>post_date</th>\n",
       "      <th>body</th>\n",
       "      <th>comment_num</th>\n",
       "      <th>retweet_num</th>\n",
       "      <th>like_num</th>\n",
       "      <th>date</th>\n",
       "      <th>ticker_symbol_group</th>\n",
       "    </tr>\n",
       "  </thead>\n",
       "  <tbody>\n",
       "    <tr>\n",
       "      <th>17</th>\n",
       "      <td>550447850857828352</td>\n",
       "      <td>JorelLaraKalel</td>\n",
       "      <td>2015-01-01 00:26:09</td>\n",
       "      <td>Top 10 searched #stocks of #2014 $AAPL $FB $BA...</td>\n",
       "      <td>0</td>\n",
       "      <td>0</td>\n",
       "      <td>2</td>\n",
       "      <td>2015-01-01</td>\n",
       "      <td>[AAPL, GOOG, AMZN, TSLA]</td>\n",
       "    </tr>\n",
       "  </tbody>\n",
       "</table>\n",
       "</div>"
      ],
      "text/plain": [
       "              tweet_id          writer           post_date  \\\n",
       "17  550447850857828352  JorelLaraKalel 2015-01-01 00:26:09   \n",
       "\n",
       "                                                 body  comment_num  \\\n",
       "17  Top 10 searched #stocks of #2014 $AAPL $FB $BA...            0   \n",
       "\n",
       "    retweet_num  like_num        date       ticker_symbol_group  \n",
       "17            0         2  2015-01-01  [AAPL, GOOG, AMZN, TSLA]  "
      ]
     },
     "execution_count": 24,
     "metadata": {},
     "output_type": "execute_result"
    }
   ],
   "source": [
    "tweet.loc[tweet['tweet_id'] == 550447850857828352]"
   ]
  },
  {
   "cell_type": "markdown",
   "id": "774cac14-704a-47f6-9cd8-850cebccbe91",
   "metadata": {},
   "source": [
    "#### Tokenización"
   ]
  },
  {
   "cell_type": "markdown",
   "id": "1d8b9224-6b65-4854-ab9c-a0293a0046ac",
   "metadata": {},
   "source": [
    "Remover los tiker symbol o las URL del cuerpo de los tweets:"
   ]
  },
  {
   "cell_type": "code",
   "execution_count": 25,
   "id": "396f3835-4523-4543-a099-59e16521e9b4",
   "metadata": {},
   "outputs": [],
   "source": [
    "tweet['body_trusted']=tweet['body'].apply(lambda x: re.sub(r'\\$\\S+|http\\S+','',x)) #Remover los ticker symbol o las URL"
   ]
  },
  {
   "cell_type": "markdown",
   "id": "24146572-a3fd-45eb-8856-7c2a04c6267d",
   "metadata": {},
   "source": [
    "Tokenizar:"
   ]
  },
  {
   "cell_type": "code",
   "execution_count": 26,
   "id": "e1d670ba-b577-4e7a-866f-d1b7c7915b41",
   "metadata": {},
   "outputs": [],
   "source": [
    "tweet['body_tokenized'] = tweet['body_trusted'].apply(lambda x: nltk.word_tokenize(str(x)) )"
   ]
  },
  {
   "cell_type": "code",
   "execution_count": 27,
   "id": "58658cdb-7703-4a4e-b086-a0342c839075",
   "metadata": {},
   "outputs": [
    {
     "name": "stdout",
     "output_type": "stream",
     "text": [
      "Stopwords length: 179\n",
      "Stopwords: {'its', 'ma', 'them', \"needn't\", 'if', 'other', 'hers', \"you're\", 'an', 'than', 'itself', 'there', 'is', 'when', 'where', \"wouldn't\", 'she', 'any', 'me', 'weren', 'has', 'having', \"you'd\", \"she's\", 'own', 'you', 'myself', 'as', 'needn', \"doesn't\", 'some', 've', 'off', 'down', 'no', 'and', 'just', 'being', 'we', 'more', 'with', 'between', 'the', 'am', 'themselves', 'into', 'on', 'such', 'further', 'during', 'should', 'aren', \"shouldn't\", 'in', 'shouldn', 'wouldn', 'hasn', 'o', 'then', 'ours', 'doing', 'herself', 'at', 'a', 'same', 'himself', 'too', 're', 'again', \"weren't\", \"didn't\", 'few', 'y', 'him', \"mustn't\", 'her', 'do', 'once', 'who', 'haven', \"hasn't\", 'it', 'not', 'here', 'of', 'mightn', 'only', 'how', 'this', \"mightn't\", 'are', 'why', 'he', 'm', 'to', 'does', \"isn't\", 't', 'been', \"that'll\", 'don', 'which', 'most', 'they', 'under', 'up', 'had', \"couldn't\", 's', 'have', 'over', 'his', 'can', \"wasn't\", 'after', 'theirs', 'these', 'won', \"hadn't\", 'my', 'each', 'but', 'ourselves', 'what', \"won't\", 'through', 'mustn', 'so', 'below', 'against', 'did', 'doesn', 'our', 'nor', 'll', 'their', 'was', \"don't\", 'before', 'yourselves', 'or', 'be', 'didn', 'wasn', \"you've\", 'yourself', 'ain', 'for', 'those', \"you'll\", 'were', 'd', 'because', 'couldn', \"shan't\", 'whom', 'until', 'from', 'now', 'out', 'yours', 'isn', 'that', 'by', 'hadn', 'will', 'shan', 'all', 'about', \"should've\", 'very', \"haven't\", 'your', 'both', 'while', \"it's\", \"aren't\", 'i', 'above'}\n"
     ]
    }
   ],
   "source": [
    "# stopwords en nltk\n",
    "stop_words_nltk = set(stopwords.words('english'))\n",
    "print(f'Stopwords length: {len(stop_words_nltk)}')\n",
    "print(f'Stopwords: {stop_words_nltk}')"
   ]
  },
  {
   "cell_type": "markdown",
   "id": "f5f42314-ee0c-4f69-ab88-40b97d81deb0",
   "metadata": {},
   "source": [
    "Refinar los tokens:"
   ]
  },
  {
   "cell_type": "code",
   "execution_count": 28,
   "id": "ed6ff0b3-e890-4379-8bc9-441eaeb93076",
   "metadata": {},
   "outputs": [],
   "source": [
    "# ELIMINAR caracteres que no pertenezcal al alfabeto\n",
    "# TRANFORMAR tokens a minuscula y ELIMINAR tokens de long = 1\n",
    "# REMOVER stop words\n",
    "tweet['body_refined']=tweet['body_tokenized'] #Crear columna igual a \"body_tokenized\"\n",
    "tweet['body_refined']=tweet['body_refined'].apply(lambda tokens: [w for w in tokens if w.isalpha()] ) #alphabet letters\n",
    "tweet['body_refined']=tweet['body_refined'].apply(lambda tokens: [w.lower() for w in tokens if len(w)>1] ) #lower and len > 1\n",
    "tweet['body_refined']=tweet['body_refined'].apply(lambda tokens: [w for w in tokens if w not in stop_words_nltk] ) #not stop word"
   ]
  },
  {
   "cell_type": "code",
   "execution_count": null,
   "id": "c1c48794-07e0-436f-b6b7-95c06509fa2c",
   "metadata": {},
   "outputs": [],
   "source": []
  },
  {
   "cell_type": "markdown",
   "id": "8ee3fde0-1c16-4a31-af58-04b0b87b74ba",
   "metadata": {},
   "source": [
    "Examinar algún tweet refinado:"
   ]
  },
  {
   "cell_type": "code",
   "execution_count": 29,
   "id": "d77ef465-c37e-4865-8383-6bfdcb218703",
   "metadata": {},
   "outputs": [
    {
     "data": {
      "text/plain": [
       "('Swing Trading: Up To 8.91% Return In 14 Days http://ow.ly/GDkrL #swingtrading #forecast #techstock $MWW $AAPL $TSLA',\n",
       " ['swing',\n",
       "  'trading',\n",
       "  'return',\n",
       "  'days',\n",
       "  'swingtrading',\n",
       "  'forecast',\n",
       "  'techstock'])"
      ]
     },
     "execution_count": 29,
     "metadata": {},
     "output_type": "execute_result"
    }
   ],
   "source": [
    "tweet.loc[5].at['body'], tweet.loc[5].at['body_refined']"
   ]
  },
  {
   "cell_type": "code",
   "execution_count": null,
   "id": "3c402e6a-630c-4dd5-8271-7d2cca54504c",
   "metadata": {},
   "outputs": [],
   "source": []
  },
  {
   "cell_type": "code",
   "execution_count": 30,
   "id": "5b79f4ed-30c3-4b3b-9b2c-a2fb8c44cda2",
   "metadata": {},
   "outputs": [
    {
     "data": {
      "text/html": [
       "<div>\n",
       "<style scoped>\n",
       "    .dataframe tbody tr th:only-of-type {\n",
       "        vertical-align: middle;\n",
       "    }\n",
       "\n",
       "    .dataframe tbody tr th {\n",
       "        vertical-align: top;\n",
       "    }\n",
       "\n",
       "    .dataframe thead th {\n",
       "        text-align: right;\n",
       "    }\n",
       "</style>\n",
       "<table border=\"1\" class=\"dataframe\">\n",
       "  <thead>\n",
       "    <tr style=\"text-align: right;\">\n",
       "      <th></th>\n",
       "      <th>tweet_id</th>\n",
       "      <th>writer</th>\n",
       "      <th>post_date</th>\n",
       "      <th>body</th>\n",
       "      <th>comment_num</th>\n",
       "      <th>retweet_num</th>\n",
       "      <th>like_num</th>\n",
       "      <th>date</th>\n",
       "      <th>ticker_symbol_group</th>\n",
       "      <th>body_trusted</th>\n",
       "      <th>body_tokenized</th>\n",
       "      <th>body_refined</th>\n",
       "    </tr>\n",
       "  </thead>\n",
       "  <tbody>\n",
       "    <tr>\n",
       "      <th>0</th>\n",
       "      <td>550441509175443456</td>\n",
       "      <td>VisualStockRSRC</td>\n",
       "      <td>2015-01-01 00:00:57</td>\n",
       "      <td>lx21 made $10,008  on $AAPL -Check it out! htt...</td>\n",
       "      <td>0</td>\n",
       "      <td>0</td>\n",
       "      <td>1</td>\n",
       "      <td>2015-01-01</td>\n",
       "      <td>[AAPL]</td>\n",
       "      <td>lx21 made   on  -Check it out!  Learn #howtotr...</td>\n",
       "      <td>[lx21, made, on, -Check, it, out, !, Learn, #,...</td>\n",
       "      <td>[made, learn, howtotrade]</td>\n",
       "    </tr>\n",
       "    <tr>\n",
       "      <th>1</th>\n",
       "      <td>550441672312512512</td>\n",
       "      <td>KeralaGuy77</td>\n",
       "      <td>2015-01-01 00:01:36</td>\n",
       "      <td>Insanity of today weirdo massive selling. $aap...</td>\n",
       "      <td>0</td>\n",
       "      <td>0</td>\n",
       "      <td>0</td>\n",
       "      <td>2015-01-01</td>\n",
       "      <td>[AAPL]</td>\n",
       "      <td>Insanity of today weirdo massive selling.  bid...</td>\n",
       "      <td>[Insanity, of, today, weirdo, massive, selling...</td>\n",
       "      <td>[insanity, today, weirdo, massive, selling, bi...</td>\n",
       "    </tr>\n",
       "  </tbody>\n",
       "</table>\n",
       "</div>"
      ],
      "text/plain": [
       "             tweet_id           writer           post_date  \\\n",
       "0  550441509175443456  VisualStockRSRC 2015-01-01 00:00:57   \n",
       "1  550441672312512512      KeralaGuy77 2015-01-01 00:01:36   \n",
       "\n",
       "                                                body  comment_num  \\\n",
       "0  lx21 made $10,008  on $AAPL -Check it out! htt...            0   \n",
       "1  Insanity of today weirdo massive selling. $aap...            0   \n",
       "\n",
       "   retweet_num  like_num        date ticker_symbol_group  \\\n",
       "0            0         1  2015-01-01              [AAPL]   \n",
       "1            0         0  2015-01-01              [AAPL]   \n",
       "\n",
       "                                        body_trusted  \\\n",
       "0  lx21 made   on  -Check it out!  Learn #howtotr...   \n",
       "1  Insanity of today weirdo massive selling.  bid...   \n",
       "\n",
       "                                      body_tokenized  \\\n",
       "0  [lx21, made, on, -Check, it, out, !, Learn, #,...   \n",
       "1  [Insanity, of, today, weirdo, massive, selling...   \n",
       "\n",
       "                                        body_refined  \n",
       "0                          [made, learn, howtotrade]  \n",
       "1  [insanity, today, weirdo, massive, selling, bi...  "
      ]
     },
     "execution_count": 30,
     "metadata": {},
     "output_type": "execute_result"
    }
   ],
   "source": [
    "tweet.head(2)"
   ]
  },
  {
   "cell_type": "markdown",
   "id": "af6c1913-c9b1-4dda-b70d-e7b44cf27393",
   "metadata": {},
   "source": [
    "Lemmatizar los tokens:"
   ]
  },
  {
   "cell_type": "code",
   "execution_count": 31,
   "id": "c7ab08fa-2937-4bad-bb74-67306e8fc70a",
   "metadata": {},
   "outputs": [],
   "source": [
    "# Lemmatization con NLTK\n",
    "from nltk.stem import WordNetLemmatizer\n",
    "wordnet_lemmatizer = WordNetLemmatizer()"
   ]
  },
  {
   "cell_type": "code",
   "execution_count": 32,
   "id": "0aeecfac-ebb4-4475-af68-6db38d3695f2",
   "metadata": {},
   "outputs": [],
   "source": [
    "tweet['lemmatized_tokens']=tweet['body_refined'].apply(lambda tokens: [wordnet_lemmatizer.lemmatize(w) for w in tokens] )"
   ]
  },
  {
   "cell_type": "markdown",
   "id": "d5bd3479-7d26-4aa9-8eb0-080ee3d0e57d",
   "metadata": {},
   "source": [
    "Concatenar los tokens preparados:"
   ]
  },
  {
   "cell_type": "code",
   "execution_count": 33,
   "id": "c56cbaf1-4675-4b0e-8f86-e9661551a443",
   "metadata": {},
   "outputs": [],
   "source": [
    "tweet['clean_tweet'] = tweet['lemmatized_tokens'].apply(lambda tokens: ' '.join(tokens))"
   ]
  },
  {
   "cell_type": "code",
   "execution_count": 34,
   "id": "095e9c85-0d0e-405d-a04a-b61c4a7985ba",
   "metadata": {},
   "outputs": [
    {
     "data": {
      "text/plain": [
       "0                                made learn howtotrade\n",
       "1    insanity today weirdo massive selling bid cent...\n",
       "2                                    stock performance\n",
       "3    volkswagen push record recall tally higher pro...\n",
       "4    swing trading return day swingtrading forecast...\n",
       "Name: clean_tweet, dtype: object"
      ]
     },
     "execution_count": 34,
     "metadata": {},
     "output_type": "execute_result"
    }
   ],
   "source": [
    "tweet['clean_tweet'].head()"
   ]
  },
  {
   "cell_type": "markdown",
   "id": "8ab70857-e626-4974-83af-09e24d3b8658",
   "metadata": {},
   "source": [
    "#### Análisis de sentimientos:"
   ]
  },
  {
   "cell_type": "code",
   "execution_count": 35,
   "id": "caf2b3e5-0afe-4f77-9180-2d8f8f1ce390",
   "metadata": {},
   "outputs": [
    {
     "name": "stderr",
     "output_type": "stream",
     "text": [
      "[nltk_data] Downloading package vader_lexicon to\n",
      "[nltk_data]     C:\\Users\\USUARIO\\AppData\\Roaming\\nltk_data...\n",
      "[nltk_data]   Package vader_lexicon is already up-to-date!\n"
     ]
    },
    {
     "data": {
      "text/plain": [
       "True"
      ]
     },
     "execution_count": 35,
     "metadata": {},
     "output_type": "execute_result"
    }
   ],
   "source": [
    "from nltk.sentiment.vader import SentimentIntensityAnalyzer\n",
    "nltk.download('vader_lexicon')"
   ]
  },
  {
   "cell_type": "code",
   "execution_count": 36,
   "id": "76640dec-0e2c-4b47-b849-1f632447db96",
   "metadata": {},
   "outputs": [
    {
     "data": {
      "text/plain": [
       "3717964"
      ]
     },
     "execution_count": 36,
     "metadata": {},
     "output_type": "execute_result"
    }
   ],
   "source": [
    "len(tweet)"
   ]
  },
  {
   "cell_type": "code",
   "execution_count": 37,
   "id": "8b270cda-2ad7-45e1-a47d-1af99f0be441",
   "metadata": {},
   "outputs": [],
   "source": [
    "tweet['score_vader'] = tweet['clean_tweet'].apply(lambda c: SentimentIntensityAnalyzer().polarity_scores(c)['compound'])"
   ]
  },
  {
   "cell_type": "code",
   "execution_count": 38,
   "id": "a02f6ea4-5d1e-4a86-904f-746bee3a49a8",
   "metadata": {},
   "outputs": [
    {
     "data": {
      "text/plain": [
       "0    0.0000\n",
       "1   -0.8271\n",
       "2    0.0000\n",
       "3    0.0000\n",
       "4    0.0000\n",
       "Name: score_vader, dtype: float64"
      ]
     },
     "execution_count": 38,
     "metadata": {},
     "output_type": "execute_result"
    }
   ],
   "source": [
    "tweet['score_vader'].head()"
   ]
  },
  {
   "cell_type": "code",
   "execution_count": 39,
   "id": "01a616c1-875e-4306-8594-3c06aa17fa3c",
   "metadata": {},
   "outputs": [],
   "source": [
    "conditions = [\n",
    "    (tweet[\"score_vader\"] >= .05),\n",
    "    (tweet[\"score_vader\"] > -.05) & (tweet[\"score_vader\"] < .05),\n",
    "    (tweet[\"score_vader\"] <= -.05),\n",
    "]\n",
    "\n",
    "choices = ['positive', 'neutral', 'negative']\n",
    "\n",
    "tweet['sentiment'] = np.select(conditions, choices)"
   ]
  },
  {
   "cell_type": "code",
   "execution_count": 40,
   "id": "af97f881-5007-496d-97e7-1400e4675eed",
   "metadata": {},
   "outputs": [
    {
     "data": {
      "text/plain": [
       "positive    1555315\n",
       "neutral     1528212\n",
       "negative     634437\n",
       "Name: sentiment, dtype: int64"
      ]
     },
     "execution_count": 40,
     "metadata": {},
     "output_type": "execute_result"
    }
   ],
   "source": [
    "tweet['sentiment'].value_counts()"
   ]
  },
  {
   "cell_type": "markdown",
   "id": "cd98e66a-bda8-4ddc-8525-15780dd219c5",
   "metadata": {},
   "source": [
    "#### Observar datos"
   ]
  },
  {
   "cell_type": "code",
   "execution_count": 41,
   "id": "14b94fb5-2c00-4087-bfe4-9acb391694aa",
   "metadata": {},
   "outputs": [
    {
     "data": {
      "text/html": [
       "<div>\n",
       "<style scoped>\n",
       "    .dataframe tbody tr th:only-of-type {\n",
       "        vertical-align: middle;\n",
       "    }\n",
       "\n",
       "    .dataframe tbody tr th {\n",
       "        vertical-align: top;\n",
       "    }\n",
       "\n",
       "    .dataframe thead th {\n",
       "        text-align: right;\n",
       "    }\n",
       "</style>\n",
       "<table border=\"1\" class=\"dataframe\">\n",
       "  <thead>\n",
       "    <tr style=\"text-align: right;\">\n",
       "      <th></th>\n",
       "      <th>tweet_id</th>\n",
       "      <th>writer</th>\n",
       "      <th>post_date</th>\n",
       "      <th>body</th>\n",
       "      <th>comment_num</th>\n",
       "      <th>retweet_num</th>\n",
       "      <th>like_num</th>\n",
       "      <th>date</th>\n",
       "      <th>ticker_symbol_group</th>\n",
       "      <th>body_trusted</th>\n",
       "      <th>body_tokenized</th>\n",
       "      <th>body_refined</th>\n",
       "      <th>lemmatized_tokens</th>\n",
       "      <th>clean_tweet</th>\n",
       "      <th>score_vader</th>\n",
       "      <th>sentiment</th>\n",
       "    </tr>\n",
       "  </thead>\n",
       "  <tbody>\n",
       "    <tr>\n",
       "      <th>0</th>\n",
       "      <td>550441509175443456</td>\n",
       "      <td>VisualStockRSRC</td>\n",
       "      <td>2015-01-01 00:00:57</td>\n",
       "      <td>lx21 made $10,008  on $AAPL -Check it out! htt...</td>\n",
       "      <td>0</td>\n",
       "      <td>0</td>\n",
       "      <td>1</td>\n",
       "      <td>2015-01-01</td>\n",
       "      <td>[AAPL]</td>\n",
       "      <td>lx21 made   on  -Check it out!  Learn #howtotr...</td>\n",
       "      <td>[lx21, made, on, -Check, it, out, !, Learn, #,...</td>\n",
       "      <td>[made, learn, howtotrade]</td>\n",
       "      <td>[made, learn, howtotrade]</td>\n",
       "      <td>made learn howtotrade</td>\n",
       "      <td>0.0000</td>\n",
       "      <td>neutral</td>\n",
       "    </tr>\n",
       "    <tr>\n",
       "      <th>1</th>\n",
       "      <td>550441672312512512</td>\n",
       "      <td>KeralaGuy77</td>\n",
       "      <td>2015-01-01 00:01:36</td>\n",
       "      <td>Insanity of today weirdo massive selling. $aap...</td>\n",
       "      <td>0</td>\n",
       "      <td>0</td>\n",
       "      <td>0</td>\n",
       "      <td>2015-01-01</td>\n",
       "      <td>[AAPL]</td>\n",
       "      <td>Insanity of today weirdo massive selling.  bid...</td>\n",
       "      <td>[Insanity, of, today, weirdo, massive, selling...</td>\n",
       "      <td>[insanity, today, weirdo, massive, selling, bi...</td>\n",
       "      <td>[insanity, today, weirdo, massive, selling, bi...</td>\n",
       "      <td>insanity today weirdo massive selling bid cent...</td>\n",
       "      <td>-0.8271</td>\n",
       "      <td>negative</td>\n",
       "    </tr>\n",
       "  </tbody>\n",
       "</table>\n",
       "</div>"
      ],
      "text/plain": [
       "             tweet_id           writer           post_date  \\\n",
       "0  550441509175443456  VisualStockRSRC 2015-01-01 00:00:57   \n",
       "1  550441672312512512      KeralaGuy77 2015-01-01 00:01:36   \n",
       "\n",
       "                                                body  comment_num  \\\n",
       "0  lx21 made $10,008  on $AAPL -Check it out! htt...            0   \n",
       "1  Insanity of today weirdo massive selling. $aap...            0   \n",
       "\n",
       "   retweet_num  like_num        date ticker_symbol_group  \\\n",
       "0            0         1  2015-01-01              [AAPL]   \n",
       "1            0         0  2015-01-01              [AAPL]   \n",
       "\n",
       "                                        body_trusted  \\\n",
       "0  lx21 made   on  -Check it out!  Learn #howtotr...   \n",
       "1  Insanity of today weirdo massive selling.  bid...   \n",
       "\n",
       "                                      body_tokenized  \\\n",
       "0  [lx21, made, on, -Check, it, out, !, Learn, #,...   \n",
       "1  [Insanity, of, today, weirdo, massive, selling...   \n",
       "\n",
       "                                        body_refined  \\\n",
       "0                          [made, learn, howtotrade]   \n",
       "1  [insanity, today, weirdo, massive, selling, bi...   \n",
       "\n",
       "                                   lemmatized_tokens  \\\n",
       "0                          [made, learn, howtotrade]   \n",
       "1  [insanity, today, weirdo, massive, selling, bi...   \n",
       "\n",
       "                                         clean_tweet  score_vader sentiment  \n",
       "0                              made learn howtotrade       0.0000   neutral  \n",
       "1  insanity today weirdo massive selling bid cent...      -0.8271  negative  "
      ]
     },
     "execution_count": 41,
     "metadata": {},
     "output_type": "execute_result"
    }
   ],
   "source": [
    "tweet.head(2)"
   ]
  },
  {
   "cell_type": "markdown",
   "id": "1188dc97-33cd-4829-bd3c-1b12923bd467",
   "metadata": {},
   "source": [
    "#### Calcular total engagement:"
   ]
  },
  {
   "cell_type": "code",
   "execution_count": 45,
   "id": "1bc166ab-2f98-49e7-bea1-fc8aa46a8979",
   "metadata": {},
   "outputs": [],
   "source": [
    "tweet['total_engagement']=tweet['comment_num']+tweet['retweet_num']+tweet['like_num']"
   ]
  },
  {
   "cell_type": "markdown",
   "id": "f611e303-bcf9-4a63-9420-4be4636c1de7",
   "metadata": {},
   "source": [
    "---\n",
    "#### Exportar datos a la zona trusted"
   ]
  },
  {
   "cell_type": "code",
   "execution_count": 46,
   "id": "44fd356a-6283-4d31-b46b-277a294ae6df",
   "metadata": {},
   "outputs": [],
   "source": [
    "tweet.to_csv('trusted/data.csv',index=False)"
   ]
  },
  {
   "cell_type": "code",
   "execution_count": 47,
   "id": "ce06d574-9cd1-418f-942d-ed702dcce6f2",
   "metadata": {},
   "outputs": [
    {
     "data": {
      "text/plain": [
       "(3717964, 17)"
      ]
     },
     "execution_count": 47,
     "metadata": {},
     "output_type": "execute_result"
    }
   ],
   "source": [
    "tweet.shape"
   ]
  },
  {
   "cell_type": "code",
   "execution_count": null,
   "id": "89dbd616-382b-4dcc-9fde-52b3718ab9a4",
   "metadata": {},
   "outputs": [],
   "source": []
  },
  {
   "cell_type": "markdown",
   "id": "ac1e79e4-9f35-4feb-8c35-8797ef253696",
   "metadata": {},
   "source": [
    "#### Webgrafías de interés:\n",
    "* https://aws.amazon.com/es/premiumsupport/knowledge-center/glue-version2-external-python-libraries/\n",
    "* https://mungingdata.com/pyspark/column-to-list-collect-tolocaliterator/\n",
    "* https://stackoverflow.com/questions/54373335/aws-glue-crawler-cannot-extract-csv-headers\n",
    "* https://jakevdp.github.io/PythonDataScienceHandbook/04.14-visualization-with-seaborn.html\n",
    "* https://towardsdatascience.com/how-tf-idf-works-3dbf35e568f0\n",
    "* https://www.datacamp.com/community/tutorials/recommender-systems-python\n",
    "* https://intellica-ai.medium.com/comparison-of-different-word-embeddings-on-text-similarity-a-use-case-in-nlp-e83e08469c1c"
   ]
  }
 ],
 "metadata": {
  "kernelspec": {
   "display_name": "Python 3 (ipykernel)",
   "language": "python",
   "name": "python3"
  },
  "language_info": {
   "codemirror_mode": {
    "name": "ipython",
    "version": 3
   },
   "file_extension": ".py",
   "mimetype": "text/x-python",
   "name": "python",
   "nbconvert_exporter": "python",
   "pygments_lexer": "ipython3",
   "version": "3.9.5"
  }
 },
 "nbformat": 4,
 "nbformat_minor": 5
}
