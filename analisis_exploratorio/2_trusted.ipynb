{
 "cells": [
  {
   "cell_type": "markdown",
   "id": "67f1721c-9516-4989-8b35-c56082466657",
   "metadata": {},
   "source": [
    "# Proyecto integrador I - Trusted\n",
    "---\n",
    "Presentado por:\n",
    "* Karla Orozco\n",
    "* Jonathan zapata\n",
    "* Juan Fernando Gallego"
   ]
  },
  {
   "cell_type": "markdown",
   "id": "d3261e46-f0a2-4836-aa87-02c07ef01c87",
   "metadata": {},
   "source": [
    "---\n",
    "### Importar librerías"
   ]
  },
  {
   "cell_type": "code",
   "execution_count": 2,
   "id": "5723612f-39d5-49d9-b631-2d4ae9f36365",
   "metadata": {
    "tags": []
   },
   "outputs": [],
   "source": [
    "import numpy as np\n",
    "import pandas as pd\n",
    "import matplotlib.pyplot as plt\n",
    "import seaborn as sns"
   ]
  },
  {
   "cell_type": "code",
   "execution_count": 3,
   "id": "057aad61-3cc4-4d47-95db-82fc169678cb",
   "metadata": {},
   "outputs": [],
   "source": [
    "#Remover formato cientifíco\n",
    "pd.options.display.float_format = '{:.3f}'.format"
   ]
  },
  {
   "cell_type": "markdown",
   "id": "59bc0ff8-13b5-4c4a-b9f1-2a2a3eefb7bf",
   "metadata": {},
   "source": [
    "---\n",
    "### Cargar datos"
   ]
  },
  {
   "cell_type": "code",
   "execution_count": 4,
   "id": "62252505-9afb-4981-ba42-59e155b1baaf",
   "metadata": {},
   "outputs": [],
   "source": [
    "data = pd.read_csv('trusted/data.csv')"
   ]
  },
  {
   "cell_type": "code",
   "execution_count": 5,
   "id": "8fadadac-c339-490d-8951-3b5db0e3053f",
   "metadata": {},
   "outputs": [],
   "source": [
    "company = pd.read_csv('raw/Company.csv')"
   ]
  },
  {
   "cell_type": "markdown",
   "id": "5cfd6b17-f7ef-4ccf-826e-316a84abf145",
   "metadata": {},
   "source": [
    "### Observar datos"
   ]
  },
  {
   "cell_type": "code",
   "execution_count": 6,
   "id": "39159057-4824-4fbc-9ee1-018e1a8a831d",
   "metadata": {},
   "outputs": [
    {
     "data": {
      "text/plain": [
       "(3717964, 17)"
      ]
     },
     "execution_count": 6,
     "metadata": {},
     "output_type": "execute_result"
    }
   ],
   "source": [
    "data.shape"
   ]
  },
  {
   "cell_type": "code",
   "execution_count": 7,
   "id": "df5117ed-e221-4fbc-8029-4d42a9219565",
   "metadata": {},
   "outputs": [
    {
     "data": {
      "text/html": [
       "<div>\n",
       "<style scoped>\n",
       "    .dataframe tbody tr th:only-of-type {\n",
       "        vertical-align: middle;\n",
       "    }\n",
       "\n",
       "    .dataframe tbody tr th {\n",
       "        vertical-align: top;\n",
       "    }\n",
       "\n",
       "    .dataframe thead th {\n",
       "        text-align: right;\n",
       "    }\n",
       "</style>\n",
       "<table border=\"1\" class=\"dataframe\">\n",
       "  <thead>\n",
       "    <tr style=\"text-align: right;\">\n",
       "      <th></th>\n",
       "      <th>tweet_id</th>\n",
       "      <th>writer</th>\n",
       "      <th>post_date</th>\n",
       "      <th>body</th>\n",
       "      <th>comment_num</th>\n",
       "      <th>retweet_num</th>\n",
       "      <th>like_num</th>\n",
       "      <th>date</th>\n",
       "      <th>ticker_symbol_group</th>\n",
       "      <th>body_trusted</th>\n",
       "      <th>body_tokenized</th>\n",
       "      <th>body_refined</th>\n",
       "      <th>lemmatized_tokens</th>\n",
       "      <th>clean_tweet</th>\n",
       "      <th>score_vader</th>\n",
       "      <th>sentiment</th>\n",
       "      <th>total_engagement</th>\n",
       "    </tr>\n",
       "  </thead>\n",
       "  <tbody>\n",
       "    <tr>\n",
       "      <th>0</th>\n",
       "      <td>550441509175443456</td>\n",
       "      <td>VisualStockRSRC</td>\n",
       "      <td>2015-01-01 00:00:57</td>\n",
       "      <td>lx21 made $10,008  on $AAPL -Check it out! htt...</td>\n",
       "      <td>0</td>\n",
       "      <td>0</td>\n",
       "      <td>1</td>\n",
       "      <td>2015-01-01</td>\n",
       "      <td>['AAPL']</td>\n",
       "      <td>lx21 made   on  -Check it out!  Learn #howtotr...</td>\n",
       "      <td>['lx21', 'made', 'on', '-Check', 'it', 'out', ...</td>\n",
       "      <td>['made', 'learn', 'howtotrade']</td>\n",
       "      <td>['made', 'learn', 'howtotrade']</td>\n",
       "      <td>made learn howtotrade</td>\n",
       "      <td>0.000</td>\n",
       "      <td>neutral</td>\n",
       "      <td>1</td>\n",
       "    </tr>\n",
       "    <tr>\n",
       "      <th>1</th>\n",
       "      <td>550441672312512512</td>\n",
       "      <td>KeralaGuy77</td>\n",
       "      <td>2015-01-01 00:01:36</td>\n",
       "      <td>Insanity of today weirdo massive selling. $aap...</td>\n",
       "      <td>0</td>\n",
       "      <td>0</td>\n",
       "      <td>0</td>\n",
       "      <td>2015-01-01</td>\n",
       "      <td>['AAPL']</td>\n",
       "      <td>Insanity of today weirdo massive selling.  bid...</td>\n",
       "      <td>['Insanity', 'of', 'today', 'weirdo', 'massive...</td>\n",
       "      <td>['insanity', 'today', 'weirdo', 'massive', 'se...</td>\n",
       "      <td>['insanity', 'today', 'weirdo', 'massive', 'se...</td>\n",
       "      <td>insanity today weirdo massive selling bid cent...</td>\n",
       "      <td>-0.827</td>\n",
       "      <td>negative</td>\n",
       "      <td>0</td>\n",
       "    </tr>\n",
       "  </tbody>\n",
       "</table>\n",
       "</div>"
      ],
      "text/plain": [
       "             tweet_id           writer            post_date  \\\n",
       "0  550441509175443456  VisualStockRSRC  2015-01-01 00:00:57   \n",
       "1  550441672312512512      KeralaGuy77  2015-01-01 00:01:36   \n",
       "\n",
       "                                                body  comment_num  \\\n",
       "0  lx21 made $10,008  on $AAPL -Check it out! htt...            0   \n",
       "1  Insanity of today weirdo massive selling. $aap...            0   \n",
       "\n",
       "   retweet_num  like_num        date ticker_symbol_group  \\\n",
       "0            0         1  2015-01-01            ['AAPL']   \n",
       "1            0         0  2015-01-01            ['AAPL']   \n",
       "\n",
       "                                        body_trusted  \\\n",
       "0  lx21 made   on  -Check it out!  Learn #howtotr...   \n",
       "1  Insanity of today weirdo massive selling.  bid...   \n",
       "\n",
       "                                      body_tokenized  \\\n",
       "0  ['lx21', 'made', 'on', '-Check', 'it', 'out', ...   \n",
       "1  ['Insanity', 'of', 'today', 'weirdo', 'massive...   \n",
       "\n",
       "                                        body_refined  \\\n",
       "0                    ['made', 'learn', 'howtotrade']   \n",
       "1  ['insanity', 'today', 'weirdo', 'massive', 'se...   \n",
       "\n",
       "                                   lemmatized_tokens  \\\n",
       "0                    ['made', 'learn', 'howtotrade']   \n",
       "1  ['insanity', 'today', 'weirdo', 'massive', 'se...   \n",
       "\n",
       "                                         clean_tweet  score_vader sentiment  \\\n",
       "0                              made learn howtotrade        0.000   neutral   \n",
       "1  insanity today weirdo massive selling bid cent...       -0.827  negative   \n",
       "\n",
       "   total_engagement  \n",
       "0                 1  \n",
       "1                 0  "
      ]
     },
     "execution_count": 7,
     "metadata": {},
     "output_type": "execute_result"
    }
   ],
   "source": [
    "data.head(2)"
   ]
  },
  {
   "cell_type": "markdown",
   "id": "ac4c01f3-d735-4c4a-9256-126ba422d673",
   "metadata": {},
   "source": [
    "### Organizar formato a las columnas"
   ]
  },
  {
   "cell_type": "code",
   "execution_count": 8,
   "id": "348a406d-a6c0-499a-ac33-32f4176b3e62",
   "metadata": {},
   "outputs": [],
   "source": [
    "data['date']=pd.to_datetime(data['date']).dt.date"
   ]
  },
  {
   "cell_type": "code",
   "execution_count": 9,
   "id": "432fbb77-7d11-4012-87e0-ce0cee27040b",
   "metadata": {},
   "outputs": [],
   "source": [
    "from ast import literal_eval"
   ]
  },
  {
   "cell_type": "code",
   "execution_count": 10,
   "id": "3f977608-977c-4874-9df8-4f4e837be123",
   "metadata": {},
   "outputs": [],
   "source": [
    "data['ticker_symbol_group']=data['ticker_symbol_group'].apply(lambda x: literal_eval(x.replace(' ', ',')))"
   ]
  },
  {
   "cell_type": "markdown",
   "id": "c26f7209-ca00-4d45-836c-76199ae40570",
   "metadata": {},
   "source": [
    "#### Seleccionar columnas de interés"
   ]
  },
  {
   "cell_type": "code",
   "execution_count": 11,
   "id": "c97fc74b-1310-4e1c-9ed9-712ed03f1830",
   "metadata": {},
   "outputs": [],
   "source": [
    "data=data[['date','total_engagement','ticker_symbol_group','lemmatized_tokens','clean_tweet','score_vader','sentiment']].copy()"
   ]
  },
  {
   "cell_type": "code",
   "execution_count": 12,
   "id": "f7c3809d-05e3-442c-bc96-4176c6c4e227",
   "metadata": {},
   "outputs": [
    {
     "data": {
      "text/html": [
       "<div>\n",
       "<style scoped>\n",
       "    .dataframe tbody tr th:only-of-type {\n",
       "        vertical-align: middle;\n",
       "    }\n",
       "\n",
       "    .dataframe tbody tr th {\n",
       "        vertical-align: top;\n",
       "    }\n",
       "\n",
       "    .dataframe thead th {\n",
       "        text-align: right;\n",
       "    }\n",
       "</style>\n",
       "<table border=\"1\" class=\"dataframe\">\n",
       "  <thead>\n",
       "    <tr style=\"text-align: right;\">\n",
       "      <th></th>\n",
       "      <th>date</th>\n",
       "      <th>total_engagement</th>\n",
       "      <th>ticker_symbol_group</th>\n",
       "      <th>lemmatized_tokens</th>\n",
       "      <th>clean_tweet</th>\n",
       "      <th>score_vader</th>\n",
       "      <th>sentiment</th>\n",
       "    </tr>\n",
       "  </thead>\n",
       "  <tbody>\n",
       "    <tr>\n",
       "      <th>0</th>\n",
       "      <td>2015-01-01</td>\n",
       "      <td>1</td>\n",
       "      <td>[AAPL]</td>\n",
       "      <td>['made', 'learn', 'howtotrade']</td>\n",
       "      <td>made learn howtotrade</td>\n",
       "      <td>0.000</td>\n",
       "      <td>neutral</td>\n",
       "    </tr>\n",
       "    <tr>\n",
       "      <th>1</th>\n",
       "      <td>2015-01-01</td>\n",
       "      <td>0</td>\n",
       "      <td>[AAPL]</td>\n",
       "      <td>['insanity', 'today', 'weirdo', 'massive', 'se...</td>\n",
       "      <td>insanity today weirdo massive selling bid cent...</td>\n",
       "      <td>-0.827</td>\n",
       "      <td>negative</td>\n",
       "    </tr>\n",
       "  </tbody>\n",
       "</table>\n",
       "</div>"
      ],
      "text/plain": [
       "         date  total_engagement ticker_symbol_group  \\\n",
       "0  2015-01-01                 1              [AAPL]   \n",
       "1  2015-01-01                 0              [AAPL]   \n",
       "\n",
       "                                   lemmatized_tokens  \\\n",
       "0                    ['made', 'learn', 'howtotrade']   \n",
       "1  ['insanity', 'today', 'weirdo', 'massive', 'se...   \n",
       "\n",
       "                                         clean_tweet  score_vader sentiment  \n",
       "0                              made learn howtotrade        0.000   neutral  \n",
       "1  insanity today weirdo massive selling bid cent...       -0.827  negative  "
      ]
     },
     "execution_count": 12,
     "metadata": {},
     "output_type": "execute_result"
    }
   ],
   "source": [
    "data.head(2)"
   ]
  },
  {
   "cell_type": "markdown",
   "id": "830e1e1a-d43f-4126-9552-64d8c89c931d",
   "metadata": {},
   "source": [
    "#### Obtener datos de los precios de las acciones"
   ]
  },
  {
   "cell_type": "code",
   "execution_count": 13,
   "id": "0a62520e-ef80-4316-ad37-96700d4bff09",
   "metadata": {},
   "outputs": [
    {
     "data": {
      "text/plain": [
       "array(['AAPL', 'GOOG', 'GOOGL', 'AMZN', 'TSLA', 'MSFT'], dtype=object)"
      ]
     },
     "execution_count": 13,
     "metadata": {},
     "output_type": "execute_result"
    }
   ],
   "source": [
    "company['ticker_symbol'].values"
   ]
  },
  {
   "cell_type": "code",
   "execution_count": 14,
   "id": "9f399206-3f17-4fe6-8d66-15f53f3a9b1d",
   "metadata": {},
   "outputs": [],
   "source": [
    "import yfinance as yf"
   ]
  },
  {
   "cell_type": "code",
   "execution_count": 15,
   "id": "8bc9adda-7d35-4c10-b27f-8094016c7e24",
   "metadata": {},
   "outputs": [
    {
     "name": "stdout",
     "output_type": "stream",
     "text": [
      "[*********************100%***********************]  6 of 6 completed\n"
     ]
    }
   ],
   "source": [
    "prices=yf.download(list(company['ticker_symbol'].values), start=\"2014-12-31\", end=\"2020-12-31\")['Adj Close']"
   ]
  },
  {
   "cell_type": "code",
   "execution_count": 16,
   "id": "1fa3166c-d03b-4419-a48e-c87622d82e64",
   "metadata": {},
   "outputs": [
    {
     "data": {
      "text/html": [
       "<div>\n",
       "<style scoped>\n",
       "    .dataframe tbody tr th:only-of-type {\n",
       "        vertical-align: middle;\n",
       "    }\n",
       "\n",
       "    .dataframe tbody tr th {\n",
       "        vertical-align: top;\n",
       "    }\n",
       "\n",
       "    .dataframe thead th {\n",
       "        text-align: right;\n",
       "    }\n",
       "</style>\n",
       "<table border=\"1\" class=\"dataframe\">\n",
       "  <thead>\n",
       "    <tr style=\"text-align: right;\">\n",
       "      <th></th>\n",
       "      <th>AAPL</th>\n",
       "      <th>AMZN</th>\n",
       "      <th>GOOG</th>\n",
       "      <th>GOOGL</th>\n",
       "      <th>MSFT</th>\n",
       "      <th>TSLA</th>\n",
       "    </tr>\n",
       "    <tr>\n",
       "      <th>Date</th>\n",
       "      <th></th>\n",
       "      <th></th>\n",
       "      <th></th>\n",
       "      <th></th>\n",
       "      <th></th>\n",
       "      <th></th>\n",
       "    </tr>\n",
       "  </thead>\n",
       "  <tbody>\n",
       "    <tr>\n",
       "      <th>2014-12-31</th>\n",
       "      <td>24.984</td>\n",
       "      <td>310.350</td>\n",
       "      <td>524.959</td>\n",
       "      <td>530.660</td>\n",
       "      <td>40.921</td>\n",
       "      <td>44.482</td>\n",
       "    </tr>\n",
       "    <tr>\n",
       "      <th>2015-01-02</th>\n",
       "      <td>24.746</td>\n",
       "      <td>308.520</td>\n",
       "      <td>523.373</td>\n",
       "      <td>529.550</td>\n",
       "      <td>41.194</td>\n",
       "      <td>43.862</td>\n",
       "    </tr>\n",
       "    <tr>\n",
       "      <th>2015-01-05</th>\n",
       "      <td>24.049</td>\n",
       "      <td>302.190</td>\n",
       "      <td>512.463</td>\n",
       "      <td>519.460</td>\n",
       "      <td>40.815</td>\n",
       "      <td>42.018</td>\n",
       "    </tr>\n",
       "    <tr>\n",
       "      <th>2015-01-06</th>\n",
       "      <td>24.051</td>\n",
       "      <td>295.290</td>\n",
       "      <td>500.586</td>\n",
       "      <td>506.640</td>\n",
       "      <td>40.216</td>\n",
       "      <td>42.256</td>\n",
       "    </tr>\n",
       "    <tr>\n",
       "      <th>2015-01-07</th>\n",
       "      <td>24.388</td>\n",
       "      <td>298.420</td>\n",
       "      <td>499.728</td>\n",
       "      <td>505.150</td>\n",
       "      <td>40.727</td>\n",
       "      <td>42.190</td>\n",
       "    </tr>\n",
       "  </tbody>\n",
       "</table>\n",
       "</div>"
      ],
      "text/plain": [
       "             AAPL    AMZN    GOOG   GOOGL   MSFT   TSLA\n",
       "Date                                                   \n",
       "2014-12-31 24.984 310.350 524.959 530.660 40.921 44.482\n",
       "2015-01-02 24.746 308.520 523.373 529.550 41.194 43.862\n",
       "2015-01-05 24.049 302.190 512.463 519.460 40.815 42.018\n",
       "2015-01-06 24.051 295.290 500.586 506.640 40.216 42.256\n",
       "2015-01-07 24.388 298.420 499.728 505.150 40.727 42.190"
      ]
     },
     "execution_count": 16,
     "metadata": {},
     "output_type": "execute_result"
    }
   ],
   "source": [
    "prices.head()"
   ]
  },
  {
   "cell_type": "markdown",
   "id": "83671f13-7f97-49c6-aa04-2e893a8c767a",
   "metadata": {},
   "source": [
    "#### Rellenar las fechas diarias dentro del rango de análisis que no aparecen en los precios descargados, con los datos no nulos de periodos previos:"
   ]
  },
  {
   "cell_type": "markdown",
   "id": "040c2eb7-da78-4461-845e-9e874817a6a6",
   "metadata": {},
   "source": [
    "Crear un DataFrame con las fechas diarias del rango de análisis como índice, nombrado \"Date\":"
   ]
  },
  {
   "cell_type": "code",
   "execution_count": 17,
   "id": "dfbc4ddd-e63a-43eb-b680-836a07005c62",
   "metadata": {},
   "outputs": [],
   "source": [
    "price=pd.DataFrame(index=pd.date_range(start=\"2014-12-31\",end=\"2020-12-31\"))\n",
    "price.index.name='Date'"
   ]
  },
  {
   "cell_type": "code",
   "execution_count": 18,
   "id": "b24daf14-9a8a-4289-80a5-ce037849c917",
   "metadata": {},
   "outputs": [
    {
     "data": {
      "text/html": [
       "<div>\n",
       "<style scoped>\n",
       "    .dataframe tbody tr th:only-of-type {\n",
       "        vertical-align: middle;\n",
       "    }\n",
       "\n",
       "    .dataframe tbody tr th {\n",
       "        vertical-align: top;\n",
       "    }\n",
       "\n",
       "    .dataframe thead th {\n",
       "        text-align: right;\n",
       "    }\n",
       "</style>\n",
       "<table border=\"1\" class=\"dataframe\">\n",
       "  <thead>\n",
       "    <tr style=\"text-align: right;\">\n",
       "      <th></th>\n",
       "    </tr>\n",
       "    <tr>\n",
       "      <th>Date</th>\n",
       "    </tr>\n",
       "  </thead>\n",
       "  <tbody>\n",
       "    <tr>\n",
       "      <th>2014-12-31</th>\n",
       "    </tr>\n",
       "    <tr>\n",
       "      <th>2015-01-01</th>\n",
       "    </tr>\n",
       "    <tr>\n",
       "      <th>2015-01-02</th>\n",
       "    </tr>\n",
       "    <tr>\n",
       "      <th>2015-01-03</th>\n",
       "    </tr>\n",
       "    <tr>\n",
       "      <th>2015-01-04</th>\n",
       "    </tr>\n",
       "  </tbody>\n",
       "</table>\n",
       "</div>"
      ],
      "text/plain": [
       "Empty DataFrame\n",
       "Columns: []\n",
       "Index: [2014-12-31 00:00:00, 2015-01-01 00:00:00, 2015-01-02 00:00:00, 2015-01-03 00:00:00, 2015-01-04 00:00:00]"
      ]
     },
     "execution_count": 18,
     "metadata": {},
     "output_type": "execute_result"
    }
   ],
   "source": [
    "price.head()"
   ]
  },
  {
   "cell_type": "markdown",
   "id": "4234f186-ed03-431e-a7f4-1047a5d184e9",
   "metadata": {},
   "source": [
    "Concatenar el DataFrame creado con los precios descargador por índice:"
   ]
  },
  {
   "cell_type": "code",
   "execution_count": 19,
   "id": "88eac258-7405-405e-88e7-ae147e3848f5",
   "metadata": {},
   "outputs": [],
   "source": [
    "price=pd.concat([price,prices],axis=1)"
   ]
  },
  {
   "cell_type": "code",
   "execution_count": 20,
   "id": "f819c022-9156-49bf-89c7-ba29fd1ded97",
   "metadata": {},
   "outputs": [
    {
     "data": {
      "text/html": [
       "<div>\n",
       "<style scoped>\n",
       "    .dataframe tbody tr th:only-of-type {\n",
       "        vertical-align: middle;\n",
       "    }\n",
       "\n",
       "    .dataframe tbody tr th {\n",
       "        vertical-align: top;\n",
       "    }\n",
       "\n",
       "    .dataframe thead th {\n",
       "        text-align: right;\n",
       "    }\n",
       "</style>\n",
       "<table border=\"1\" class=\"dataframe\">\n",
       "  <thead>\n",
       "    <tr style=\"text-align: right;\">\n",
       "      <th></th>\n",
       "      <th>AAPL</th>\n",
       "      <th>AMZN</th>\n",
       "      <th>GOOG</th>\n",
       "      <th>GOOGL</th>\n",
       "      <th>MSFT</th>\n",
       "      <th>TSLA</th>\n",
       "    </tr>\n",
       "    <tr>\n",
       "      <th>Date</th>\n",
       "      <th></th>\n",
       "      <th></th>\n",
       "      <th></th>\n",
       "      <th></th>\n",
       "      <th></th>\n",
       "      <th></th>\n",
       "    </tr>\n",
       "  </thead>\n",
       "  <tbody>\n",
       "    <tr>\n",
       "      <th>2014-12-31</th>\n",
       "      <td>24.984</td>\n",
       "      <td>310.350</td>\n",
       "      <td>524.959</td>\n",
       "      <td>530.660</td>\n",
       "      <td>40.921</td>\n",
       "      <td>44.482</td>\n",
       "    </tr>\n",
       "    <tr>\n",
       "      <th>2015-01-01</th>\n",
       "      <td>NaN</td>\n",
       "      <td>NaN</td>\n",
       "      <td>NaN</td>\n",
       "      <td>NaN</td>\n",
       "      <td>NaN</td>\n",
       "      <td>NaN</td>\n",
       "    </tr>\n",
       "    <tr>\n",
       "      <th>2015-01-02</th>\n",
       "      <td>24.746</td>\n",
       "      <td>308.520</td>\n",
       "      <td>523.373</td>\n",
       "      <td>529.550</td>\n",
       "      <td>41.194</td>\n",
       "      <td>43.862</td>\n",
       "    </tr>\n",
       "    <tr>\n",
       "      <th>2015-01-03</th>\n",
       "      <td>NaN</td>\n",
       "      <td>NaN</td>\n",
       "      <td>NaN</td>\n",
       "      <td>NaN</td>\n",
       "      <td>NaN</td>\n",
       "      <td>NaN</td>\n",
       "    </tr>\n",
       "    <tr>\n",
       "      <th>2015-01-04</th>\n",
       "      <td>NaN</td>\n",
       "      <td>NaN</td>\n",
       "      <td>NaN</td>\n",
       "      <td>NaN</td>\n",
       "      <td>NaN</td>\n",
       "      <td>NaN</td>\n",
       "    </tr>\n",
       "  </tbody>\n",
       "</table>\n",
       "</div>"
      ],
      "text/plain": [
       "             AAPL    AMZN    GOOG   GOOGL   MSFT   TSLA\n",
       "Date                                                   \n",
       "2014-12-31 24.984 310.350 524.959 530.660 40.921 44.482\n",
       "2015-01-01    NaN     NaN     NaN     NaN    NaN    NaN\n",
       "2015-01-02 24.746 308.520 523.373 529.550 41.194 43.862\n",
       "2015-01-03    NaN     NaN     NaN     NaN    NaN    NaN\n",
       "2015-01-04    NaN     NaN     NaN     NaN    NaN    NaN"
      ]
     },
     "execution_count": 20,
     "metadata": {},
     "output_type": "execute_result"
    }
   ],
   "source": [
    "price.head()"
   ]
  },
  {
   "cell_type": "markdown",
   "id": "56aa7ddd-fb1a-46b2-9d9e-c08d376e611f",
   "metadata": {},
   "source": [
    "Rellenar los datos \"NaN\" con el los datos no nulos de la fila anterior:"
   ]
  },
  {
   "cell_type": "code",
   "execution_count": 21,
   "id": "fee19c06-18f2-4b89-9fb4-11008d33aa51",
   "metadata": {},
   "outputs": [],
   "source": [
    "price=price.fillna(method='ffill')"
   ]
  },
  {
   "cell_type": "code",
   "execution_count": 22,
   "id": "d2cbc131-5c0a-4a12-bcec-9b52d5aa5e9d",
   "metadata": {},
   "outputs": [
    {
     "data": {
      "text/html": [
       "<div>\n",
       "<style scoped>\n",
       "    .dataframe tbody tr th:only-of-type {\n",
       "        vertical-align: middle;\n",
       "    }\n",
       "\n",
       "    .dataframe tbody tr th {\n",
       "        vertical-align: top;\n",
       "    }\n",
       "\n",
       "    .dataframe thead th {\n",
       "        text-align: right;\n",
       "    }\n",
       "</style>\n",
       "<table border=\"1\" class=\"dataframe\">\n",
       "  <thead>\n",
       "    <tr style=\"text-align: right;\">\n",
       "      <th></th>\n",
       "      <th>AAPL</th>\n",
       "      <th>AMZN</th>\n",
       "      <th>GOOG</th>\n",
       "      <th>GOOGL</th>\n",
       "      <th>MSFT</th>\n",
       "      <th>TSLA</th>\n",
       "    </tr>\n",
       "    <tr>\n",
       "      <th>Date</th>\n",
       "      <th></th>\n",
       "      <th></th>\n",
       "      <th></th>\n",
       "      <th></th>\n",
       "      <th></th>\n",
       "      <th></th>\n",
       "    </tr>\n",
       "  </thead>\n",
       "  <tbody>\n",
       "    <tr>\n",
       "      <th>2014-12-31</th>\n",
       "      <td>24.984</td>\n",
       "      <td>310.350</td>\n",
       "      <td>524.959</td>\n",
       "      <td>530.660</td>\n",
       "      <td>40.921</td>\n",
       "      <td>44.482</td>\n",
       "    </tr>\n",
       "    <tr>\n",
       "      <th>2015-01-01</th>\n",
       "      <td>24.984</td>\n",
       "      <td>310.350</td>\n",
       "      <td>524.959</td>\n",
       "      <td>530.660</td>\n",
       "      <td>40.921</td>\n",
       "      <td>44.482</td>\n",
       "    </tr>\n",
       "    <tr>\n",
       "      <th>2015-01-02</th>\n",
       "      <td>24.746</td>\n",
       "      <td>308.520</td>\n",
       "      <td>523.373</td>\n",
       "      <td>529.550</td>\n",
       "      <td>41.194</td>\n",
       "      <td>43.862</td>\n",
       "    </tr>\n",
       "    <tr>\n",
       "      <th>2015-01-03</th>\n",
       "      <td>24.746</td>\n",
       "      <td>308.520</td>\n",
       "      <td>523.373</td>\n",
       "      <td>529.550</td>\n",
       "      <td>41.194</td>\n",
       "      <td>43.862</td>\n",
       "    </tr>\n",
       "    <tr>\n",
       "      <th>2015-01-04</th>\n",
       "      <td>24.746</td>\n",
       "      <td>308.520</td>\n",
       "      <td>523.373</td>\n",
       "      <td>529.550</td>\n",
       "      <td>41.194</td>\n",
       "      <td>43.862</td>\n",
       "    </tr>\n",
       "  </tbody>\n",
       "</table>\n",
       "</div>"
      ],
      "text/plain": [
       "             AAPL    AMZN    GOOG   GOOGL   MSFT   TSLA\n",
       "Date                                                   \n",
       "2014-12-31 24.984 310.350 524.959 530.660 40.921 44.482\n",
       "2015-01-01 24.984 310.350 524.959 530.660 40.921 44.482\n",
       "2015-01-02 24.746 308.520 523.373 529.550 41.194 43.862\n",
       "2015-01-03 24.746 308.520 523.373 529.550 41.194 43.862\n",
       "2015-01-04 24.746 308.520 523.373 529.550 41.194 43.862"
      ]
     },
     "execution_count": 22,
     "metadata": {},
     "output_type": "execute_result"
    }
   ],
   "source": [
    "price.head()"
   ]
  },
  {
   "cell_type": "markdown",
   "id": "c90df86a-0587-4506-ad00-8f8d2dde1e4f",
   "metadata": {},
   "source": [
    "Validar no vácios:"
   ]
  },
  {
   "cell_type": "code",
   "execution_count": 23,
   "id": "22487b5f-6a18-48cb-bf60-9441be7df374",
   "metadata": {},
   "outputs": [
    {
     "data": {
      "text/plain": [
       "True"
      ]
     },
     "execution_count": 23,
     "metadata": {},
     "output_type": "execute_result"
    }
   ],
   "source": [
    "price.isnull().sum().sum()==0"
   ]
  },
  {
   "cell_type": "markdown",
   "id": "14d9fd15-2aa7-4362-a970-edd4b12ee534",
   "metadata": {},
   "source": [
    "Calcular el cambio porcentual en el precio por día:"
   ]
  },
  {
   "cell_type": "code",
   "execution_count": 24,
   "id": "422dc62f-f9af-4f0d-96a4-cbba67dd7e8d",
   "metadata": {},
   "outputs": [],
   "source": [
    "change_price=price.pct_change()"
   ]
  },
  {
   "cell_type": "code",
   "execution_count": 25,
   "id": "a07658e9-1756-4c93-821a-96da39eabe03",
   "metadata": {},
   "outputs": [
    {
     "data": {
      "text/html": [
       "<div>\n",
       "<style scoped>\n",
       "    .dataframe tbody tr th:only-of-type {\n",
       "        vertical-align: middle;\n",
       "    }\n",
       "\n",
       "    .dataframe tbody tr th {\n",
       "        vertical-align: top;\n",
       "    }\n",
       "\n",
       "    .dataframe thead th {\n",
       "        text-align: right;\n",
       "    }\n",
       "</style>\n",
       "<table border=\"1\" class=\"dataframe\">\n",
       "  <thead>\n",
       "    <tr style=\"text-align: right;\">\n",
       "      <th></th>\n",
       "      <th>AAPL</th>\n",
       "      <th>AMZN</th>\n",
       "      <th>GOOG</th>\n",
       "      <th>GOOGL</th>\n",
       "      <th>MSFT</th>\n",
       "      <th>TSLA</th>\n",
       "    </tr>\n",
       "    <tr>\n",
       "      <th>Date</th>\n",
       "      <th></th>\n",
       "      <th></th>\n",
       "      <th></th>\n",
       "      <th></th>\n",
       "      <th></th>\n",
       "      <th></th>\n",
       "    </tr>\n",
       "  </thead>\n",
       "  <tbody>\n",
       "    <tr>\n",
       "      <th>2014-12-31</th>\n",
       "      <td>NaN</td>\n",
       "      <td>NaN</td>\n",
       "      <td>NaN</td>\n",
       "      <td>NaN</td>\n",
       "      <td>NaN</td>\n",
       "      <td>NaN</td>\n",
       "    </tr>\n",
       "    <tr>\n",
       "      <th>2015-01-01</th>\n",
       "      <td>0.000</td>\n",
       "      <td>0.000</td>\n",
       "      <td>0.000</td>\n",
       "      <td>0.000</td>\n",
       "      <td>0.000</td>\n",
       "      <td>0.000</td>\n",
       "    </tr>\n",
       "    <tr>\n",
       "      <th>2015-01-02</th>\n",
       "      <td>-0.010</td>\n",
       "      <td>-0.006</td>\n",
       "      <td>-0.003</td>\n",
       "      <td>-0.002</td>\n",
       "      <td>0.007</td>\n",
       "      <td>-0.014</td>\n",
       "    </tr>\n",
       "    <tr>\n",
       "      <th>2015-01-03</th>\n",
       "      <td>0.000</td>\n",
       "      <td>0.000</td>\n",
       "      <td>0.000</td>\n",
       "      <td>0.000</td>\n",
       "      <td>0.000</td>\n",
       "      <td>0.000</td>\n",
       "    </tr>\n",
       "    <tr>\n",
       "      <th>2015-01-04</th>\n",
       "      <td>0.000</td>\n",
       "      <td>0.000</td>\n",
       "      <td>0.000</td>\n",
       "      <td>0.000</td>\n",
       "      <td>0.000</td>\n",
       "      <td>0.000</td>\n",
       "    </tr>\n",
       "  </tbody>\n",
       "</table>\n",
       "</div>"
      ],
      "text/plain": [
       "             AAPL   AMZN   GOOG  GOOGL  MSFT   TSLA\n",
       "Date                                               \n",
       "2014-12-31    NaN    NaN    NaN    NaN   NaN    NaN\n",
       "2015-01-01  0.000  0.000  0.000  0.000 0.000  0.000\n",
       "2015-01-02 -0.010 -0.006 -0.003 -0.002 0.007 -0.014\n",
       "2015-01-03  0.000  0.000  0.000  0.000 0.000  0.000\n",
       "2015-01-04  0.000  0.000  0.000  0.000 0.000  0.000"
      ]
     },
     "execution_count": 25,
     "metadata": {},
     "output_type": "execute_result"
    }
   ],
   "source": [
    "change_price.head()"
   ]
  },
  {
   "cell_type": "markdown",
   "id": "529e4219-3b4d-4b5b-9d1c-ba8d257980fd",
   "metadata": {},
   "source": [
    "Eliminar periodos fuera del rango de análisis:"
   ]
  },
  {
   "cell_type": "code",
   "execution_count": 26,
   "id": "46721a4d-a78d-4e79-95d6-771ab0a17f0c",
   "metadata": {},
   "outputs": [
    {
     "name": "stdout",
     "output_type": "stream",
     "text": [
      "(2193, 6)\n"
     ]
    },
    {
     "data": {
      "text/plain": [
       "(2192, 6)"
      ]
     },
     "execution_count": 26,
     "metadata": {},
     "output_type": "execute_result"
    }
   ],
   "source": [
    "print(change_price.shape)\n",
    "change_price.drop(['2014-12-31'], inplace=True)\n",
    "change_price.shape"
   ]
  },
  {
   "cell_type": "code",
   "execution_count": 27,
   "id": "d1ff5320-c959-4492-833d-af1d87aac24d",
   "metadata": {
    "tags": []
   },
   "outputs": [
    {
     "data": {
      "text/html": [
       "<div>\n",
       "<style scoped>\n",
       "    .dataframe tbody tr th:only-of-type {\n",
       "        vertical-align: middle;\n",
       "    }\n",
       "\n",
       "    .dataframe tbody tr th {\n",
       "        vertical-align: top;\n",
       "    }\n",
       "\n",
       "    .dataframe thead th {\n",
       "        text-align: right;\n",
       "    }\n",
       "</style>\n",
       "<table border=\"1\" class=\"dataframe\">\n",
       "  <thead>\n",
       "    <tr style=\"text-align: right;\">\n",
       "      <th></th>\n",
       "      <th>AAPL</th>\n",
       "      <th>AMZN</th>\n",
       "      <th>GOOG</th>\n",
       "      <th>GOOGL</th>\n",
       "      <th>MSFT</th>\n",
       "      <th>TSLA</th>\n",
       "    </tr>\n",
       "    <tr>\n",
       "      <th>Date</th>\n",
       "      <th></th>\n",
       "      <th></th>\n",
       "      <th></th>\n",
       "      <th></th>\n",
       "      <th></th>\n",
       "      <th></th>\n",
       "    </tr>\n",
       "  </thead>\n",
       "  <tbody>\n",
       "    <tr>\n",
       "      <th>2015-01-01</th>\n",
       "      <td>0.000</td>\n",
       "      <td>0.000</td>\n",
       "      <td>0.000</td>\n",
       "      <td>0.000</td>\n",
       "      <td>0.000</td>\n",
       "      <td>0.000</td>\n",
       "    </tr>\n",
       "    <tr>\n",
       "      <th>2015-01-02</th>\n",
       "      <td>-0.010</td>\n",
       "      <td>-0.006</td>\n",
       "      <td>-0.003</td>\n",
       "      <td>-0.002</td>\n",
       "      <td>0.007</td>\n",
       "      <td>-0.014</td>\n",
       "    </tr>\n",
       "    <tr>\n",
       "      <th>2015-01-03</th>\n",
       "      <td>0.000</td>\n",
       "      <td>0.000</td>\n",
       "      <td>0.000</td>\n",
       "      <td>0.000</td>\n",
       "      <td>0.000</td>\n",
       "      <td>0.000</td>\n",
       "    </tr>\n",
       "    <tr>\n",
       "      <th>2015-01-04</th>\n",
       "      <td>0.000</td>\n",
       "      <td>0.000</td>\n",
       "      <td>0.000</td>\n",
       "      <td>0.000</td>\n",
       "      <td>0.000</td>\n",
       "      <td>0.000</td>\n",
       "    </tr>\n",
       "    <tr>\n",
       "      <th>2015-01-05</th>\n",
       "      <td>-0.028</td>\n",
       "      <td>-0.021</td>\n",
       "      <td>-0.021</td>\n",
       "      <td>-0.019</td>\n",
       "      <td>-0.009</td>\n",
       "      <td>-0.042</td>\n",
       "    </tr>\n",
       "  </tbody>\n",
       "</table>\n",
       "</div>"
      ],
      "text/plain": [
       "             AAPL   AMZN   GOOG  GOOGL   MSFT   TSLA\n",
       "Date                                                \n",
       "2015-01-01  0.000  0.000  0.000  0.000  0.000  0.000\n",
       "2015-01-02 -0.010 -0.006 -0.003 -0.002  0.007 -0.014\n",
       "2015-01-03  0.000  0.000  0.000  0.000  0.000  0.000\n",
       "2015-01-04  0.000  0.000  0.000  0.000  0.000  0.000\n",
       "2015-01-05 -0.028 -0.021 -0.021 -0.019 -0.009 -0.042"
      ]
     },
     "execution_count": 27,
     "metadata": {},
     "output_type": "execute_result"
    }
   ],
   "source": [
    "change_price.head()"
   ]
  },
  {
   "cell_type": "markdown",
   "id": "781ebc7a-650b-4a42-b91e-f5b48e16538d",
   "metadata": {},
   "source": [
    "Validar que todas las fechas díarias del rango de análisis se encuentren:"
   ]
  },
  {
   "cell_type": "code",
   "execution_count": 28,
   "id": "0379237c-83d3-4499-8a35-35db2fefe9bb",
   "metadata": {},
   "outputs": [
    {
     "data": {
      "text/plain": [
       "True"
      ]
     },
     "execution_count": 28,
     "metadata": {},
     "output_type": "execute_result"
    }
   ],
   "source": [
    "all(pd.date_range(start=\"2015-01-01\",end=\"2020-12-31\").isin(change_price.index))"
   ]
  },
  {
   "cell_type": "markdown",
   "id": "7ed2d72b-0edc-4830-a02b-4c8388153f62",
   "metadata": {},
   "source": [
    "#### Umbral"
   ]
  },
  {
   "cell_type": "markdown",
   "id": "d62e7b49-27ce-4341-b6cb-e28ceef3c6fb",
   "metadata": {},
   "source": [
    "Se establecerá los valores umbrales, como la mediana +/- 2 desviaciones estandar:"
   ]
  },
  {
   "cell_type": "code",
   "execution_count": 29,
   "id": "ed497ace-9085-4e90-a236-eebdc5b6602b",
   "metadata": {},
   "outputs": [],
   "source": [
    "n_desv_est=2"
   ]
  },
  {
   "cell_type": "code",
   "execution_count": 30,
   "id": "39de67e4-76ec-4635-ab4d-05e657fdefc6",
   "metadata": {},
   "outputs": [],
   "source": [
    "umbrales_inf=change_price.median()-n_desv_est*np.sqrt(change_price.var())\n",
    "umbrales_sup=change_price.median()+n_desv_est*np.sqrt(change_price.var())"
   ]
  },
  {
   "cell_type": "code",
   "execution_count": null,
   "id": "ab306297-9be6-4d41-afab-693ba7d532ef",
   "metadata": {},
   "outputs": [],
   "source": []
  },
  {
   "cell_type": "markdown",
   "id": "ab45b717-6bc4-4a15-a201-94e7a351db03",
   "metadata": {},
   "source": [
    "#### Umbral"
   ]
  },
  {
   "cell_type": "markdown",
   "id": "e652a272-3f2a-4d52-a3d0-415bfc0d5a19",
   "metadata": {},
   "source": [
    "Se establecerá los valores umbrales, como los bigotes superior e inferior del diagrama de caja y bigotes"
   ]
  },
  {
   "cell_type": "code",
   "execution_count": 30,
   "id": "fc50ace6-f5f7-4cbb-9de9-7bdf9261415b",
   "metadata": {},
   "outputs": [
    {
     "data": {
      "text/plain": [
       "{'whiskers': [<matplotlib.lines.Line2D at 0x1305b41bd30>,\n",
       "  <matplotlib.lines.Line2D at 0x1305b42e040>,\n",
       "  <matplotlib.lines.Line2D at 0x1305b435610>,\n",
       "  <matplotlib.lines.Line2D at 0x1305b4359a0>,\n",
       "  <matplotlib.lines.Line2D at 0x1305b43af40>,\n",
       "  <matplotlib.lines.Line2D at 0x1305b2ed310>,\n",
       "  <matplotlib.lines.Line2D at 0x1305b2fd8b0>,\n",
       "  <matplotlib.lines.Line2D at 0x1305b2fdc40>,\n",
       "  <matplotlib.lines.Line2D at 0x1305b2ec220>,\n",
       "  <matplotlib.lines.Line2D at 0x1305b2ec5b0>,\n",
       "  <matplotlib.lines.Line2D at 0x1305b2dab50>,\n",
       "  <matplotlib.lines.Line2D at 0x1305b2daee0>],\n",
       " 'caps': [<matplotlib.lines.Line2D at 0x1305b42e3d0>,\n",
       "  <matplotlib.lines.Line2D at 0x1305b42e760>,\n",
       "  <matplotlib.lines.Line2D at 0x1305b435d30>,\n",
       "  <matplotlib.lines.Line2D at 0x1305b43a100>,\n",
       "  <matplotlib.lines.Line2D at 0x1305b2ed6a0>,\n",
       "  <matplotlib.lines.Line2D at 0x1305b2eda30>,\n",
       "  <matplotlib.lines.Line2D at 0x1305b2fdfd0>,\n",
       "  <matplotlib.lines.Line2D at 0x1305b2e53a0>,\n",
       "  <matplotlib.lines.Line2D at 0x1305b2ec940>,\n",
       "  <matplotlib.lines.Line2D at 0x1305b2eccd0>,\n",
       "  <matplotlib.lines.Line2D at 0x1305b2cb2b0>,\n",
       "  <matplotlib.lines.Line2D at 0x1305b2cb640>],\n",
       " 'boxes': [<matplotlib.lines.Line2D at 0x1305b41b790>,\n",
       "  <matplotlib.lines.Line2D at 0x1305b435280>,\n",
       "  <matplotlib.lines.Line2D at 0x1305b43abb0>,\n",
       "  <matplotlib.lines.Line2D at 0x1305b2fd520>,\n",
       "  <matplotlib.lines.Line2D at 0x1305b2e5e50>,\n",
       "  <matplotlib.lines.Line2D at 0x1305b2da7c0>],\n",
       " 'medians': [<matplotlib.lines.Line2D at 0x1305b42eaf0>,\n",
       "  <matplotlib.lines.Line2D at 0x1305b43a490>,\n",
       "  <matplotlib.lines.Line2D at 0x1305b2eddc0>,\n",
       "  <matplotlib.lines.Line2D at 0x1305b2e5730>,\n",
       "  <matplotlib.lines.Line2D at 0x1305b2da0a0>,\n",
       "  <matplotlib.lines.Line2D at 0x1305b2cb9d0>],\n",
       " 'fliers': [<matplotlib.lines.Line2D at 0x1305b42ee80>,\n",
       "  <matplotlib.lines.Line2D at 0x1305b43a820>,\n",
       "  <matplotlib.lines.Line2D at 0x1305b2fd190>,\n",
       "  <matplotlib.lines.Line2D at 0x1305b2e5ac0>,\n",
       "  <matplotlib.lines.Line2D at 0x1305b2da430>,\n",
       "  <matplotlib.lines.Line2D at 0x1305b2cbd60>],\n",
       " 'means': []}"
      ]
     },
     "execution_count": 30,
     "metadata": {},
     "output_type": "execute_result"
    },
    {
     "data": {
      "image/png": "[encoded data removed]",
      "text/plain": [
       "<Figure size 432x288 with 1 Axes>"
      ]
     },
     "metadata": {
      "needs_background": "light"
     },
     "output_type": "display_data"
    }
   ],
   "source": [
    "plt.boxplot(change_price)"
   ]
  },
  {
   "cell_type": "code",
   "execution_count": 31,
   "id": "45699fea-d72a-4bab-8426-2fb74658eef2",
   "metadata": {},
   "outputs": [],
   "source": [
    "q1=change_price.apply(lambda x: np.percentile(x, [25]))\n",
    "q3=change_price.apply(lambda x: np.percentile(x, [75]))\n",
    "\n",
    "iqr=q3-q1\n",
    "\n",
    "umbrales_inf=(q1-1.5*iqr).squeeze() #Bigote inferior\n",
    "umbrales_sup=(q3+1.5*iqr).squeeze() #Bigote superior"
   ]
  },
  {
   "cell_type": "code",
   "execution_count": 31,
   "id": "f738d725-9cae-4cf1-97f3-c943d9ae359e",
   "metadata": {},
   "outputs": [
    {
     "data": {
      "text/html": [
       "<div>\n",
       "<style scoped>\n",
       "    .dataframe tbody tr th:only-of-type {\n",
       "        vertical-align: middle;\n",
       "    }\n",
       "\n",
       "    .dataframe tbody tr th {\n",
       "        vertical-align: top;\n",
       "    }\n",
       "\n",
       "    .dataframe thead th {\n",
       "        text-align: right;\n",
       "    }\n",
       "</style>\n",
       "<table border=\"1\" class=\"dataframe\">\n",
       "  <thead>\n",
       "    <tr style=\"text-align: right;\">\n",
       "      <th></th>\n",
       "      <th>umbral_inferior</th>\n",
       "      <th>umbral_superior</th>\n",
       "    </tr>\n",
       "  </thead>\n",
       "  <tbody>\n",
       "    <tr>\n",
       "      <th>AAPL</th>\n",
       "      <td>-0.031</td>\n",
       "      <td>0.031</td>\n",
       "    </tr>\n",
       "    <tr>\n",
       "      <th>AMZN</th>\n",
       "      <td>-0.032</td>\n",
       "      <td>0.032</td>\n",
       "    </tr>\n",
       "    <tr>\n",
       "      <th>GOOG</th>\n",
       "      <td>-0.028</td>\n",
       "      <td>0.028</td>\n",
       "    </tr>\n",
       "    <tr>\n",
       "      <th>GOOGL</th>\n",
       "      <td>-0.028</td>\n",
       "      <td>0.028</td>\n",
       "    </tr>\n",
       "    <tr>\n",
       "      <th>MSFT</th>\n",
       "      <td>-0.029</td>\n",
       "      <td>0.029</td>\n",
       "    </tr>\n",
       "    <tr>\n",
       "      <th>TSLA</th>\n",
       "      <td>-0.058</td>\n",
       "      <td>0.058</td>\n",
       "    </tr>\n",
       "  </tbody>\n",
       "</table>\n",
       "</div>"
      ],
      "text/plain": [
       "       umbral_inferior  umbral_superior\n",
       "AAPL            -0.031            0.031\n",
       "AMZN            -0.032            0.032\n",
       "GOOG            -0.028            0.028\n",
       "GOOGL           -0.028            0.028\n",
       "MSFT            -0.029            0.029\n",
       "TSLA            -0.058            0.058"
      ]
     },
     "execution_count": 31,
     "metadata": {},
     "output_type": "execute_result"
    }
   ],
   "source": [
    "pd.DataFrame({'umbral_inferior':umbrales_inf,\n",
    "              'umbral_superior':umbrales_sup})"
   ]
  },
  {
   "cell_type": "markdown",
   "id": "c3c09275-1a6f-4762-9461-b89a666c9200",
   "metadata": {},
   "source": [
    "Gráficar datos:"
   ]
  },
  {
   "cell_type": "code",
   "execution_count": 32,
   "id": "b892bb2b-d2f5-4f9d-b548-9de526c56a2d",
   "metadata": {
    "tags": []
   },
   "outputs": [
    {
     "data": {
      "text/plain": [
       "(<matplotlib.collections.PathCollection at 0x15445cf3fd0>,\n",
       " Text(0.5, 1.0, 'TSLA'))"
      ]
     },
     "execution_count": 32,
     "metadata": {},
     "output_type": "execute_result"
    },
    {
     "data": {
      "image/png": "[encoded data removed]",
      "text/plain": [
       "<Figure size 1440x504 with 6 Axes>"
      ]
     },
     "metadata": {
      "needs_background": "light"
     },
     "output_type": "display_data"
    }
   ],
   "source": [
    "fig, ((ax1, ax2, ax3), (ax4, ax5, ax6))=plt.subplots(2,3,figsize=(20,7))\n",
    "\n",
    "fig.suptitle('Gráfico de las %var. precio acciones por empresa', fontsize=15)\n",
    "\n",
    "color_points='r'\n",
    "size_points=10\n",
    "\n",
    "def bool_points(ticker_symbol):\n",
    "    return (change_price[ticker_symbol]>umbrales_sup[ticker_symbol])|(change_price[ticker_symbol]<umbrales_inf[ticker_symbol])\n",
    "def points_x(ticker_symbol):\n",
    "    return change_price.index[bool_points(ticker_symbol)]\n",
    "def points_y(ticker_symbol):\n",
    "    return change_price[ticker_symbol][bool_points(ticker_symbol)]\n",
    "    \n",
    "ax1.plot(change_price['AAPL'])\n",
    "ax1.scatter(points_x('AAPL'), points_y('AAPL'), color=color_points, s=size_points),ax1.set_title('APPL')\n",
    "\n",
    "ax2.plot(change_price['AMZN'])\n",
    "ax2.scatter(points_x('AMZN'), points_y('AMZN'), color=color_points, s=size_points),ax2.set_title('AMZN')\n",
    "\n",
    "ax3.plot(change_price['GOOG'])\n",
    "ax3.scatter(points_x('GOOG'), points_y('GOOG'), color=color_points, s=size_points),ax3.set_title('GOOG')\n",
    "\n",
    "ax4.plot(change_price['GOOGL'])\n",
    "ax4.scatter(points_x('GOOGL'), points_y('GOOGL'), color=color_points, s=size_points),ax4.set_title('GOOGL')\n",
    "\n",
    "ax5.plot(change_price['MSFT'])\n",
    "ax5.scatter(points_x('MSFT'), points_y('MSFT'), color=color_points, s=size_points),ax5.set_title('MSFT')\n",
    "\n",
    "ax6.plot(change_price['TSLA'])\n",
    "ax6.scatter(points_x('TSLA'), points_y('TSLA'), color=color_points, s=size_points),ax6.set_title('TSLA')"
   ]
  },
  {
   "cell_type": "code",
   "execution_count": 34,
   "id": "00cc3c69-5688-4f92-9eb9-3272c9bd1fa2",
   "metadata": {},
   "outputs": [
    {
     "data": {
      "text/plain": [
       "(<matplotlib.lines.Line2D at 0x1544665f910>,\n",
       " <matplotlib.lines.Line2D at 0x154466444f0>)"
      ]
     },
     "execution_count": 34,
     "metadata": {},
     "output_type": "execute_result"
    },
    {
     "data": {
      "image/png": "[encoded data removed]",
      "text/plain": [
       "<Figure size 1440x504 with 6 Axes>"
      ]
     },
     "metadata": {
      "needs_background": "light"
     },
     "output_type": "display_data"
    }
   ],
   "source": [
    "fig, ((ax1, ax2, ax3), (ax4, ax5, ax6))=plt.subplots(2,3,figsize=(20,7))\n",
    "\n",
    "color='gray'\n",
    "bins=20\n",
    "\n",
    "fig.suptitle('Histograma de las %var. precio acciones por empresa', fontsize=15)\n",
    "\n",
    "sns.histplot(change_price['AAPL'],kde=True,bins=bins,ax=ax1)\n",
    "ax1.axvline(x=umbrales_inf['AAPL'], color=color),ax1.axvline(x=umbrales_sup['AAPL'], color=color)\n",
    "\n",
    "sns.histplot(change_price['AMZN'],kde=True,bins=bins,ax=ax2)\n",
    "ax2.axvline(x=umbrales_inf['AMZN'], color=color),ax2.axvline(x=umbrales_sup['AMZN'], color=color)\n",
    "\n",
    "sns.histplot(change_price['GOOG'],kde=True,bins=bins,ax=ax3)\n",
    "ax3.axvline(x=umbrales_inf['GOOG'], color=color),ax3.axvline(x=umbrales_sup['GOOG'], color=color)\n",
    "\n",
    "sns.histplot(change_price['GOOGL'],kde=True,bins=bins,ax=ax4)\n",
    "ax4.axvline(x=umbrales_inf['GOOGL'], color=color),ax4.axvline(x=umbrales_sup['GOOGL'], color=color)\n",
    "\n",
    "sns.histplot(change_price['MSFT'],kde=True,bins=bins,ax=ax5)\n",
    "ax5.axvline(x=umbrales_inf['MSFT'], color=color),ax5.axvline(x=umbrales_sup['MSFT'], color=color)\n",
    "\n",
    "sns.histplot(change_price['TSLA'],kde=True,bins=bins,ax=ax6)\n",
    "ax6.axvline(x=umbrales_inf['TSLA'], color=color),ax6.axvline(x=umbrales_sup['TSLA'], color=color)"
   ]
  },
  {
   "cell_type": "markdown",
   "id": "30aae3d9-1049-4a52-84c5-31b9495103be",
   "metadata": {},
   "source": [
    "### Separar los datos por empresa"
   ]
  },
  {
   "cell_type": "markdown",
   "id": "6210bd37-a0be-4e32-82b7-d033d3946e9f",
   "metadata": {},
   "source": [
    "#### Paso a paso de la separación"
   ]
  },
  {
   "cell_type": "code",
   "execution_count": 35,
   "id": "86e81317-2c5a-4c60-aed9-f243d4792116",
   "metadata": {},
   "outputs": [],
   "source": [
    "def split_data(x, v_split):\n",
    "    #columna de listas de tickers\n",
    "    t=x['ticker_symbol_group']\n",
    "    #vector de boleanos\n",
    "    v_bool=t.apply(lambda tikers: np.isin(v_split,tikers))\n",
    "    #retornar datos filtrados\n",
    "    return x.loc[v_bool].copy()"
   ]
  },
  {
   "cell_type": "code",
   "execution_count": 36,
   "id": "31fb5cf7-9ace-4cbf-beed-16e352de70b3",
   "metadata": {},
   "outputs": [],
   "source": [
    "AAPL=split_data(data,'AAPL')"
   ]
  },
  {
   "cell_type": "code",
   "execution_count": 37,
   "id": "31bbfcf8-e00d-4872-8c57-847493d46c86",
   "metadata": {},
   "outputs": [
    {
     "data": {
      "text/plain": [
       "(1425013, 7)"
      ]
     },
     "execution_count": 37,
     "metadata": {},
     "output_type": "execute_result"
    }
   ],
   "source": [
    "AAPL.shape"
   ]
  },
  {
   "cell_type": "markdown",
   "id": "7348c841-5f80-4128-9bdc-07ee3fb9b4bc",
   "metadata": {},
   "source": [
    "##### Agrupar los datos por día"
   ]
  },
  {
   "cell_type": "markdown",
   "id": "946e94ee-e5be-482d-b53e-a2d52af1d855",
   "metadata": {},
   "source": [
    "Sentimiento:"
   ]
  },
  {
   "cell_type": "code",
   "execution_count": 38,
   "id": "3d827b5e-b4de-4317-8f19-ee8bf33409f3",
   "metadata": {},
   "outputs": [],
   "source": [
    "def n_sentiment(x):\n",
    "    #tabla cruzada\n",
    "    sentiment=pd.crosstab(x['date'],x['sentiment'])\n",
    "    #calcular la sumatoria\n",
    "    n_tweets=sentiment.apply(lambda x: np.sum(x), axis=1)\n",
    "    n_tweets.name='n_tweets'\n",
    "    n_tweets=n_tweets.to_frame()\n",
    "    #convertir los valores en porcentaje del total\n",
    "    sentiment=sentiment.apply(lambda x: x/np.sum(x), axis=1)\n",
    "    #concatenar porcentajes con sumatoria\n",
    "    sentiment=pd.concat([sentiment,n_tweets], axis=1)\n",
    "    \n",
    "    return sentiment"
   ]
  },
  {
   "cell_type": "code",
   "execution_count": 39,
   "id": "b39032b4-95c4-4343-80a5-d3c623a55512",
   "metadata": {},
   "outputs": [],
   "source": [
    "sentiment=n_sentiment(AAPL)"
   ]
  },
  {
   "cell_type": "code",
   "execution_count": 40,
   "id": "64594444-e023-45e1-8119-ed5aa9a7dde5",
   "metadata": {},
   "outputs": [
    {
     "data": {
      "text/html": [
       "<div>\n",
       "<style scoped>\n",
       "    .dataframe tbody tr th:only-of-type {\n",
       "        vertical-align: middle;\n",
       "    }\n",
       "\n",
       "    .dataframe tbody tr th {\n",
       "        vertical-align: top;\n",
       "    }\n",
       "\n",
       "    .dataframe thead th {\n",
       "        text-align: right;\n",
       "    }\n",
       "</style>\n",
       "<table border=\"1\" class=\"dataframe\">\n",
       "  <thead>\n",
       "    <tr style=\"text-align: right;\">\n",
       "      <th></th>\n",
       "      <th>negative</th>\n",
       "      <th>neutral</th>\n",
       "      <th>positive</th>\n",
       "      <th>n_tweets</th>\n",
       "    </tr>\n",
       "    <tr>\n",
       "      <th>date</th>\n",
       "      <th></th>\n",
       "      <th></th>\n",
       "      <th></th>\n",
       "      <th></th>\n",
       "    </tr>\n",
       "  </thead>\n",
       "  <tbody>\n",
       "    <tr>\n",
       "      <th>2015-01-01</th>\n",
       "      <td>0.104</td>\n",
       "      <td>0.475</td>\n",
       "      <td>0.421</td>\n",
       "      <td>299</td>\n",
       "    </tr>\n",
       "    <tr>\n",
       "      <th>2015-01-02</th>\n",
       "      <td>0.168</td>\n",
       "      <td>0.469</td>\n",
       "      <td>0.362</td>\n",
       "      <td>867</td>\n",
       "    </tr>\n",
       "  </tbody>\n",
       "</table>\n",
       "</div>"
      ],
      "text/plain": [
       "            negative  neutral  positive  n_tweets\n",
       "date                                             \n",
       "2015-01-01     0.104    0.475     0.421       299\n",
       "2015-01-02     0.168    0.469     0.362       867"
      ]
     },
     "execution_count": 40,
     "metadata": {},
     "output_type": "execute_result"
    }
   ],
   "source": [
    "sentiment.head(2)"
   ]
  },
  {
   "cell_type": "markdown",
   "id": "1891e867-05ca-4bb2-bfc0-bcff4d8156e7",
   "metadata": {},
   "source": [
    "calculos agregados: bow, vector de engagements y suma de engagements por sentimiento"
   ]
  },
  {
   "cell_type": "code",
   "execution_count": 41,
   "id": "467bfb16-3132-42db-b333-959f3f569754",
   "metadata": {
    "tags": []
   },
   "outputs": [],
   "source": [
    "def transform_data(x):\n",
    "    #campos calculados\n",
    "    agg=x.groupby(['date','sentiment']).agg(\n",
    "        bow=('clean_tweet', lambda x: [item for item in x]),\n",
    "        eng=('total_engagement', lambda x: [item for item in x]),\n",
    "        sum_eng=('total_engagement',sum),\n",
    "    ).unstack()\n",
    "    #rellenar NaN con cero para 'sum_eng'\n",
    "    agg.sum_eng=agg.sum_eng.fillna(0)\n",
    "    #concatenar índice multiple en índice único\n",
    "    agg.columns=agg.columns.map('_'.join)\n",
    "    return agg"
   ]
  },
  {
   "cell_type": "code",
   "execution_count": 42,
   "id": "48647358-eaae-4fb3-8af2-9e5de0d605c0",
   "metadata": {},
   "outputs": [],
   "source": [
    "agg=transform_data(AAPL)"
   ]
  },
  {
   "cell_type": "code",
   "execution_count": 43,
   "id": "e75f54f4-a921-48b9-aaee-4fe77e881976",
   "metadata": {},
   "outputs": [
    {
     "data": {
      "text/html": [
       "<div>\n",
       "<style scoped>\n",
       "    .dataframe tbody tr th:only-of-type {\n",
       "        vertical-align: middle;\n",
       "    }\n",
       "\n",
       "    .dataframe tbody tr th {\n",
       "        vertical-align: top;\n",
       "    }\n",
       "\n",
       "    .dataframe thead th {\n",
       "        text-align: right;\n",
       "    }\n",
       "</style>\n",
       "<table border=\"1\" class=\"dataframe\">\n",
       "  <thead>\n",
       "    <tr style=\"text-align: right;\">\n",
       "      <th></th>\n",
       "      <th>bow_negative</th>\n",
       "      <th>bow_neutral</th>\n",
       "      <th>bow_positive</th>\n",
       "      <th>eng_negative</th>\n",
       "      <th>eng_neutral</th>\n",
       "      <th>eng_positive</th>\n",
       "      <th>sum_eng_negative</th>\n",
       "      <th>sum_eng_neutral</th>\n",
       "      <th>sum_eng_positive</th>\n",
       "    </tr>\n",
       "    <tr>\n",
       "      <th>date</th>\n",
       "      <th></th>\n",
       "      <th></th>\n",
       "      <th></th>\n",
       "      <th></th>\n",
       "      <th></th>\n",
       "      <th></th>\n",
       "      <th></th>\n",
       "      <th></th>\n",
       "      <th></th>\n",
       "    </tr>\n",
       "  </thead>\n",
       "  <tbody>\n",
       "    <tr>\n",
       "      <th>2015-01-01</th>\n",
       "      <td>[insanity today weirdo massive selling bid cen...</td>\n",
       "      <td>[made learn howtotrade, swing trading return d...</td>\n",
       "      <td>[top scoring mega cap right end, cnbc top trad...</td>\n",
       "      <td>[0, 0, 0, 12, 39, 0, 0, 0, 1, 1, 0, 1, 1, 1, 0...</td>\n",
       "      <td>[1, 1, 1, 1, 1, 1, 1, 1, 1, 0, 0, 4, 0, 0, 0, ...</td>\n",
       "      <td>[0, 2, 0, 2, 0, 1, 6, 0, 1, 0, 0, 0, 0, 0, 0, ...</td>\n",
       "      <td>93.000</td>\n",
       "      <td>153.000</td>\n",
       "      <td>1453.000</td>\n",
       "    </tr>\n",
       "    <tr>\n",
       "      <th>2015-01-02</th>\n",
       "      <td>[drop sharply company sued falsifying spec, te...</td>\n",
       "      <td>[either way winnah rt dbbrakebill object real ...</td>\n",
       "      <td>[weeklyoptions best reading market direction, ...</td>\n",
       "      <td>[1, 2, 0, 1, 1, 1, 0, 0, 0, 0, 1, 4, 0, 0, 2, ...</td>\n",
       "      <td>[1, 0, 16, 0, 0, 0, 10, 2, 0, 0, 1, 0, 0, 1, 2...</td>\n",
       "      <td>[1, 4, 3, 18, 0, 0, 0, 1, 0, 1, 1, 2, 1, 1, 1,...</td>\n",
       "      <td>128.000</td>\n",
       "      <td>1283.000</td>\n",
       "      <td>962.000</td>\n",
       "    </tr>\n",
       "  </tbody>\n",
       "</table>\n",
       "</div>"
      ],
      "text/plain": [
       "                                                 bow_negative  \\\n",
       "date                                                            \n",
       "2015-01-01  [insanity today weirdo massive selling bid cen...   \n",
       "2015-01-02  [drop sharply company sued falsifying spec, te...   \n",
       "\n",
       "                                                  bow_neutral  \\\n",
       "date                                                            \n",
       "2015-01-01  [made learn howtotrade, swing trading return d...   \n",
       "2015-01-02  [either way winnah rt dbbrakebill object real ...   \n",
       "\n",
       "                                                 bow_positive  \\\n",
       "date                                                            \n",
       "2015-01-01  [top scoring mega cap right end, cnbc top trad...   \n",
       "2015-01-02  [weeklyoptions best reading market direction, ...   \n",
       "\n",
       "                                                 eng_negative  \\\n",
       "date                                                            \n",
       "2015-01-01  [0, 0, 0, 12, 39, 0, 0, 0, 1, 1, 0, 1, 1, 1, 0...   \n",
       "2015-01-02  [1, 2, 0, 1, 1, 1, 0, 0, 0, 0, 1, 4, 0, 0, 2, ...   \n",
       "\n",
       "                                                  eng_neutral  \\\n",
       "date                                                            \n",
       "2015-01-01  [1, 1, 1, 1, 1, 1, 1, 1, 1, 0, 0, 4, 0, 0, 0, ...   \n",
       "2015-01-02  [1, 0, 16, 0, 0, 0, 10, 2, 0, 0, 1, 0, 0, 1, 2...   \n",
       "\n",
       "                                                 eng_positive  \\\n",
       "date                                                            \n",
       "2015-01-01  [0, 2, 0, 2, 0, 1, 6, 0, 1, 0, 0, 0, 0, 0, 0, ...   \n",
       "2015-01-02  [1, 4, 3, 18, 0, 0, 0, 1, 0, 1, 1, 2, 1, 1, 1,...   \n",
       "\n",
       "            sum_eng_negative  sum_eng_neutral  sum_eng_positive  \n",
       "date                                                             \n",
       "2015-01-01            93.000          153.000          1453.000  \n",
       "2015-01-02           128.000         1283.000           962.000  "
      ]
     },
     "execution_count": 43,
     "metadata": {},
     "output_type": "execute_result"
    }
   ],
   "source": [
    "#Mostrar\n",
    "agg.head(2)"
   ]
  },
  {
   "cell_type": "code",
   "execution_count": 44,
   "id": "2273581f-c06f-43d7-b7ab-52105c9e1346",
   "metadata": {},
   "outputs": [
    {
     "data": {
      "text/plain": [
       "(1819, 9)"
      ]
     },
     "execution_count": 44,
     "metadata": {},
     "output_type": "execute_result"
    }
   ],
   "source": [
    "agg.shape"
   ]
  },
  {
   "cell_type": "code",
   "execution_count": 45,
   "id": "e280fa7c-62bb-4ec8-aa0f-96491ea2fec4",
   "metadata": {},
   "outputs": [
    {
     "data": {
      "text/plain": [
       "1819"
      ]
     },
     "execution_count": 45,
     "metadata": {},
     "output_type": "execute_result"
    }
   ],
   "source": [
    "len(np.unique(AAPL.date))"
   ]
  },
  {
   "cell_type": "markdown",
   "id": "b3ddc78e-e833-4df5-ae85-906df7e1bf48",
   "metadata": {},
   "source": [
    "Concatenar:"
   ]
  },
  {
   "cell_type": "code",
   "execution_count": 46,
   "id": "caa8dcfd-6d4d-48aa-a9d5-ec0199ee638b",
   "metadata": {},
   "outputs": [],
   "source": [
    "AAPL=pd.concat([agg,sentiment], axis=1)"
   ]
  },
  {
   "cell_type": "code",
   "execution_count": 47,
   "id": "2e0c5b58-248d-4801-9392-78ee2ef46824",
   "metadata": {},
   "outputs": [
    {
     "data": {
      "text/html": [
       "<div>\n",
       "<style scoped>\n",
       "    .dataframe tbody tr th:only-of-type {\n",
       "        vertical-align: middle;\n",
       "    }\n",
       "\n",
       "    .dataframe tbody tr th {\n",
       "        vertical-align: top;\n",
       "    }\n",
       "\n",
       "    .dataframe thead th {\n",
       "        text-align: right;\n",
       "    }\n",
       "</style>\n",
       "<table border=\"1\" class=\"dataframe\">\n",
       "  <thead>\n",
       "    <tr style=\"text-align: right;\">\n",
       "      <th></th>\n",
       "      <th>bow_negative</th>\n",
       "      <th>bow_neutral</th>\n",
       "      <th>bow_positive</th>\n",
       "      <th>eng_negative</th>\n",
       "      <th>eng_neutral</th>\n",
       "      <th>eng_positive</th>\n",
       "      <th>sum_eng_negative</th>\n",
       "      <th>sum_eng_neutral</th>\n",
       "      <th>sum_eng_positive</th>\n",
       "      <th>negative</th>\n",
       "      <th>neutral</th>\n",
       "      <th>positive</th>\n",
       "      <th>n_tweets</th>\n",
       "    </tr>\n",
       "    <tr>\n",
       "      <th>date</th>\n",
       "      <th></th>\n",
       "      <th></th>\n",
       "      <th></th>\n",
       "      <th></th>\n",
       "      <th></th>\n",
       "      <th></th>\n",
       "      <th></th>\n",
       "      <th></th>\n",
       "      <th></th>\n",
       "      <th></th>\n",
       "      <th></th>\n",
       "      <th></th>\n",
       "      <th></th>\n",
       "    </tr>\n",
       "  </thead>\n",
       "  <tbody>\n",
       "    <tr>\n",
       "      <th>2015-01-01</th>\n",
       "      <td>[insanity today weirdo massive selling bid cen...</td>\n",
       "      <td>[made learn howtotrade, swing trading return d...</td>\n",
       "      <td>[top scoring mega cap right end, cnbc top trad...</td>\n",
       "      <td>[0, 0, 0, 12, 39, 0, 0, 0, 1, 1, 0, 1, 1, 1, 0...</td>\n",
       "      <td>[1, 1, 1, 1, 1, 1, 1, 1, 1, 0, 0, 4, 0, 0, 0, ...</td>\n",
       "      <td>[0, 2, 0, 2, 0, 1, 6, 0, 1, 0, 0, 0, 0, 0, 0, ...</td>\n",
       "      <td>93.000</td>\n",
       "      <td>153.000</td>\n",
       "      <td>1453.000</td>\n",
       "      <td>0.104</td>\n",
       "      <td>0.475</td>\n",
       "      <td>0.421</td>\n",
       "      <td>299</td>\n",
       "    </tr>\n",
       "    <tr>\n",
       "      <th>2015-01-02</th>\n",
       "      <td>[drop sharply company sued falsifying spec, te...</td>\n",
       "      <td>[either way winnah rt dbbrakebill object real ...</td>\n",
       "      <td>[weeklyoptions best reading market direction, ...</td>\n",
       "      <td>[1, 2, 0, 1, 1, 1, 0, 0, 0, 0, 1, 4, 0, 0, 2, ...</td>\n",
       "      <td>[1, 0, 16, 0, 0, 0, 10, 2, 0, 0, 1, 0, 0, 1, 2...</td>\n",
       "      <td>[1, 4, 3, 18, 0, 0, 0, 1, 0, 1, 1, 2, 1, 1, 1,...</td>\n",
       "      <td>128.000</td>\n",
       "      <td>1283.000</td>\n",
       "      <td>962.000</td>\n",
       "      <td>0.168</td>\n",
       "      <td>0.469</td>\n",
       "      <td>0.362</td>\n",
       "      <td>867</td>\n",
       "    </tr>\n",
       "    <tr>\n",
       "      <th>2015-01-03</th>\n",
       "      <td>[spain index like thursday triple top work vis...</td>\n",
       "      <td>[apple watch probably wo run say vc, today act...</td>\n",
       "      <td>[icycle thin ice week free apple app week, fre...</td>\n",
       "      <td>[0, 0, 0, 1, 0, 1, 0, 1, 0, 0, 0, 1, 0, 0, 0, ...</td>\n",
       "      <td>[1, 4, 13, 10, 0, 0, 1, 2, 1, 0, 12, 1, 0, 6, ...</td>\n",
       "      <td>[0, 0, 0, 0, 0, 5, 0, 0, 1, 0, 0, 0, 0, 0, 0, ...</td>\n",
       "      <td>5.000</td>\n",
       "      <td>159.000</td>\n",
       "      <td>116.000</td>\n",
       "      <td>0.087</td>\n",
       "      <td>0.390</td>\n",
       "      <td>0.523</td>\n",
       "      <td>346</td>\n",
       "    </tr>\n",
       "    <tr>\n",
       "      <th>2015-01-04</th>\n",
       "      <td>[killer combination apple pay touch id ibeacon...</td>\n",
       "      <td>[today apple computer incorporated history, ex...</td>\n",
       "      <td>[free account balance first member ptc, penny ...</td>\n",
       "      <td>[4, 1, 2, 0, 1, 0, 1, 0, 1, 0, 0, 0, 0, 0, 0, ...</td>\n",
       "      <td>[4, 2, 1, 0, 0, 1, 2, 0, 1, 0, 2, 11, 0, 1, 1,...</td>\n",
       "      <td>[0, 0, 1, 0, 3, 0, 0, 0, 1, 0, 0, 0, 0, 0, 1, ...</td>\n",
       "      <td>27.000</td>\n",
       "      <td>156.000</td>\n",
       "      <td>534.000</td>\n",
       "      <td>0.103</td>\n",
       "      <td>0.397</td>\n",
       "      <td>0.500</td>\n",
       "      <td>406</td>\n",
       "    </tr>\n",
       "    <tr>\n",
       "      <th>2015-01-05</th>\n",
       "      <td>[bangyman uwochristian shame stupid v discussi...</td>\n",
       "      <td>[new soon virnetx appe talking settlement immi...</td>\n",
       "      <td>[stock contest pick win free tablet enter clic...</td>\n",
       "      <td>[2, 0, 0, 0, 0, 0, 0, 0, 2, 0, 0, 0, 2, 0, 0, ...</td>\n",
       "      <td>[1, 0, 0, 9, 0, 0, 0, 2, 0, 1, 2, 0, 1, 13, 0,...</td>\n",
       "      <td>[0, 0, 2, 0, 0, 0, 0, 0, 0, 0, 2, 0, 0, 0, 0, ...</td>\n",
       "      <td>201.000</td>\n",
       "      <td>422.000</td>\n",
       "      <td>528.000</td>\n",
       "      <td>0.163</td>\n",
       "      <td>0.414</td>\n",
       "      <td>0.423</td>\n",
       "      <td>1147</td>\n",
       "    </tr>\n",
       "  </tbody>\n",
       "</table>\n",
       "</div>"
      ],
      "text/plain": [
       "                                                 bow_negative  \\\n",
       "date                                                            \n",
       "2015-01-01  [insanity today weirdo massive selling bid cen...   \n",
       "2015-01-02  [drop sharply company sued falsifying spec, te...   \n",
       "2015-01-03  [spain index like thursday triple top work vis...   \n",
       "2015-01-04  [killer combination apple pay touch id ibeacon...   \n",
       "2015-01-05  [bangyman uwochristian shame stupid v discussi...   \n",
       "\n",
       "                                                  bow_neutral  \\\n",
       "date                                                            \n",
       "2015-01-01  [made learn howtotrade, swing trading return d...   \n",
       "2015-01-02  [either way winnah rt dbbrakebill object real ...   \n",
       "2015-01-03  [apple watch probably wo run say vc, today act...   \n",
       "2015-01-04  [today apple computer incorporated history, ex...   \n",
       "2015-01-05  [new soon virnetx appe talking settlement immi...   \n",
       "\n",
       "                                                 bow_positive  \\\n",
       "date                                                            \n",
       "2015-01-01  [top scoring mega cap right end, cnbc top trad...   \n",
       "2015-01-02  [weeklyoptions best reading market direction, ...   \n",
       "2015-01-03  [icycle thin ice week free apple app week, fre...   \n",
       "2015-01-04  [free account balance first member ptc, penny ...   \n",
       "2015-01-05  [stock contest pick win free tablet enter clic...   \n",
       "\n",
       "                                                 eng_negative  \\\n",
       "date                                                            \n",
       "2015-01-01  [0, 0, 0, 12, 39, 0, 0, 0, 1, 1, 0, 1, 1, 1, 0...   \n",
       "2015-01-02  [1, 2, 0, 1, 1, 1, 0, 0, 0, 0, 1, 4, 0, 0, 2, ...   \n",
       "2015-01-03  [0, 0, 0, 1, 0, 1, 0, 1, 0, 0, 0, 1, 0, 0, 0, ...   \n",
       "2015-01-04  [4, 1, 2, 0, 1, 0, 1, 0, 1, 0, 0, 0, 0, 0, 0, ...   \n",
       "2015-01-05  [2, 0, 0, 0, 0, 0, 0, 0, 2, 0, 0, 0, 2, 0, 0, ...   \n",
       "\n",
       "                                                  eng_neutral  \\\n",
       "date                                                            \n",
       "2015-01-01  [1, 1, 1, 1, 1, 1, 1, 1, 1, 0, 0, 4, 0, 0, 0, ...   \n",
       "2015-01-02  [1, 0, 16, 0, 0, 0, 10, 2, 0, 0, 1, 0, 0, 1, 2...   \n",
       "2015-01-03  [1, 4, 13, 10, 0, 0, 1, 2, 1, 0, 12, 1, 0, 6, ...   \n",
       "2015-01-04  [4, 2, 1, 0, 0, 1, 2, 0, 1, 0, 2, 11, 0, 1, 1,...   \n",
       "2015-01-05  [1, 0, 0, 9, 0, 0, 0, 2, 0, 1, 2, 0, 1, 13, 0,...   \n",
       "\n",
       "                                                 eng_positive  \\\n",
       "date                                                            \n",
       "2015-01-01  [0, 2, 0, 2, 0, 1, 6, 0, 1, 0, 0, 0, 0, 0, 0, ...   \n",
       "2015-01-02  [1, 4, 3, 18, 0, 0, 0, 1, 0, 1, 1, 2, 1, 1, 1,...   \n",
       "2015-01-03  [0, 0, 0, 0, 0, 5, 0, 0, 1, 0, 0, 0, 0, 0, 0, ...   \n",
       "2015-01-04  [0, 0, 1, 0, 3, 0, 0, 0, 1, 0, 0, 0, 0, 0, 1, ...   \n",
       "2015-01-05  [0, 0, 2, 0, 0, 0, 0, 0, 0, 0, 2, 0, 0, 0, 0, ...   \n",
       "\n",
       "            sum_eng_negative  sum_eng_neutral  sum_eng_positive  negative  \\\n",
       "date                                                                        \n",
       "2015-01-01            93.000          153.000          1453.000     0.104   \n",
       "2015-01-02           128.000         1283.000           962.000     0.168   \n",
       "2015-01-03             5.000          159.000           116.000     0.087   \n",
       "2015-01-04            27.000          156.000           534.000     0.103   \n",
       "2015-01-05           201.000          422.000           528.000     0.163   \n",
       "\n",
       "            neutral  positive  n_tweets  \n",
       "date                                     \n",
       "2015-01-01    0.475     0.421       299  \n",
       "2015-01-02    0.469     0.362       867  \n",
       "2015-01-03    0.390     0.523       346  \n",
       "2015-01-04    0.397     0.500       406  \n",
       "2015-01-05    0.414     0.423      1147  "
      ]
     },
     "execution_count": 47,
     "metadata": {},
     "output_type": "execute_result"
    }
   ],
   "source": [
    "AAPL.head()"
   ]
  },
  {
   "cell_type": "code",
   "execution_count": 48,
   "id": "e6872815-58ec-4eb8-a7ea-fd0bf65bae70",
   "metadata": {},
   "outputs": [
    {
     "data": {
      "text/plain": [
       "(1819, 13)"
      ]
     },
     "execution_count": 48,
     "metadata": {},
     "output_type": "execute_result"
    }
   ],
   "source": [
    "AAPL.shape"
   ]
  },
  {
   "cell_type": "code",
   "execution_count": 49,
   "id": "29edbf37-a5ce-43bb-b97f-aac88bc96e61",
   "metadata": {
    "tags": []
   },
   "outputs": [],
   "source": [
    "from sklearn.feature_extraction.text import TfidfVectorizer\n",
    "from sklearn.metrics.pairwise import cosine_similarity, linear_kernel\n",
    "\n",
    "def dispersion_tweets_content(tweets_cont_list, tweets_eng_list):\n",
    "    \n",
    "    #return zero if list´s length is 0 or is nan object\n",
    "    if ((isinstance(tweets_cont_list, list)) | (isinstance(tweets_eng_list, list))):\n",
    "        \n",
    "        #if lists has nan, remove it by its position\n",
    "        pos_nan=[ind for ind, x in enumerate(tweets_cont_list) if str(x) == 'nan']\n",
    "        tweets_cont_list=[x for ind, x in enumerate(tweets_cont_list) if not np.isin(ind,pos_nan)]\n",
    "        tweets_eng_list=[x for ind, x in enumerate(tweets_eng_list) if not np.isin(ind,pos_nan)]\n",
    "        \n",
    "        if ((len(tweets_cont_list)==0) | (len(tweets_eng_list)==0)):\n",
    "            return 0\n",
    "    else:\n",
    "        if ((pd.isna(tweets_cont_list)) | (pd.isna(tweets_eng_list))):\n",
    "            return 0\n",
    "    \n",
    "    tfidf_matrix=TfidfVectorizer().fit_transform(tweets_cont_list)\n",
    "    cosine_sim=linear_kernel(tfidf_matrix, tfidf_matrix) #cosine_similarity\n",
    "    dispersion_sim=(1-cosine_sim)\n",
    "    \n",
    "    tweets_eng_array=np.array(tweets_eng_list)\n",
    "    unos=np.ones((1,len(tweets_eng_array)))\n",
    "    tweets_eng_matrix=tweets_eng_array.reshape(1,-1)*(unos.T@unos)\n",
    "    np.fill_diagonal(tweets_eng_matrix,0)\n",
    "    \n",
    "    if np.sum(tweets_eng_matrix)==0:\n",
    "        return 0\n",
    "    \n",
    "    return np.sum(dispersion_sim*tweets_eng_matrix)/np.sum(tweets_eng_matrix)"
   ]
  },
  {
   "cell_type": "code",
   "execution_count": 50,
   "id": "8b55c70e-7a27-4250-816a-22526be3ccfa",
   "metadata": {},
   "outputs": [],
   "source": [
    "AAPL['dispersion_negative']=AAPL.apply(lambda x: dispersion_tweets_content(x.bow_negative, x.eng_negative), axis=1)\n",
    "AAPL['dispersion_neutral']=AAPL.apply(lambda x: dispersion_tweets_content(x.bow_neutral, x.eng_neutral), axis=1)\n",
    "AAPL['dispersion_positive']=AAPL.apply(lambda x: dispersion_tweets_content(x.bow_positive, x.eng_positive), axis=1)"
   ]
  },
  {
   "cell_type": "code",
   "execution_count": 51,
   "id": "865f18cd-515f-4b0e-a6a1-fb118535289a",
   "metadata": {},
   "outputs": [],
   "source": [
    "AAPL=AAPL.assign(dispersion_tweets_content=(AAPL.dispersion_negative*AAPL.sum_eng_negative+\n",
    "                                            AAPL.dispersion_neutral*AAPL.sum_eng_neutral+\n",
    "                                            AAPL.dispersion_positive*AAPL.sum_eng_positive)/\n",
    "                 (AAPL.sum_eng_negative+AAPL.sum_eng_neutral+AAPL.sum_eng_positive))"
   ]
  },
  {
   "cell_type": "code",
   "execution_count": 52,
   "id": "05117132-4cf1-4e5a-8dad-666a52dac11d",
   "metadata": {},
   "outputs": [
    {
     "data": {
      "text/html": [
       "<div>\n",
       "<style scoped>\n",
       "    .dataframe tbody tr th:only-of-type {\n",
       "        vertical-align: middle;\n",
       "    }\n",
       "\n",
       "    .dataframe tbody tr th {\n",
       "        vertical-align: top;\n",
       "    }\n",
       "\n",
       "    .dataframe thead th {\n",
       "        text-align: right;\n",
       "    }\n",
       "</style>\n",
       "<table border=\"1\" class=\"dataframe\">\n",
       "  <thead>\n",
       "    <tr style=\"text-align: right;\">\n",
       "      <th></th>\n",
       "      <th>bow_negative</th>\n",
       "      <th>bow_neutral</th>\n",
       "      <th>bow_positive</th>\n",
       "      <th>eng_negative</th>\n",
       "      <th>eng_neutral</th>\n",
       "      <th>eng_positive</th>\n",
       "      <th>sum_eng_negative</th>\n",
       "      <th>sum_eng_neutral</th>\n",
       "      <th>sum_eng_positive</th>\n",
       "      <th>negative</th>\n",
       "      <th>neutral</th>\n",
       "      <th>positive</th>\n",
       "      <th>n_tweets</th>\n",
       "      <th>dispersion_negative</th>\n",
       "      <th>dispersion_neutral</th>\n",
       "      <th>dispersion_positive</th>\n",
       "      <th>dispersion_tweets_content</th>\n",
       "    </tr>\n",
       "    <tr>\n",
       "      <th>date</th>\n",
       "      <th></th>\n",
       "      <th></th>\n",
       "      <th></th>\n",
       "      <th></th>\n",
       "      <th></th>\n",
       "      <th></th>\n",
       "      <th></th>\n",
       "      <th></th>\n",
       "      <th></th>\n",
       "      <th></th>\n",
       "      <th></th>\n",
       "      <th></th>\n",
       "      <th></th>\n",
       "      <th></th>\n",
       "      <th></th>\n",
       "      <th></th>\n",
       "      <th></th>\n",
       "    </tr>\n",
       "  </thead>\n",
       "  <tbody>\n",
       "    <tr>\n",
       "      <th>2015-01-01</th>\n",
       "      <td>[insanity today weirdo massive selling bid cen...</td>\n",
       "      <td>[made learn howtotrade, swing trading return d...</td>\n",
       "      <td>[top scoring mega cap right end, cnbc top trad...</td>\n",
       "      <td>[0, 0, 0, 12, 39, 0, 0, 0, 1, 1, 0, 1, 1, 1, 0...</td>\n",
       "      <td>[1, 1, 1, 1, 1, 1, 1, 1, 1, 0, 0, 4, 0, 0, 0, ...</td>\n",
       "      <td>[0, 2, 0, 2, 0, 1, 6, 0, 1, 0, 0, 0, 0, 0, 0, ...</td>\n",
       "      <td>93.000</td>\n",
       "      <td>153.000</td>\n",
       "      <td>1453.000</td>\n",
       "      <td>0.104</td>\n",
       "      <td>0.475</td>\n",
       "      <td>0.421</td>\n",
       "      <td>299</td>\n",
       "      <td>0.960</td>\n",
       "      <td>0.972</td>\n",
       "      <td>0.947</td>\n",
       "      <td>0.950</td>\n",
       "    </tr>\n",
       "    <tr>\n",
       "      <th>2015-01-02</th>\n",
       "      <td>[drop sharply company sued falsifying spec, te...</td>\n",
       "      <td>[either way winnah rt dbbrakebill object real ...</td>\n",
       "      <td>[weeklyoptions best reading market direction, ...</td>\n",
       "      <td>[1, 2, 0, 1, 1, 1, 0, 0, 0, 0, 1, 4, 0, 0, 2, ...</td>\n",
       "      <td>[1, 0, 16, 0, 0, 0, 10, 2, 0, 0, 1, 0, 0, 1, 2...</td>\n",
       "      <td>[1, 4, 3, 18, 0, 0, 0, 1, 0, 1, 1, 2, 1, 1, 1,...</td>\n",
       "      <td>128.000</td>\n",
       "      <td>1283.000</td>\n",
       "      <td>962.000</td>\n",
       "      <td>0.168</td>\n",
       "      <td>0.469</td>\n",
       "      <td>0.362</td>\n",
       "      <td>867</td>\n",
       "      <td>0.991</td>\n",
       "      <td>0.992</td>\n",
       "      <td>0.975</td>\n",
       "      <td>0.985</td>\n",
       "    </tr>\n",
       "    <tr>\n",
       "      <th>2015-01-03</th>\n",
       "      <td>[spain index like thursday triple top work vis...</td>\n",
       "      <td>[apple watch probably wo run say vc, today act...</td>\n",
       "      <td>[icycle thin ice week free apple app week, fre...</td>\n",
       "      <td>[0, 0, 0, 1, 0, 1, 0, 1, 0, 0, 0, 1, 0, 0, 0, ...</td>\n",
       "      <td>[1, 4, 13, 10, 0, 0, 1, 2, 1, 0, 12, 1, 0, 6, ...</td>\n",
       "      <td>[0, 0, 0, 0, 0, 5, 0, 0, 1, 0, 0, 0, 0, 0, 0, ...</td>\n",
       "      <td>5.000</td>\n",
       "      <td>159.000</td>\n",
       "      <td>116.000</td>\n",
       "      <td>0.087</td>\n",
       "      <td>0.390</td>\n",
       "      <td>0.523</td>\n",
       "      <td>346</td>\n",
       "      <td>0.986</td>\n",
       "      <td>0.975</td>\n",
       "      <td>0.909</td>\n",
       "      <td>0.947</td>\n",
       "    </tr>\n",
       "    <tr>\n",
       "      <th>2015-01-04</th>\n",
       "      <td>[killer combination apple pay touch id ibeacon...</td>\n",
       "      <td>[today apple computer incorporated history, ex...</td>\n",
       "      <td>[free account balance first member ptc, penny ...</td>\n",
       "      <td>[4, 1, 2, 0, 1, 0, 1, 0, 1, 0, 0, 0, 0, 0, 0, ...</td>\n",
       "      <td>[4, 2, 1, 0, 0, 1, 2, 0, 1, 0, 2, 11, 0, 1, 1,...</td>\n",
       "      <td>[0, 0, 1, 0, 3, 0, 0, 0, 1, 0, 0, 0, 0, 0, 1, ...</td>\n",
       "      <td>27.000</td>\n",
       "      <td>156.000</td>\n",
       "      <td>534.000</td>\n",
       "      <td>0.103</td>\n",
       "      <td>0.397</td>\n",
       "      <td>0.500</td>\n",
       "      <td>406</td>\n",
       "      <td>0.981</td>\n",
       "      <td>0.981</td>\n",
       "      <td>0.948</td>\n",
       "      <td>0.956</td>\n",
       "    </tr>\n",
       "    <tr>\n",
       "      <th>2015-01-05</th>\n",
       "      <td>[bangyman uwochristian shame stupid v discussi...</td>\n",
       "      <td>[new soon virnetx appe talking settlement immi...</td>\n",
       "      <td>[stock contest pick win free tablet enter clic...</td>\n",
       "      <td>[2, 0, 0, 0, 0, 0, 0, 0, 2, 0, 0, 0, 2, 0, 0, ...</td>\n",
       "      <td>[1, 0, 0, 9, 0, 0, 0, 2, 0, 1, 2, 0, 1, 13, 0,...</td>\n",
       "      <td>[0, 0, 2, 0, 0, 0, 0, 0, 0, 0, 2, 0, 0, 0, 0, ...</td>\n",
       "      <td>201.000</td>\n",
       "      <td>422.000</td>\n",
       "      <td>528.000</td>\n",
       "      <td>0.163</td>\n",
       "      <td>0.414</td>\n",
       "      <td>0.423</td>\n",
       "      <td>1147</td>\n",
       "      <td>0.976</td>\n",
       "      <td>0.986</td>\n",
       "      <td>0.981</td>\n",
       "      <td>0.982</td>\n",
       "    </tr>\n",
       "  </tbody>\n",
       "</table>\n",
       "</div>"
      ],
      "text/plain": [
       "                                                 bow_negative  \\\n",
       "date                                                            \n",
       "2015-01-01  [insanity today weirdo massive selling bid cen...   \n",
       "2015-01-02  [drop sharply company sued falsifying spec, te...   \n",
       "2015-01-03  [spain index like thursday triple top work vis...   \n",
       "2015-01-04  [killer combination apple pay touch id ibeacon...   \n",
       "2015-01-05  [bangyman uwochristian shame stupid v discussi...   \n",
       "\n",
       "                                                  bow_neutral  \\\n",
       "date                                                            \n",
       "2015-01-01  [made learn howtotrade, swing trading return d...   \n",
       "2015-01-02  [either way winnah rt dbbrakebill object real ...   \n",
       "2015-01-03  [apple watch probably wo run say vc, today act...   \n",
       "2015-01-04  [today apple computer incorporated history, ex...   \n",
       "2015-01-05  [new soon virnetx appe talking settlement immi...   \n",
       "\n",
       "                                                 bow_positive  \\\n",
       "date                                                            \n",
       "2015-01-01  [top scoring mega cap right end, cnbc top trad...   \n",
       "2015-01-02  [weeklyoptions best reading market direction, ...   \n",
       "2015-01-03  [icycle thin ice week free apple app week, fre...   \n",
       "2015-01-04  [free account balance first member ptc, penny ...   \n",
       "2015-01-05  [stock contest pick win free tablet enter clic...   \n",
       "\n",
       "                                                 eng_negative  \\\n",
       "date                                                            \n",
       "2015-01-01  [0, 0, 0, 12, 39, 0, 0, 0, 1, 1, 0, 1, 1, 1, 0...   \n",
       "2015-01-02  [1, 2, 0, 1, 1, 1, 0, 0, 0, 0, 1, 4, 0, 0, 2, ...   \n",
       "2015-01-03  [0, 0, 0, 1, 0, 1, 0, 1, 0, 0, 0, 1, 0, 0, 0, ...   \n",
       "2015-01-04  [4, 1, 2, 0, 1, 0, 1, 0, 1, 0, 0, 0, 0, 0, 0, ...   \n",
       "2015-01-05  [2, 0, 0, 0, 0, 0, 0, 0, 2, 0, 0, 0, 2, 0, 0, ...   \n",
       "\n",
       "                                                  eng_neutral  \\\n",
       "date                                                            \n",
       "2015-01-01  [1, 1, 1, 1, 1, 1, 1, 1, 1, 0, 0, 4, 0, 0, 0, ...   \n",
       "2015-01-02  [1, 0, 16, 0, 0, 0, 10, 2, 0, 0, 1, 0, 0, 1, 2...   \n",
       "2015-01-03  [1, 4, 13, 10, 0, 0, 1, 2, 1, 0, 12, 1, 0, 6, ...   \n",
       "2015-01-04  [4, 2, 1, 0, 0, 1, 2, 0, 1, 0, 2, 11, 0, 1, 1,...   \n",
       "2015-01-05  [1, 0, 0, 9, 0, 0, 0, 2, 0, 1, 2, 0, 1, 13, 0,...   \n",
       "\n",
       "                                                 eng_positive  \\\n",
       "date                                                            \n",
       "2015-01-01  [0, 2, 0, 2, 0, 1, 6, 0, 1, 0, 0, 0, 0, 0, 0, ...   \n",
       "2015-01-02  [1, 4, 3, 18, 0, 0, 0, 1, 0, 1, 1, 2, 1, 1, 1,...   \n",
       "2015-01-03  [0, 0, 0, 0, 0, 5, 0, 0, 1, 0, 0, 0, 0, 0, 0, ...   \n",
       "2015-01-04  [0, 0, 1, 0, 3, 0, 0, 0, 1, 0, 0, 0, 0, 0, 1, ...   \n",
       "2015-01-05  [0, 0, 2, 0, 0, 0, 0, 0, 0, 0, 2, 0, 0, 0, 0, ...   \n",
       "\n",
       "            sum_eng_negative  sum_eng_neutral  sum_eng_positive  negative  \\\n",
       "date                                                                        \n",
       "2015-01-01            93.000          153.000          1453.000     0.104   \n",
       "2015-01-02           128.000         1283.000           962.000     0.168   \n",
       "2015-01-03             5.000          159.000           116.000     0.087   \n",
       "2015-01-04            27.000          156.000           534.000     0.103   \n",
       "2015-01-05           201.000          422.000           528.000     0.163   \n",
       "\n",
       "            neutral  positive  n_tweets  dispersion_negative  \\\n",
       "date                                                           \n",
       "2015-01-01    0.475     0.421       299                0.960   \n",
       "2015-01-02    0.469     0.362       867                0.991   \n",
       "2015-01-03    0.390     0.523       346                0.986   \n",
       "2015-01-04    0.397     0.500       406                0.981   \n",
       "2015-01-05    0.414     0.423      1147                0.976   \n",
       "\n",
       "            dispersion_neutral  dispersion_positive  dispersion_tweets_content  \n",
       "date                                                                            \n",
       "2015-01-01               0.972                0.947                      0.950  \n",
       "2015-01-02               0.992                0.975                      0.985  \n",
       "2015-01-03               0.975                0.909                      0.947  \n",
       "2015-01-04               0.981                0.948                      0.956  \n",
       "2015-01-05               0.986                0.981                      0.982  "
      ]
     },
     "execution_count": 52,
     "metadata": {},
     "output_type": "execute_result"
    }
   ],
   "source": [
    "AAPL.head()"
   ]
  },
  {
   "cell_type": "code",
   "execution_count": 53,
   "id": "a05f3dfb-acf5-46bc-8d9e-6e72b698d339",
   "metadata": {},
   "outputs": [
    {
     "data": {
      "text/plain": [
       "count   1819.000\n",
       "mean       0.976\n",
       "std        0.019\n",
       "min        0.788\n",
       "25%        0.974\n",
       "50%        0.981\n",
       "75%        0.985\n",
       "max        0.996\n",
       "Name: dispersion_tweets_content, dtype: float64"
      ]
     },
     "execution_count": 53,
     "metadata": {},
     "output_type": "execute_result"
    }
   ],
   "source": [
    "AAPL.dispersion_tweets_content.describe()"
   ]
  },
  {
   "cell_type": "code",
   "execution_count": 54,
   "id": "1d326e73-5b04-48d3-9b8f-4610c3df9531",
   "metadata": {},
   "outputs": [],
   "source": [
    "AAPL=AAPL.drop(['bow_negative','bow_neutral','bow_positive',\n",
    "                'eng_negative','eng_neutral','eng_positive',\n",
    "                'dispersion_negative','dispersion_neutral','dispersion_positive'], axis=1)"
   ]
  },
  {
   "cell_type": "markdown",
   "id": "c1f30a79-3ef2-4f2f-9c41-78ac643c0a4c",
   "metadata": {},
   "source": [
    "Variaciones distinguiendo las que superan los umbrales establecidos:"
   ]
  },
  {
   "cell_type": "code",
   "execution_count": 55,
   "id": "cd010d8c-57ee-4a3d-82b8-2fcfa7bcaa92",
   "metadata": {},
   "outputs": [],
   "source": [
    "Y_AAPL=change_price['AAPL'].apply(lambda x: 1 if x>umbrales_sup['AAPL'] else (2 if x<umbrales_inf['AAPL'] else 0)).to_frame()\n",
    "#Cambiarle el tipo al índice\n",
    "Y_AAPL.index=Y_AAPL.index.to_series().dt.date\n",
    "#Renombrar la columna\n",
    "Y_AAPL.rename(columns={'AAPL': 'Y'}, inplace=True)\n",
    "#Seleccionar los periodos con datos\n",
    "Y_AAPL=Y_AAPL.loc[AAPL.index]"
   ]
  },
  {
   "cell_type": "code",
   "execution_count": 57,
   "id": "3786baae-6221-4769-add7-149c6160cb6b",
   "metadata": {},
   "outputs": [
    {
     "data": {
      "text/html": [
       "<div>\n",
       "<style scoped>\n",
       "    .dataframe tbody tr th:only-of-type {\n",
       "        vertical-align: middle;\n",
       "    }\n",
       "\n",
       "    .dataframe tbody tr th {\n",
       "        vertical-align: top;\n",
       "    }\n",
       "\n",
       "    .dataframe thead th {\n",
       "        text-align: right;\n",
       "    }\n",
       "</style>\n",
       "<table border=\"1\" class=\"dataframe\">\n",
       "  <thead>\n",
       "    <tr style=\"text-align: right;\">\n",
       "      <th></th>\n",
       "      <th>Y</th>\n",
       "    </tr>\n",
       "    <tr>\n",
       "      <th>date</th>\n",
       "      <th></th>\n",
       "    </tr>\n",
       "  </thead>\n",
       "  <tbody>\n",
       "    <tr>\n",
       "      <th>2015-01-01</th>\n",
       "      <td>0</td>\n",
       "    </tr>\n",
       "    <tr>\n",
       "      <th>2015-01-02</th>\n",
       "      <td>0</td>\n",
       "    </tr>\n",
       "    <tr>\n",
       "      <th>2015-01-03</th>\n",
       "      <td>0</td>\n",
       "    </tr>\n",
       "    <tr>\n",
       "      <th>2015-01-04</th>\n",
       "      <td>0</td>\n",
       "    </tr>\n",
       "    <tr>\n",
       "      <th>2015-01-05</th>\n",
       "      <td>0</td>\n",
       "    </tr>\n",
       "  </tbody>\n",
       "</table>\n",
       "</div>"
      ],
      "text/plain": [
       "            Y\n",
       "date         \n",
       "2015-01-01  0\n",
       "2015-01-02  0\n",
       "2015-01-03  0\n",
       "2015-01-04  0\n",
       "2015-01-05  0"
      ]
     },
     "execution_count": 57,
     "metadata": {},
     "output_type": "execute_result"
    }
   ],
   "source": [
    "Y_AAPL.head()"
   ]
  },
  {
   "cell_type": "markdown",
   "id": "42e1b4ae-2849-450e-8ab7-b8b14ad644a2",
   "metadata": {},
   "source": [
    "Concatenar Y:"
   ]
  },
  {
   "cell_type": "code",
   "execution_count": 56,
   "id": "ce15f9a6-f205-40d3-9ca3-6fe31a408d24",
   "metadata": {},
   "outputs": [],
   "source": [
    "AAPL=pd.concat([AAPL,Y_AAPL], axis=1)"
   ]
  },
  {
   "cell_type": "code",
   "execution_count": 57,
   "id": "d87dd3e0-4dcf-4545-b2fe-e7e0d1e990e3",
   "metadata": {},
   "outputs": [
    {
     "data": {
      "text/plain": [
       "(1819, 9)"
      ]
     },
     "execution_count": 57,
     "metadata": {},
     "output_type": "execute_result"
    }
   ],
   "source": [
    "AAPL.shape"
   ]
  },
  {
   "cell_type": "code",
   "execution_count": 58,
   "id": "d2d866de-c401-4f54-b84a-5d1ca77cd507",
   "metadata": {},
   "outputs": [
    {
     "data": {
      "text/html": [
       "<div>\n",
       "<style scoped>\n",
       "    .dataframe tbody tr th:only-of-type {\n",
       "        vertical-align: middle;\n",
       "    }\n",
       "\n",
       "    .dataframe tbody tr th {\n",
       "        vertical-align: top;\n",
       "    }\n",
       "\n",
       "    .dataframe thead th {\n",
       "        text-align: right;\n",
       "    }\n",
       "</style>\n",
       "<table border=\"1\" class=\"dataframe\">\n",
       "  <thead>\n",
       "    <tr style=\"text-align: right;\">\n",
       "      <th></th>\n",
       "      <th>sum_eng_negative</th>\n",
       "      <th>sum_eng_neutral</th>\n",
       "      <th>sum_eng_positive</th>\n",
       "      <th>negative</th>\n",
       "      <th>neutral</th>\n",
       "      <th>positive</th>\n",
       "      <th>n_tweets</th>\n",
       "      <th>dispersion_tweets_content</th>\n",
       "      <th>Y</th>\n",
       "    </tr>\n",
       "    <tr>\n",
       "      <th>date</th>\n",
       "      <th></th>\n",
       "      <th></th>\n",
       "      <th></th>\n",
       "      <th></th>\n",
       "      <th></th>\n",
       "      <th></th>\n",
       "      <th></th>\n",
       "      <th></th>\n",
       "      <th></th>\n",
       "    </tr>\n",
       "  </thead>\n",
       "  <tbody>\n",
       "    <tr>\n",
       "      <th>2015-01-01</th>\n",
       "      <td>93.000</td>\n",
       "      <td>153.000</td>\n",
       "      <td>1453.000</td>\n",
       "      <td>0.104</td>\n",
       "      <td>0.475</td>\n",
       "      <td>0.421</td>\n",
       "      <td>299</td>\n",
       "      <td>0.950</td>\n",
       "      <td>0</td>\n",
       "    </tr>\n",
       "    <tr>\n",
       "      <th>2015-01-02</th>\n",
       "      <td>128.000</td>\n",
       "      <td>1283.000</td>\n",
       "      <td>962.000</td>\n",
       "      <td>0.168</td>\n",
       "      <td>0.469</td>\n",
       "      <td>0.362</td>\n",
       "      <td>867</td>\n",
       "      <td>0.985</td>\n",
       "      <td>0</td>\n",
       "    </tr>\n",
       "    <tr>\n",
       "      <th>2015-01-03</th>\n",
       "      <td>5.000</td>\n",
       "      <td>159.000</td>\n",
       "      <td>116.000</td>\n",
       "      <td>0.087</td>\n",
       "      <td>0.390</td>\n",
       "      <td>0.523</td>\n",
       "      <td>346</td>\n",
       "      <td>0.947</td>\n",
       "      <td>0</td>\n",
       "    </tr>\n",
       "    <tr>\n",
       "      <th>2015-01-04</th>\n",
       "      <td>27.000</td>\n",
       "      <td>156.000</td>\n",
       "      <td>534.000</td>\n",
       "      <td>0.103</td>\n",
       "      <td>0.397</td>\n",
       "      <td>0.500</td>\n",
       "      <td>406</td>\n",
       "      <td>0.956</td>\n",
       "      <td>0</td>\n",
       "    </tr>\n",
       "    <tr>\n",
       "      <th>2015-01-05</th>\n",
       "      <td>201.000</td>\n",
       "      <td>422.000</td>\n",
       "      <td>528.000</td>\n",
       "      <td>0.163</td>\n",
       "      <td>0.414</td>\n",
       "      <td>0.423</td>\n",
       "      <td>1147</td>\n",
       "      <td>0.982</td>\n",
       "      <td>2</td>\n",
       "    </tr>\n",
       "  </tbody>\n",
       "</table>\n",
       "</div>"
      ],
      "text/plain": [
       "            sum_eng_negative  sum_eng_neutral  sum_eng_positive  negative  \\\n",
       "date                                                                        \n",
       "2015-01-01            93.000          153.000          1453.000     0.104   \n",
       "2015-01-02           128.000         1283.000           962.000     0.168   \n",
       "2015-01-03             5.000          159.000           116.000     0.087   \n",
       "2015-01-04            27.000          156.000           534.000     0.103   \n",
       "2015-01-05           201.000          422.000           528.000     0.163   \n",
       "\n",
       "            neutral  positive  n_tweets  dispersion_tweets_content  Y  \n",
       "date                                                                   \n",
       "2015-01-01    0.475     0.421       299                      0.950  0  \n",
       "2015-01-02    0.469     0.362       867                      0.985  0  \n",
       "2015-01-03    0.390     0.523       346                      0.947  0  \n",
       "2015-01-04    0.397     0.500       406                      0.956  0  \n",
       "2015-01-05    0.414     0.423      1147                      0.982  2  "
      ]
     },
     "execution_count": 58,
     "metadata": {},
     "output_type": "execute_result"
    }
   ],
   "source": [
    "AAPL.head()"
   ]
  },
  {
   "cell_type": "code",
   "execution_count": 59,
   "id": "ba56e5b2-29e6-4fc2-a9e3-42d9e9cad888",
   "metadata": {},
   "outputs": [],
   "source": [
    "Y_AAPL2=change_price['AAPL'].to_frame()\n",
    "#Cambiarle el tipo al índice\n",
    "Y_AAPL2.index=Y_AAPL2.index.to_series().dt.date\n",
    "#Renombrar la columna\n",
    "Y_AAPL2.rename(columns={'AAPL': 'Y2'}, inplace=True)\n",
    "#Seleccionar los periodos con datos\n",
    "Y_AAPL2=Y_AAPL2.loc[AAPL.index]"
   ]
  },
  {
   "cell_type": "code",
   "execution_count": 60,
   "id": "959f7eb4-f0b9-403c-981e-d5156ab90a8a",
   "metadata": {},
   "outputs": [],
   "source": [
    "AAPL=pd.concat([AAPL,Y_AAPL2], axis=1)"
   ]
  },
  {
   "cell_type": "code",
   "execution_count": 61,
   "id": "eb134782-bc0c-4fb2-b615-6f75c66983ed",
   "metadata": {},
   "outputs": [
    {
     "data": {
      "text/plain": [
       "(1819, 10)"
      ]
     },
     "execution_count": 61,
     "metadata": {},
     "output_type": "execute_result"
    }
   ],
   "source": [
    "AAPL.shape"
   ]
  },
  {
   "cell_type": "code",
   "execution_count": 62,
   "id": "f49af76b-eb86-4d64-be43-df56478ab4d7",
   "metadata": {},
   "outputs": [
    {
     "data": {
      "text/html": [
       "<div>\n",
       "<style scoped>\n",
       "    .dataframe tbody tr th:only-of-type {\n",
       "        vertical-align: middle;\n",
       "    }\n",
       "\n",
       "    .dataframe tbody tr th {\n",
       "        vertical-align: top;\n",
       "    }\n",
       "\n",
       "    .dataframe thead th {\n",
       "        text-align: right;\n",
       "    }\n",
       "</style>\n",
       "<table border=\"1\" class=\"dataframe\">\n",
       "  <thead>\n",
       "    <tr style=\"text-align: right;\">\n",
       "      <th></th>\n",
       "      <th>sum_eng_negative</th>\n",
       "      <th>sum_eng_neutral</th>\n",
       "      <th>sum_eng_positive</th>\n",
       "      <th>negative</th>\n",
       "      <th>neutral</th>\n",
       "      <th>positive</th>\n",
       "      <th>n_tweets</th>\n",
       "      <th>dispersion_tweets_content</th>\n",
       "      <th>Y</th>\n",
       "      <th>Y2</th>\n",
       "    </tr>\n",
       "    <tr>\n",
       "      <th>date</th>\n",
       "      <th></th>\n",
       "      <th></th>\n",
       "      <th></th>\n",
       "      <th></th>\n",
       "      <th></th>\n",
       "      <th></th>\n",
       "      <th></th>\n",
       "      <th></th>\n",
       "      <th></th>\n",
       "      <th></th>\n",
       "    </tr>\n",
       "  </thead>\n",
       "  <tbody>\n",
       "    <tr>\n",
       "      <th>2015-01-01</th>\n",
       "      <td>93.000</td>\n",
       "      <td>153.000</td>\n",
       "      <td>1453.000</td>\n",
       "      <td>0.104</td>\n",
       "      <td>0.475</td>\n",
       "      <td>0.421</td>\n",
       "      <td>299</td>\n",
       "      <td>0.950</td>\n",
       "      <td>0</td>\n",
       "      <td>0.000</td>\n",
       "    </tr>\n",
       "    <tr>\n",
       "      <th>2015-01-02</th>\n",
       "      <td>128.000</td>\n",
       "      <td>1283.000</td>\n",
       "      <td>962.000</td>\n",
       "      <td>0.168</td>\n",
       "      <td>0.469</td>\n",
       "      <td>0.362</td>\n",
       "      <td>867</td>\n",
       "      <td>0.985</td>\n",
       "      <td>0</td>\n",
       "      <td>-0.010</td>\n",
       "    </tr>\n",
       "    <tr>\n",
       "      <th>2015-01-03</th>\n",
       "      <td>5.000</td>\n",
       "      <td>159.000</td>\n",
       "      <td>116.000</td>\n",
       "      <td>0.087</td>\n",
       "      <td>0.390</td>\n",
       "      <td>0.523</td>\n",
       "      <td>346</td>\n",
       "      <td>0.947</td>\n",
       "      <td>0</td>\n",
       "      <td>0.000</td>\n",
       "    </tr>\n",
       "    <tr>\n",
       "      <th>2015-01-04</th>\n",
       "      <td>27.000</td>\n",
       "      <td>156.000</td>\n",
       "      <td>534.000</td>\n",
       "      <td>0.103</td>\n",
       "      <td>0.397</td>\n",
       "      <td>0.500</td>\n",
       "      <td>406</td>\n",
       "      <td>0.956</td>\n",
       "      <td>0</td>\n",
       "      <td>0.000</td>\n",
       "    </tr>\n",
       "    <tr>\n",
       "      <th>2015-01-05</th>\n",
       "      <td>201.000</td>\n",
       "      <td>422.000</td>\n",
       "      <td>528.000</td>\n",
       "      <td>0.163</td>\n",
       "      <td>0.414</td>\n",
       "      <td>0.423</td>\n",
       "      <td>1147</td>\n",
       "      <td>0.982</td>\n",
       "      <td>2</td>\n",
       "      <td>-0.028</td>\n",
       "    </tr>\n",
       "  </tbody>\n",
       "</table>\n",
       "</div>"
      ],
      "text/plain": [
       "            sum_eng_negative  sum_eng_neutral  sum_eng_positive  negative  \\\n",
       "date                                                                        \n",
       "2015-01-01            93.000          153.000          1453.000     0.104   \n",
       "2015-01-02           128.000         1283.000           962.000     0.168   \n",
       "2015-01-03             5.000          159.000           116.000     0.087   \n",
       "2015-01-04            27.000          156.000           534.000     0.103   \n",
       "2015-01-05           201.000          422.000           528.000     0.163   \n",
       "\n",
       "            neutral  positive  n_tweets  dispersion_tweets_content  Y     Y2  \n",
       "date                                                                          \n",
       "2015-01-01    0.475     0.421       299                      0.950  0  0.000  \n",
       "2015-01-02    0.469     0.362       867                      0.985  0 -0.010  \n",
       "2015-01-03    0.390     0.523       346                      0.947  0  0.000  \n",
       "2015-01-04    0.397     0.500       406                      0.956  0  0.000  \n",
       "2015-01-05    0.414     0.423      1147                      0.982  2 -0.028  "
      ]
     },
     "execution_count": 62,
     "metadata": {},
     "output_type": "execute_result"
    }
   ],
   "source": [
    "AAPL.head()"
   ]
  },
  {
   "cell_type": "code",
   "execution_count": null,
   "id": "d0dfdc1d-31d5-42a5-ad5b-e44ce1d3f8ba",
   "metadata": {},
   "outputs": [],
   "source": []
  },
  {
   "cell_type": "code",
   "execution_count": 63,
   "id": "f36955b6-445f-4383-b311-bbbfbe111a31",
   "metadata": {},
   "outputs": [
    {
     "data": {
      "text/plain": [
       "0.000     566\n",
       "0.023       1\n",
       "0.014       1\n",
       "0.007       1\n",
       "0.005       1\n",
       "         ... \n",
       "0.001       1\n",
       "-0.008      1\n",
       "-0.001      1\n",
       "-0.006      1\n",
       "0.007       1\n",
       "Name: Y2, Length: 1254, dtype: int64"
      ]
     },
     "execution_count": 63,
     "metadata": {},
     "output_type": "execute_result"
    }
   ],
   "source": [
    "AAPL.Y2.value_counts()"
   ]
  },
  {
   "cell_type": "markdown",
   "id": "92082597-2d5b-47fd-973c-667844077c7e",
   "metadata": {},
   "source": [
    "Revisar que no hayan valores NA:"
   ]
  },
  {
   "cell_type": "code",
   "execution_count": 64,
   "id": "a114b72e-e464-4e9f-8e90-7582ca7e8743",
   "metadata": {},
   "outputs": [
    {
     "data": {
      "text/plain": [
       "True"
      ]
     },
     "execution_count": 64,
     "metadata": {},
     "output_type": "execute_result"
    }
   ],
   "source": [
    "AAPL.isnull().sum().sum() == 0"
   ]
  },
  {
   "cell_type": "code",
   "execution_count": 65,
   "id": "9917d90d-384c-476a-b3aa-5f2f1fce0881",
   "metadata": {},
   "outputs": [
    {
     "data": {
      "text/plain": [
       "0    1575\n",
       "2     138\n",
       "1     106\n",
       "Name: Y, dtype: int64"
      ]
     },
     "execution_count": 65,
     "metadata": {},
     "output_type": "execute_result"
    }
   ],
   "source": [
    "AAPL.Y.value_counts()"
   ]
  },
  {
   "cell_type": "markdown",
   "id": "f3495e42-ddcf-4159-89a6-592c8b2c3cc2",
   "metadata": {},
   "source": [
    "### Exportar datos"
   ]
  },
  {
   "cell_type": "code",
   "execution_count": null,
   "id": "0e9e6e07-2009-4cd4-ae63-859c09ff9148",
   "metadata": {},
   "outputs": [],
   "source": [
    "AAPL.to_csv('trusted/AAPL.csv')"
   ]
  },
  {
   "cell_type": "code",
   "execution_count": null,
   "id": "f5af7a8e-d721-4c13-9157-8bcc17bed86f",
   "metadata": {},
   "outputs": [],
   "source": []
  },
  {
   "cell_type": "markdown",
   "id": "00267dcd-a71e-48ec-a53d-03bec75ba8fa",
   "metadata": {},
   "source": [
    "### Calcular el peso ponderado para realizar gráfico"
   ]
  },
  {
   "cell_type": "code",
   "execution_count": null,
   "id": "0cf81492-f1e1-422d-a2a4-e7967855341c",
   "metadata": {},
   "outputs": [],
   "source": [
    "def weighted_sum(x):\n",
    "    eng=x['total_engagement']\n",
    "    vader=x['score_vader']\n",
    "    if sum(eng)==0:\n",
    "        return 0\n",
    "    else:\n",
    "        return sum(eng*vader)/sum(eng)"
   ]
  },
  {
   "cell_type": "code",
   "execution_count": null,
   "id": "15162252-c753-4d6b-a460-650e668e7a69",
   "metadata": {},
   "outputs": [],
   "source": [
    "company.ticker_symbol.values"
   ]
  },
  {
   "cell_type": "code",
   "execution_count": null,
   "id": "39d2e737-a97a-4489-9858-5f8e396e7587",
   "metadata": {},
   "outputs": [],
   "source": [
    "for i in company.ticker_symbol.values:\n",
    "    df=split_data(data,str(i))\n",
    "    weighted_vader=df.groupby(\"date\").apply(weighted_sum)\n",
    "    weighted_vader.name=str(i)\n",
    "    weighted_vader.to_csv('trusted/weighted_vader/'+str(i)+'_weighted_vader.csv')"
   ]
  },
  {
   "cell_type": "code",
   "execution_count": null,
   "id": "b0c75790-34da-4872-a15d-b20166ffee3d",
   "metadata": {},
   "outputs": [],
   "source": []
  },
  {
   "cell_type": "markdown",
   "id": "5a078192-bf04-4098-b437-cc67e96ae9ad",
   "metadata": {},
   "source": [
    "### Separar los datos para todas las empresas"
   ]
  },
  {
   "cell_type": "code",
   "execution_count": null,
   "id": "9243d4c1-f58e-4a55-87c8-9146f814d5c6",
   "metadata": {},
   "outputs": [],
   "source": [
    "company.ticker_symbol.values"
   ]
  },
  {
   "cell_type": "code",
   "execution_count": null,
   "id": "fd4e89f3-11b4-4789-8a4e-71ac2380785e",
   "metadata": {},
   "outputs": [],
   "source": [
    "for i in company.ticker_symbol.values:\n",
    "    df=split_data(data,str(i))\n",
    "    df_sentiment=n_sentiment(df)\n",
    "    df_agg=transform_data(df)\n",
    "    df=pd.concat([df_agg,df_sentiment], axis=1)\n",
    "    \n",
    "    df['dispersion_negative']=df.apply(lambda x: dispersion_tweets_content(x.bow_negative, x.eng_negative), axis=1)\n",
    "    df['dispersion_neutral']=df.apply(lambda x: dispersion_tweets_content(x.bow_neutral, x.eng_neutral), axis=1)\n",
    "    df['dispersion_positive']=df.apply(lambda x: dispersion_tweets_content(x.bow_positive, x.eng_positive), axis=1)\n",
    "    df=df.assign(dispersion_tweets_content=(df.dispersion_negative*df.sum_eng_negative+\n",
    "                                                df.dispersion_neutral*df.sum_eng_neutral+\n",
    "                                                df.dispersion_positive*df.sum_eng_positive)/\n",
    "                     (df.sum_eng_negative+df.sum_eng_neutral+df.sum_eng_positive))\n",
    "    df=df.drop(['bow_negative','bow_neutral','bow_positive',\n",
    "                'eng_negative','eng_neutral','eng_positive',\n",
    "                'dispersion_negative','dispersion_neutral','dispersion_positive'], axis=1)\n",
    "    \n",
    "    Y_df=change_price[str(i)].apply(lambda x: 1 if x>umbrales_sup[str(i)] else (2 if x<umbrales_inf[str(i)] else 0)).to_frame()\n",
    "    #Cambiarle el tipo al índice\n",
    "    Y_df.index=Y_df.index.to_series().dt.date\n",
    "    #Renombrar la columna\n",
    "    Y_df.rename(columns={str(i): 'Y'}, inplace=True)\n",
    "    #Seleccionar los periodos con datos\n",
    "    Y_df=Y_df.loc[df.index]\n",
    "    df=pd.concat([df,Y_df], axis=1)\n",
    "    \n",
    "    Y_df2=change_price[str(i)].to_frame()\n",
    "    #Cambiarle el tipo al índice\n",
    "    Y_df2.index=Y_df2.index.to_series().dt.date\n",
    "    #Renombrar la columna\n",
    "    Y_df2.rename(columns={str(i): 'Y2'}, inplace=True)\n",
    "    #Seleccionar los periodos con datos\n",
    "    Y_df2=Y_df2.loc[df.index]\n",
    "    df=pd.concat([df,Y_df2], axis=1)\n",
    "    \n",
    "    df.to_csv('trusted/data_company/'+str(i)+'.csv')"
   ]
  }
 ],
 "metadata": {
  "kernelspec": {
   "display_name": "Python 3 (ipykernel)",
   "language": "python",
   "name": "python3"
  },
  "language_info": {
   "codemirror_mode": {
    "name": "ipython",
    "version": 3
   },
   "file_extension": ".py",
   "mimetype": "text/x-python",
   "name": "python",
   "nbconvert_exporter": "python",
   "pygments_lexer": "ipython3",
   "version": "3.9.5"
  }
 },
 "nbformat": 4,
 "nbformat_minor": 5
}
