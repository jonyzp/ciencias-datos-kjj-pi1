{
 "cells": [
  {
   "cell_type": "markdown",
   "id": "09d49ee1-874b-43f1-ab22-aa7fb9852964",
   "metadata": {},
   "source": [
    "# Proyecto integrador I\n",
    "---\n",
    "Presentado por:\n",
    "* Karla Orozco\n",
    "* Jonathan zapata\n",
    "* Juan Fernando Gallego"
   ]
  },
  {
   "cell_type": "markdown",
   "id": "466ff8a5-6c0a-4d9a-bc69-1de13d2c9b64",
   "metadata": {},
   "source": [
    "---\n",
    "### Importar librerías"
   ]
  },
  {
   "cell_type": "code",
   "execution_count": 1,
   "id": "e934a269",
   "metadata": {},
   "outputs": [],
   "source": [
    "import numpy as np\n",
    "import pandas as pd\n",
    "import re"
   ]
  },
  {
   "cell_type": "code",
   "execution_count": 2,
   "metadata": {},
   "outputs": [],
   "source": [
    "\n",
    "import nltk"
   ]
  },
  {
   "cell_type": "code",
   "execution_count": 17,
   "id": "53b93492",
   "metadata": {},
   "outputs": [
    {
     "name": "stderr",
     "output_type": "stream",
     "text": [
      "[nltk_data] Downloading package punkt to /Users/jonny/nltk_data...\n",
      "[nltk_data]   Package punkt is already up-to-date!\n",
      "[nltk_data] Downloading package stopwords to /Users/jonny/nltk_data...\n",
      "[nltk_data]   Unzipping corpora/stopwords.zip.\n"
     ]
    }
   ],
   "source": [
    "nltk.download('punkt')\n",
    "# nltk.download('words')\n",
    "# nltk.download('wordnet')\n",
    "# from nltk.stem import WordNetLemmatizer\n",
    "nltk.download('stopwords')\n",
    "from nltk.corpus import stopwords"
   ]
  },
  {
   "cell_type": "markdown",
   "id": "d0d9bb97-aa39-4dae-8c0a-361253da7058",
   "metadata": {},
   "source": [
    "---\n",
    "### Cargar datos"
   ]
  },
  {
   "cell_type": "code",
   "execution_count": 3,
   "id": "f7249a55",
   "metadata": {},
   "outputs": [],
   "source": [
    "company = pd.read_csv('raw/Company.csv')\n",
    "company_tweet = pd.read_csv('raw/Company_Tweet.csv')\n",
    "tweet = pd.read_csv('raw/Tweet.csv')"
   ]
  },
  {
   "cell_type": "markdown",
   "id": "ae93f1ab-b550-41a1-85c9-61a1b50b9974",
   "metadata": {},
   "source": [
    "---\n",
    "### Observar datos"
   ]
  },
  {
   "cell_type": "code",
   "execution_count": 4,
   "id": "8158570e-532c-48f6-9add-087127b472ca",
   "metadata": {},
   "outputs": [
    {
     "data": {
      "text/html": [
       "<div>\n",
       "<style scoped>\n",
       "    .dataframe tbody tr th:only-of-type {\n",
       "        vertical-align: middle;\n",
       "    }\n",
       "\n",
       "    .dataframe tbody tr th {\n",
       "        vertical-align: top;\n",
       "    }\n",
       "\n",
       "    .dataframe thead th {\n",
       "        text-align: right;\n",
       "    }\n",
       "</style>\n",
       "<table border=\"1\" class=\"dataframe\">\n",
       "  <thead>\n",
       "    <tr style=\"text-align: right;\">\n",
       "      <th></th>\n",
       "      <th>ticker_symbol</th>\n",
       "      <th>company_name</th>\n",
       "    </tr>\n",
       "  </thead>\n",
       "  <tbody>\n",
       "    <tr>\n",
       "      <th>0</th>\n",
       "      <td>AAPL</td>\n",
       "      <td>apple</td>\n",
       "    </tr>\n",
       "    <tr>\n",
       "      <th>1</th>\n",
       "      <td>GOOG</td>\n",
       "      <td>Google Inc</td>\n",
       "    </tr>\n",
       "    <tr>\n",
       "      <th>2</th>\n",
       "      <td>GOOGL</td>\n",
       "      <td>Google Inc</td>\n",
       "    </tr>\n",
       "    <tr>\n",
       "      <th>3</th>\n",
       "      <td>AMZN</td>\n",
       "      <td>Amazon.com</td>\n",
       "    </tr>\n",
       "    <tr>\n",
       "      <th>4</th>\n",
       "      <td>TSLA</td>\n",
       "      <td>Tesla Inc</td>\n",
       "    </tr>\n",
       "  </tbody>\n",
       "</table>\n",
       "</div>"
      ],
      "text/plain": [
       "  ticker_symbol company_name\n",
       "0          AAPL        apple\n",
       "1          GOOG   Google Inc\n",
       "2         GOOGL   Google Inc\n",
       "3          AMZN   Amazon.com\n",
       "4          TSLA    Tesla Inc"
      ]
     },
     "execution_count": 4,
     "metadata": {},
     "output_type": "execute_result"
    }
   ],
   "source": [
    "company.head()"
   ]
  },
  {
   "cell_type": "code",
   "execution_count": 4,
   "id": "1ea640bc-b6a4-40ba-84fa-baa278d3ceb0",
   "metadata": {},
   "outputs": [
    {
     "data": {
      "text/plain": [
       "(6, 2)"
      ]
     },
     "execution_count": 4,
     "metadata": {},
     "output_type": "execute_result"
    }
   ],
   "source": [
    "company.shape"
   ]
  },
  {
   "cell_type": "code",
   "execution_count": 5,
   "id": "9a22e5cb",
   "metadata": {},
   "outputs": [
    {
     "data": {
      "text/html": [
       "<div>\n",
       "<style scoped>\n",
       "    .dataframe tbody tr th:only-of-type {\n",
       "        vertical-align: middle;\n",
       "    }\n",
       "\n",
       "    .dataframe tbody tr th {\n",
       "        vertical-align: top;\n",
       "    }\n",
       "\n",
       "    .dataframe thead th {\n",
       "        text-align: right;\n",
       "    }\n",
       "</style>\n",
       "<table border=\"1\" class=\"dataframe\">\n",
       "  <thead>\n",
       "    <tr style=\"text-align: right;\">\n",
       "      <th></th>\n",
       "      <th>tweet_id</th>\n",
       "      <th>ticker_symbol</th>\n",
       "    </tr>\n",
       "  </thead>\n",
       "  <tbody>\n",
       "    <tr>\n",
       "      <th>0</th>\n",
       "      <td>550803612197457920</td>\n",
       "      <td>AAPL</td>\n",
       "    </tr>\n",
       "    <tr>\n",
       "      <th>1</th>\n",
       "      <td>550803610825928706</td>\n",
       "      <td>AAPL</td>\n",
       "    </tr>\n",
       "    <tr>\n",
       "      <th>2</th>\n",
       "      <td>550803225113157632</td>\n",
       "      <td>AAPL</td>\n",
       "    </tr>\n",
       "    <tr>\n",
       "      <th>3</th>\n",
       "      <td>550802957370159104</td>\n",
       "      <td>AAPL</td>\n",
       "    </tr>\n",
       "    <tr>\n",
       "      <th>4</th>\n",
       "      <td>550802855129382912</td>\n",
       "      <td>AAPL</td>\n",
       "    </tr>\n",
       "  </tbody>\n",
       "</table>\n",
       "</div>"
      ],
      "text/plain": [
       "             tweet_id ticker_symbol\n",
       "0  550803612197457920          AAPL\n",
       "1  550803610825928706          AAPL\n",
       "2  550803225113157632          AAPL\n",
       "3  550802957370159104          AAPL\n",
       "4  550802855129382912          AAPL"
      ]
     },
     "execution_count": 5,
     "metadata": {},
     "output_type": "execute_result"
    }
   ],
   "source": [
    "company_tweet.head()"
   ]
  },
  {
   "cell_type": "code",
   "execution_count": 6,
   "id": "4a4cd2bd-0c44-46bf-9de3-2b2ee68ac008",
   "metadata": {},
   "outputs": [
    {
     "data": {
      "text/plain": [
       "(4336445, 2)"
      ]
     },
     "execution_count": 6,
     "metadata": {},
     "output_type": "execute_result"
    }
   ],
   "source": [
    "company_tweet.shape"
   ]
  },
  {
   "cell_type": "code",
   "execution_count": 5,
   "id": "99e061b0",
   "metadata": {},
   "outputs": [
    {
     "data": {
      "text/html": [
       "<div>\n",
       "<style scoped>\n",
       "    .dataframe tbody tr th:only-of-type {\n",
       "        vertical-align: middle;\n",
       "    }\n",
       "\n",
       "    .dataframe tbody tr th {\n",
       "        vertical-align: top;\n",
       "    }\n",
       "\n",
       "    .dataframe thead th {\n",
       "        text-align: right;\n",
       "    }\n",
       "</style>\n",
       "<table border=\"1\" class=\"dataframe\">\n",
       "  <thead>\n",
       "    <tr style=\"text-align: right;\">\n",
       "      <th></th>\n",
       "      <th>tweet_id</th>\n",
       "      <th>writer</th>\n",
       "      <th>post_date</th>\n",
       "      <th>body</th>\n",
       "      <th>comment_num</th>\n",
       "      <th>retweet_num</th>\n",
       "      <th>like_num</th>\n",
       "    </tr>\n",
       "  </thead>\n",
       "  <tbody>\n",
       "    <tr>\n",
       "      <th>0</th>\n",
       "      <td>550441509175443456</td>\n",
       "      <td>VisualStockRSRC</td>\n",
       "      <td>1420070457</td>\n",
       "      <td>lx21 made $10,008  on $AAPL -Check it out! htt...</td>\n",
       "      <td>0</td>\n",
       "      <td>0</td>\n",
       "      <td>1</td>\n",
       "    </tr>\n",
       "    <tr>\n",
       "      <th>1</th>\n",
       "      <td>550441672312512512</td>\n",
       "      <td>KeralaGuy77</td>\n",
       "      <td>1420070496</td>\n",
       "      <td>Insanity of today weirdo massive selling. $aap...</td>\n",
       "      <td>0</td>\n",
       "      <td>0</td>\n",
       "      <td>0</td>\n",
       "    </tr>\n",
       "  </tbody>\n",
       "</table>\n",
       "</div>"
      ],
      "text/plain": [
       "             tweet_id           writer   post_date  \\\n",
       "0  550441509175443456  VisualStockRSRC  1420070457   \n",
       "1  550441672312512512      KeralaGuy77  1420070496   \n",
       "\n",
       "                                                body  comment_num  \\\n",
       "0  lx21 made $10,008  on $AAPL -Check it out! htt...            0   \n",
       "1  Insanity of today weirdo massive selling. $aap...            0   \n",
       "\n",
       "   retweet_num  like_num  \n",
       "0            0         1  \n",
       "1            0         0  "
      ]
     },
     "execution_count": 5,
     "metadata": {},
     "output_type": "execute_result"
    }
   ],
   "source": [
    "tweet.head(2)"
   ]
  },
  {
   "cell_type": "code",
   "execution_count": 8,
   "id": "e8a99253-80c5-4eb2-b5a5-a77ba0902d39",
   "metadata": {},
   "outputs": [
    {
     "data": {
      "text/plain": [
       "(3717964, 7)"
      ]
     },
     "execution_count": 8,
     "metadata": {},
     "output_type": "execute_result"
    }
   ],
   "source": [
    "tweet.shape"
   ]
  },
  {
   "cell_type": "markdown",
   "id": "d0a25b4a-9e28-40ee-a05d-97279afc5aec",
   "metadata": {},
   "source": [
    "Ajustar formato fecha en la tabla \"tweet\":"
   ]
  },
  {
   "cell_type": "code",
   "execution_count": 6,
   "id": "dd2bc59f",
   "metadata": {},
   "outputs": [
    {
     "data": {
      "text/html": [
       "<div>\n",
       "<style scoped>\n",
       "    .dataframe tbody tr th:only-of-type {\n",
       "        vertical-align: middle;\n",
       "    }\n",
       "\n",
       "    .dataframe tbody tr th {\n",
       "        vertical-align: top;\n",
       "    }\n",
       "\n",
       "    .dataframe thead th {\n",
       "        text-align: right;\n",
       "    }\n",
       "</style>\n",
       "<table border=\"1\" class=\"dataframe\">\n",
       "  <thead>\n",
       "    <tr style=\"text-align: right;\">\n",
       "      <th></th>\n",
       "      <th>tweet_id</th>\n",
       "      <th>writer</th>\n",
       "      <th>post_date</th>\n",
       "      <th>body</th>\n",
       "      <th>comment_num</th>\n",
       "      <th>retweet_num</th>\n",
       "      <th>like_num</th>\n",
       "    </tr>\n",
       "  </thead>\n",
       "  <tbody>\n",
       "    <tr>\n",
       "      <th>0</th>\n",
       "      <td>550441509175443456</td>\n",
       "      <td>VisualStockRSRC</td>\n",
       "      <td>2015-01-01 00:00:57</td>\n",
       "      <td>lx21 made $10,008  on $AAPL -Check it out! htt...</td>\n",
       "      <td>0</td>\n",
       "      <td>0</td>\n",
       "      <td>1</td>\n",
       "    </tr>\n",
       "    <tr>\n",
       "      <th>1</th>\n",
       "      <td>550441672312512512</td>\n",
       "      <td>KeralaGuy77</td>\n",
       "      <td>2015-01-01 00:01:36</td>\n",
       "      <td>Insanity of today weirdo massive selling. $aap...</td>\n",
       "      <td>0</td>\n",
       "      <td>0</td>\n",
       "      <td>0</td>\n",
       "    </tr>\n",
       "  </tbody>\n",
       "</table>\n",
       "</div>"
      ],
      "text/plain": [
       "             tweet_id           writer           post_date  \\\n",
       "0  550441509175443456  VisualStockRSRC 2015-01-01 00:00:57   \n",
       "1  550441672312512512      KeralaGuy77 2015-01-01 00:01:36   \n",
       "\n",
       "                                                body  comment_num  \\\n",
       "0  lx21 made $10,008  on $AAPL -Check it out! htt...            0   \n",
       "1  Insanity of today weirdo massive selling. $aap...            0   \n",
       "\n",
       "   retweet_num  like_num  \n",
       "0            0         1  \n",
       "1            0         0  "
      ]
     },
     "execution_count": 6,
     "metadata": {},
     "output_type": "execute_result"
    }
   ],
   "source": [
    "tweet['post_date'] = pd.to_datetime(tweet['post_date'],unit='s')\n",
    "tweet.head(2)"
   ]
  },
  {
   "cell_type": "markdown",
   "id": "8fb93b0a-df4f-438a-a15f-1cec283feb7d",
   "metadata": {},
   "source": [
    "Crear una columna con la fecha hasta la unidad de días:"
   ]
  },
  {
   "cell_type": "code",
   "execution_count": 7,
   "id": "2948923f-d15c-445a-9ec7-790644374d7c",
   "metadata": {},
   "outputs": [
    {
     "data": {
      "text/html": [
       "<div>\n",
       "<style scoped>\n",
       "    .dataframe tbody tr th:only-of-type {\n",
       "        vertical-align: middle;\n",
       "    }\n",
       "\n",
       "    .dataframe tbody tr th {\n",
       "        vertical-align: top;\n",
       "    }\n",
       "\n",
       "    .dataframe thead th {\n",
       "        text-align: right;\n",
       "    }\n",
       "</style>\n",
       "<table border=\"1\" class=\"dataframe\">\n",
       "  <thead>\n",
       "    <tr style=\"text-align: right;\">\n",
       "      <th></th>\n",
       "      <th>tweet_id</th>\n",
       "      <th>writer</th>\n",
       "      <th>post_date</th>\n",
       "      <th>body</th>\n",
       "      <th>comment_num</th>\n",
       "      <th>retweet_num</th>\n",
       "      <th>like_num</th>\n",
       "      <th>date</th>\n",
       "    </tr>\n",
       "  </thead>\n",
       "  <tbody>\n",
       "    <tr>\n",
       "      <th>0</th>\n",
       "      <td>550441509175443456</td>\n",
       "      <td>VisualStockRSRC</td>\n",
       "      <td>2015-01-01 00:00:57</td>\n",
       "      <td>lx21 made $10,008  on $AAPL -Check it out! htt...</td>\n",
       "      <td>0</td>\n",
       "      <td>0</td>\n",
       "      <td>1</td>\n",
       "      <td>2015-01-01</td>\n",
       "    </tr>\n",
       "    <tr>\n",
       "      <th>1</th>\n",
       "      <td>550441672312512512</td>\n",
       "      <td>KeralaGuy77</td>\n",
       "      <td>2015-01-01 00:01:36</td>\n",
       "      <td>Insanity of today weirdo massive selling. $aap...</td>\n",
       "      <td>0</td>\n",
       "      <td>0</td>\n",
       "      <td>0</td>\n",
       "      <td>2015-01-01</td>\n",
       "    </tr>\n",
       "  </tbody>\n",
       "</table>\n",
       "</div>"
      ],
      "text/plain": [
       "             tweet_id           writer           post_date  \\\n",
       "0  550441509175443456  VisualStockRSRC 2015-01-01 00:00:57   \n",
       "1  550441672312512512      KeralaGuy77 2015-01-01 00:01:36   \n",
       "\n",
       "                                                body  comment_num  \\\n",
       "0  lx21 made $10,008  on $AAPL -Check it out! htt...            0   \n",
       "1  Insanity of today weirdo massive selling. $aap...            0   \n",
       "\n",
       "   retweet_num  like_num        date  \n",
       "0            0         1  2015-01-01  \n",
       "1            0         0  2015-01-01  "
      ]
     },
     "execution_count": 7,
     "metadata": {},
     "output_type": "execute_result"
    }
   ],
   "source": [
    "tweet['date'] = tweet['post_date'].dt.date\n",
    "tweet.head(2)"
   ]
  },
  {
   "cell_type": "markdown",
   "id": "f6333c59-85c6-44d1-b041-7944a1a05cba",
   "metadata": {},
   "source": [
    "Valores nulos en la tabla \"tweet\":"
   ]
  },
  {
   "cell_type": "code",
   "execution_count": 8,
   "id": "34feb3df",
   "metadata": {
    "tags": []
   },
   "outputs": [
    {
     "data": {
      "text/plain": [
       "tweet_id           0\n",
       "writer         47273\n",
       "post_date          0\n",
       "body               0\n",
       "comment_num        0\n",
       "retweet_num        0\n",
       "like_num           0\n",
       "date               0\n",
       "dtype: int64"
      ]
     },
     "execution_count": 8,
     "metadata": {},
     "output_type": "execute_result"
    }
   ],
   "source": [
    "tweet.isnull().sum()"
   ]
  },
  {
   "cell_type": "markdown",
   "id": "839b94a4-3ca0-4ece-b006-dc4829577b03",
   "metadata": {},
   "source": [
    "Evaluar duplicados de la columna \"tweet_id\" de la tabla \"tweet\":"
   ]
  },
  {
   "cell_type": "code",
   "execution_count": 12,
   "id": "96209529-b80d-4ccd-b678-0846fcfc3aa6",
   "metadata": {},
   "outputs": [
    {
     "data": {
      "text/plain": [
       "0"
      ]
     },
     "execution_count": 12,
     "metadata": {},
     "output_type": "execute_result"
    }
   ],
   "source": [
    "tweet.duplicated(subset=['tweet_id']).sum()"
   ]
  },
  {
   "cell_type": "code",
   "execution_count": 13,
   "id": "7b2866da-9423-4ab9-8889-0ade5e4e90b5",
   "metadata": {},
   "outputs": [
    {
     "data": {
      "text/plain": [
       "0"
      ]
     },
     "execution_count": 13,
     "metadata": {},
     "output_type": "execute_result"
    }
   ],
   "source": [
    "tweet['tweet_id'].duplicated().sum()"
   ]
  },
  {
   "cell_type": "markdown",
   "id": "795b0148-0e93-4282-b3c7-7e7dced111a4",
   "metadata": {},
   "source": [
    "---\n",
    "### Traer en la tabla \"tweet\" las compañias de las que habla cada tweet por la columna \"tweet_id\":"
   ]
  },
  {
   "cell_type": "markdown",
   "id": "ad120235-1c33-4d15-9dff-68a81f45d2c0",
   "metadata": {},
   "source": [
    "Valores nulos en la tabla \"company_tweet\":"
   ]
  },
  {
   "cell_type": "code",
   "execution_count": 14,
   "id": "f569a526",
   "metadata": {},
   "outputs": [
    {
     "data": {
      "text/plain": [
       "tweet_id         0\n",
       "ticker_symbol    0\n",
       "dtype: int64"
      ]
     },
     "execution_count": 14,
     "metadata": {},
     "output_type": "execute_result"
    }
   ],
   "source": [
    "company_tweet.isnull().sum()"
   ]
  },
  {
   "cell_type": "markdown",
   "id": "95a013bd-556a-4b94-aa20-e02a06dcf1ed",
   "metadata": {},
   "source": [
    "Evaluar duplicados de la columna \"tweet_id\" de la tabla \"company_tweet\":"
   ]
  },
  {
   "cell_type": "code",
   "execution_count": 15,
   "id": "a3b12bb1",
   "metadata": {},
   "outputs": [
    {
     "data": {
      "text/plain": [
       "618481"
      ]
     },
     "execution_count": 15,
     "metadata": {},
     "output_type": "execute_result"
    }
   ],
   "source": [
    "company_tweet.duplicated(subset=['tweet_id']).sum()"
   ]
  },
  {
   "cell_type": "markdown",
   "id": "934e7e0e-4b39-488e-b821-cef9c63260b7",
   "metadata": {},
   "source": [
    "##### Examinar duplicados:"
   ]
  },
  {
   "cell_type": "code",
   "execution_count": 9,
   "id": "1d545cd6-ffa5-4008-80b6-2c828d7eeb12",
   "metadata": {},
   "outputs": [
    {
     "data": {
      "text/html": [
       "<div>\n",
       "<style scoped>\n",
       "    .dataframe tbody tr th:only-of-type {\n",
       "        vertical-align: middle;\n",
       "    }\n",
       "\n",
       "    .dataframe tbody tr th {\n",
       "        vertical-align: top;\n",
       "    }\n",
       "\n",
       "    .dataframe thead th {\n",
       "        text-align: right;\n",
       "    }\n",
       "</style>\n",
       "<table border=\"1\" class=\"dataframe\">\n",
       "  <thead>\n",
       "    <tr style=\"text-align: right;\">\n",
       "      <th></th>\n",
       "      <th>tweet_id</th>\n",
       "      <th>ticker_symbol</th>\n",
       "    </tr>\n",
       "  </thead>\n",
       "  <tbody>\n",
       "    <tr>\n",
       "      <th>1425013</th>\n",
       "      <td>550447850857828352</td>\n",
       "      <td>GOOG</td>\n",
       "    </tr>\n",
       "  </tbody>\n",
       "</table>\n",
       "</div>"
      ],
      "text/plain": [
       "                   tweet_id ticker_symbol\n",
       "1425013  550447850857828352          GOOG"
      ]
     },
     "execution_count": 9,
     "metadata": {},
     "output_type": "execute_result"
    }
   ],
   "source": [
    "company_tweet.loc[company_tweet.duplicated(subset=['tweet_id'])].head(1)"
   ]
  },
  {
   "cell_type": "code",
   "execution_count": 17,
   "id": "9bc9d8a8-a50a-49b5-a765-fc44839975ce",
   "metadata": {},
   "outputs": [
    {
     "data": {
      "text/html": [
       "<div>\n",
       "<style scoped>\n",
       "    .dataframe tbody tr th:only-of-type {\n",
       "        vertical-align: middle;\n",
       "    }\n",
       "\n",
       "    .dataframe tbody tr th {\n",
       "        vertical-align: top;\n",
       "    }\n",
       "\n",
       "    .dataframe thead th {\n",
       "        text-align: right;\n",
       "    }\n",
       "</style>\n",
       "<table border=\"1\" class=\"dataframe\">\n",
       "  <thead>\n",
       "    <tr style=\"text-align: right;\">\n",
       "      <th></th>\n",
       "      <th>tweet_id</th>\n",
       "      <th>ticker_symbol</th>\n",
       "    </tr>\n",
       "  </thead>\n",
       "  <tbody>\n",
       "    <tr>\n",
       "      <th>283</th>\n",
       "      <td>550447850857828352</td>\n",
       "      <td>AAPL</td>\n",
       "    </tr>\n",
       "    <tr>\n",
       "      <th>1425013</th>\n",
       "      <td>550447850857828352</td>\n",
       "      <td>GOOG</td>\n",
       "    </tr>\n",
       "    <tr>\n",
       "      <th>2145152</th>\n",
       "      <td>550447850857828352</td>\n",
       "      <td>AMZN</td>\n",
       "    </tr>\n",
       "    <tr>\n",
       "      <th>3239585</th>\n",
       "      <td>550447850857828352</td>\n",
       "      <td>TSLA</td>\n",
       "    </tr>\n",
       "  </tbody>\n",
       "</table>\n",
       "</div>"
      ],
      "text/plain": [
       "                   tweet_id ticker_symbol\n",
       "283      550447850857828352          AAPL\n",
       "1425013  550447850857828352          GOOG\n",
       "2145152  550447850857828352          AMZN\n",
       "3239585  550447850857828352          TSLA"
      ]
     },
     "execution_count": 17,
     "metadata": {},
     "output_type": "execute_result"
    }
   ],
   "source": [
    "company_tweet.loc[company_tweet['tweet_id'] == 550447850857828352]"
   ]
  },
  {
   "cell_type": "code",
   "execution_count": 18,
   "id": "4df10768-0ea1-459d-94c8-991076bbd8e6",
   "metadata": {},
   "outputs": [
    {
     "data": {
      "text/plain": [
       "array(['Top 10 searched #stocks of #2014 $AAPL $FB $BABA $TSLA $BAC $GOOG $INTC $GE $TWTR $AMZN http://stks.co/g1V5S http://stks.co/h1VAb'],\n",
       "      dtype=object)"
      ]
     },
     "execution_count": 18,
     "metadata": {},
     "output_type": "execute_result"
    }
   ],
   "source": [
    "tweet.loc[tweet['tweet_id'] == 550447850857828352, 'body'].values"
   ]
  },
  {
   "cell_type": "markdown",
   "id": "d5141ec0-e922-4187-8b04-4dcb14b6586c",
   "metadata": {},
   "source": [
    "Los tweets pueden hacer referencia a más de una empresa."
   ]
  },
  {
   "cell_type": "markdown",
   "id": "af502943-6ada-4a4a-a850-bcf7307563ad",
   "metadata": {
    "tags": []
   },
   "source": [
    "#### Agrupar por \"tweet_id\" el \"ticker_symbol\" de las empresas relacionadas:"
   ]
  },
  {
   "cell_type": "code",
   "execution_count": 10,
   "id": "414e0835-2352-41f2-bb95-f5a90c67c523",
   "metadata": {},
   "outputs": [],
   "source": [
    "ticker_symbol_group = company_tweet.groupby('tweet_id')['ticker_symbol'].unique()"
   ]
  },
  {
   "cell_type": "markdown",
   "id": "2c965153-205b-42e0-8b63-a471d8eada02",
   "metadata": {},
   "source": [
    "Renombrar y mostrar la serie:"
   ]
  },
  {
   "cell_type": "code",
   "execution_count": 11,
   "id": "2e19ec66-375a-41a0-9908-c36dfc8be78f",
   "metadata": {},
   "outputs": [
    {
     "data": {
      "text/plain": [
       "tweet_id\n",
       "550441509175443456    [AAPL]\n",
       "550441672312512512    [AAPL]\n",
       "Name: ticker_symbol_group, dtype: object"
      ]
     },
     "execution_count": 11,
     "metadata": {},
     "output_type": "execute_result"
    }
   ],
   "source": [
    "ticker_symbol_group.rename(\"ticker_symbol_group\", inplace=True)\n",
    "ticker_symbol_group.head(2)"
   ]
  },
  {
   "cell_type": "markdown",
   "id": "c9ec008e-3db9-4f21-acbc-e90f37f1e4c3",
   "metadata": {},
   "source": [
    "Realizar combinación mencionada entre la tabla agrupada \"ticker_symbol_group\" y \"tweet\" por la columna \"tweet_id\":"
   ]
  },
  {
   "cell_type": "code",
   "execution_count": 12,
   "id": "cc10b437-16d5-403b-9c5f-70e720edc8a3",
   "metadata": {},
   "outputs": [],
   "source": [
    "tweet = tweet.merge(ticker_symbol_group, how='left',left_on='tweet_id',right_on='tweet_id')"
   ]
  },
  {
   "cell_type": "markdown",
   "id": "377ce16e-f45e-4cd1-abe8-d1ce754a52fa",
   "metadata": {},
   "source": [
    "Revisar el tweet examinado en los duplicados de la tabla \"company_tweet\":"
   ]
  },
  {
   "cell_type": "code",
   "execution_count": null,
   "id": "9f754768-688b-4ce7-907b-44beeedab715",
   "metadata": {},
   "outputs": [],
   "source": [
    "tweet.loc[tweet['tweet_id'] == 550447850857828352]"
   ]
  },
  {
   "cell_type": "code",
   "execution_count": 13,
   "id": "207d7fe0-54a4-4331-8056-f8b72f53f39d",
   "metadata": {},
   "outputs": [],
   "source": [
    "tweet_head = tweet.head(100).copy()"
   ]
  },
  {
   "cell_type": "code",
   "execution_count": 16,
   "id": "2e7c0d9c-388c-4189-8411-585de226038e",
   "metadata": {},
   "outputs": [
    {
     "data": {
      "text/plain": [
       "0    [lx21, made, $, 10,008, on, $, AAPL, -Check, i...\n",
       "1    [Insanity, of, today, weirdo, massive, selling...\n",
       "2    [S, &, P100, #, Stocks, Performance, $, HD, $,...\n",
       "3    [$, GM, $, TSLA, :, Volkswagen, Pushes, 2014, ...\n",
       "4    [Swing, Trading, :, Up, To, 8.91, %, Return, I...\n",
       "Name: body_tokenized, dtype: object"
      ]
     },
     "execution_count": 16,
     "metadata": {},
     "output_type": "execute_result"
    }
   ],
   "source": [
    "tweet_head['body_tokenized'] = tweet_head.apply(lambda row: nltk.word_tokenize(str(row['body'])), axis=1)\n",
    "tweet_head['body_tokenized'].head()"
   ]
  },
  {
   "cell_type": "code",
   "execution_count": null,
   "id": "6bbbc4ff-de77-4fbb-8e63-e59b4ba55929",
   "metadata": {},
   "outputs": [],
   "source": [
    "# stopwords en nltk\n",
    "stop_words_nltk = set(stopwords.words('english'))\n",
    "print(f'Stopwords length: {len(stop_words_nltk)}')\n",
    "print(f'Stopwords: {stop_words_nltk}')"
   ]
  },
  {
   "cell_type": "code",
   "execution_count": 30,
   "id": "b72c5d4f-34df-4c86-9be7-79844d7a14f3",
   "metadata": {},
   "outputs": [
    {
     "data": {
      "text/plain": [
       "False"
      ]
     },
     "execution_count": 30,
     "metadata": {},
     "output_type": "execute_result"
    }
   ],
   "source": [
    "'compandX10'.isalpha()"
   ]
  },
  {
   "cell_type": "code",
   "execution_count": 31,
   "id": "f4acebc7-7f06-4c3a-a4ef-e532e675038f",
   "metadata": {},
   "outputs": [
    {
     "data": {
      "text/plain": [
       "True"
      ]
     },
     "execution_count": 31,
     "metadata": {},
     "output_type": "execute_result"
    }
   ],
   "source": [
    "'compandX'.isalpha()"
   ]
  },
  {
   "cell_type": "code",
   "execution_count": 11,
   "id": "8753744c-c440-49a8-9231-24409faf7511",
   "metadata": {},
   "outputs": [
    {
     "data": {
      "text/html": [
       "<div>\n",
       "<style scoped>\n",
       "    .dataframe tbody tr th:only-of-type {\n",
       "        vertical-align: middle;\n",
       "    }\n",
       "\n",
       "    .dataframe tbody tr th {\n",
       "        vertical-align: top;\n",
       "    }\n",
       "\n",
       "    .dataframe thead th {\n",
       "        text-align: right;\n",
       "    }\n",
       "</style>\n",
       "<table border=\"1\" class=\"dataframe\">\n",
       "  <thead>\n",
       "    <tr style=\"text-align: right;\">\n",
       "      <th></th>\n",
       "      <th>tweet_id</th>\n",
       "      <th>writer</th>\n",
       "      <th>post_date</th>\n",
       "      <th>body</th>\n",
       "      <th>comment_num</th>\n",
       "      <th>retweet_num</th>\n",
       "      <th>like_num</th>\n",
       "      <th>body_tokenized</th>\n",
       "    </tr>\n",
       "  </thead>\n",
       "  <tbody>\n",
       "    <tr>\n",
       "      <th>0</th>\n",
       "      <td>550441509175443456</td>\n",
       "      <td>VisualStockRSRC</td>\n",
       "      <td>2015-01-01 00:00:57</td>\n",
       "      <td>lx21 made $10,008  on $AAPL -Check it out! htt...</td>\n",
       "      <td>0</td>\n",
       "      <td>0</td>\n",
       "      <td>1</td>\n",
       "      <td>[lx21, made, aapl, check, http, profitly1mnd8s...</td>\n",
       "    </tr>\n",
       "    <tr>\n",
       "      <th>1</th>\n",
       "      <td>550441672312512512</td>\n",
       "      <td>KeralaGuy77</td>\n",
       "      <td>2015-01-01 00:01:36</td>\n",
       "      <td>Insanity of today weirdo massive selling. $aap...</td>\n",
       "      <td>0</td>\n",
       "      <td>0</td>\n",
       "      <td>0</td>\n",
       "      <td>[insanity, today, weirdo, massive, selling, aa...</td>\n",
       "    </tr>\n",
       "    <tr>\n",
       "      <th>2</th>\n",
       "      <td>550441732014223360</td>\n",
       "      <td>DozenStocks</td>\n",
       "      <td>2015-01-01 00:01:50</td>\n",
       "      <td>S&amp;P100 #Stocks Performance $HD $LOW $SBUX $TGT...</td>\n",
       "      <td>0</td>\n",
       "      <td>0</td>\n",
       "      <td>0</td>\n",
       "      <td>[p100, stocks, performance, hd, low, sbux, tgt...</td>\n",
       "    </tr>\n",
       "    <tr>\n",
       "      <th>3</th>\n",
       "      <td>550442977802207232</td>\n",
       "      <td>ShowDreamCar</td>\n",
       "      <td>2015-01-01 00:06:47</td>\n",
       "      <td>$GM $TSLA: Volkswagen Pushes 2014 Record Recal...</td>\n",
       "      <td>0</td>\n",
       "      <td>0</td>\n",
       "      <td>1</td>\n",
       "      <td>[gm, tsla, volkswagen, pushes, record, recall,...</td>\n",
       "    </tr>\n",
       "    <tr>\n",
       "      <th>4</th>\n",
       "      <td>550443807834402816</td>\n",
       "      <td>i_Know_First</td>\n",
       "      <td>2015-01-01 00:10:05</td>\n",
       "      <td>Swing Trading: Up To 8.91% Return In 14 Days h...</td>\n",
       "      <td>0</td>\n",
       "      <td>0</td>\n",
       "      <td>1</td>\n",
       "      <td>[swing, trading, return, days, http, owlygdks0...</td>\n",
       "    </tr>\n",
       "  </tbody>\n",
       "</table>\n",
       "</div>"
      ],
      "text/plain": [
       "             tweet_id           writer           post_date  \\\n",
       "0  550441509175443456  VisualStockRSRC 2015-01-01 00:00:57   \n",
       "1  550441672312512512      KeralaGuy77 2015-01-01 00:01:36   \n",
       "2  550441732014223360      DozenStocks 2015-01-01 00:01:50   \n",
       "3  550442977802207232     ShowDreamCar 2015-01-01 00:06:47   \n",
       "4  550443807834402816     i_Know_First 2015-01-01 00:10:05   \n",
       "\n",
       "                                                body  comment_num  \\\n",
       "0  lx21 made $10,008  on $AAPL -Check it out! htt...            0   \n",
       "1  Insanity of today weirdo massive selling. $aap...            0   \n",
       "2  S&P100 #Stocks Performance $HD $LOW $SBUX $TGT...            0   \n",
       "3  $GM $TSLA: Volkswagen Pushes 2014 Record Recal...            0   \n",
       "4  Swing Trading: Up To 8.91% Return In 14 Days h...            0   \n",
       "\n",
       "   retweet_num  like_num                                     body_tokenized  \n",
       "0            0         1  [lx21, made, aapl, check, http, profitly1mnd8s...  \n",
       "1            0         0  [insanity, today, weirdo, massive, selling, aa...  \n",
       "2            0         0  [p100, stocks, performance, hd, low, sbux, tgt...  \n",
       "3            0         1  [gm, tsla, volkswagen, pushes, record, recall,...  \n",
       "4            0         1  [swing, trading, return, days, http, owlygdks0...  "
      ]
     },
     "execution_count": 11,
     "metadata": {},
     "output_type": "execute_result"
    }
   ],
   "source": [
    "# ELIMINAR tokens de long = 1\n",
    "# ELIMINAR caracteres que no sean alfanumericos\n",
    "# NUEVAMENTE ELIMINAR tokens de long = 1\n",
    "# REMOVER tokens conformados solo por numeros, ya que no necesitamos buscar expresiones solo numéricas\n",
    "# REMOVER stop words\n",
    "refined_tokens_by_file = []\n",
    "for (idx, tokens) in enumerate(tweet_head['body_tokenized']):\n",
    "    tokens = [re.sub(r'[^A-Za-z0-9]+','',w) for w in tokens]\n",
    "    # tokens=[word for word in tokens if word.isalpha()] si en vez de re.sub(r'[^A-Za-z0-9]+','',w) hace esto, que pasa?\n",
    "    tokens = [w.lower() for w in tokens if len(w)>1]\n",
    "    tokens = [w for w in tokens if not w.isnumeric()]\n",
    "#     for i, w in reversed(list(enumerate(tokens))):\n",
    "#         try:\n",
    "#           # Preguntamos si el token es solo numerico y si si, lo eliminamos\n",
    "#         if (w.isnumeric()):\n",
    "#             tokens.pop(i)\n",
    "#         except:\n",
    "#             pass\n",
    "    tokens = [w for w in tokens if w not in stop_words_nltk]\n",
    "    refined_tokens_by_file.append(tokens)\n",
    "  \n",
    "  #fdist = nltk.FreqDist(refined_tokens_by_file)\n",
    "  # extract top 20 words\n",
    "  #topwords = fdist.most_common(20)\n",
    "  #print(f\"numero de palabras finales en {df['filename'][idx]} = {len(fdist)}\")\n",
    "  #print(f\"Top 20: {topwords}\")\n",
    "  # graficar los 20 términos más frecuentes:\n",
    "  #x,y = zip(*topwords)\n",
    "\n",
    "  #plt.figure(figsize=(15,10))\n",
    "  #plt.bar(x,y)\n",
    "  #plt.xlabel(\"Word\")\n",
    "  #plt.ylabel(\"frecuency\")\n",
    "  #plt.xticks(rotation=90)\n",
    "  #plt.show()\n",
    "  #print('------------------------------------------')\n",
    "\n",
    "tweet_head['body_tokenized'] = refined_tokens_by_file\n",
    "tweet_head.head()\n"
   ]
  },
  {
   "cell_type": "code",
   "execution_count": 12,
   "id": "aa195399-7742-4cff-accb-20fe77748c2d",
   "metadata": {},
   "outputs": [
    {
     "data": {
      "text/html": [
       "<div>\n",
       "<style scoped>\n",
       "    .dataframe tbody tr th:only-of-type {\n",
       "        vertical-align: middle;\n",
       "    }\n",
       "\n",
       "    .dataframe tbody tr th {\n",
       "        vertical-align: top;\n",
       "    }\n",
       "\n",
       "    .dataframe thead th {\n",
       "        text-align: right;\n",
       "    }\n",
       "</style>\n",
       "<table border=\"1\" class=\"dataframe\">\n",
       "  <thead>\n",
       "    <tr style=\"text-align: right;\">\n",
       "      <th></th>\n",
       "      <th>tweet_id</th>\n",
       "      <th>writer</th>\n",
       "      <th>post_date</th>\n",
       "      <th>body</th>\n",
       "      <th>comment_num</th>\n",
       "      <th>retweet_num</th>\n",
       "      <th>like_num</th>\n",
       "      <th>body_tokenized</th>\n",
       "      <th>lemmatized_tokens</th>\n",
       "    </tr>\n",
       "  </thead>\n",
       "  <tbody>\n",
       "    <tr>\n",
       "      <th>0</th>\n",
       "      <td>550441509175443456</td>\n",
       "      <td>VisualStockRSRC</td>\n",
       "      <td>2015-01-01 00:00:57</td>\n",
       "      <td>lx21 made $10,008  on $AAPL -Check it out! htt...</td>\n",
       "      <td>0</td>\n",
       "      <td>0</td>\n",
       "      <td>1</td>\n",
       "      <td>[lx21, made, aapl, check, http, profitly1mnd8s...</td>\n",
       "      <td>[lx21, made, aapl, check, http, profitly1mnd8s...</td>\n",
       "    </tr>\n",
       "    <tr>\n",
       "      <th>1</th>\n",
       "      <td>550441672312512512</td>\n",
       "      <td>KeralaGuy77</td>\n",
       "      <td>2015-01-01 00:01:36</td>\n",
       "      <td>Insanity of today weirdo massive selling. $aap...</td>\n",
       "      <td>0</td>\n",
       "      <td>0</td>\n",
       "      <td>0</td>\n",
       "      <td>[insanity, today, weirdo, massive, selling, aa...</td>\n",
       "      <td>[insanity, today, weirdo, massive, selling, aa...</td>\n",
       "    </tr>\n",
       "    <tr>\n",
       "      <th>2</th>\n",
       "      <td>550441732014223360</td>\n",
       "      <td>DozenStocks</td>\n",
       "      <td>2015-01-01 00:01:50</td>\n",
       "      <td>S&amp;P100 #Stocks Performance $HD $LOW $SBUX $TGT...</td>\n",
       "      <td>0</td>\n",
       "      <td>0</td>\n",
       "      <td>0</td>\n",
       "      <td>[p100, stocks, performance, hd, low, sbux, tgt...</td>\n",
       "      <td>[p100, stock, performance, hd, low, sbux, tgt,...</td>\n",
       "    </tr>\n",
       "    <tr>\n",
       "      <th>3</th>\n",
       "      <td>550442977802207232</td>\n",
       "      <td>ShowDreamCar</td>\n",
       "      <td>2015-01-01 00:06:47</td>\n",
       "      <td>$GM $TSLA: Volkswagen Pushes 2014 Record Recal...</td>\n",
       "      <td>0</td>\n",
       "      <td>0</td>\n",
       "      <td>1</td>\n",
       "      <td>[gm, tsla, volkswagen, pushes, record, recall,...</td>\n",
       "      <td>[gm, tsla, volkswagen, push, record, recall, t...</td>\n",
       "    </tr>\n",
       "    <tr>\n",
       "      <th>4</th>\n",
       "      <td>550443807834402816</td>\n",
       "      <td>i_Know_First</td>\n",
       "      <td>2015-01-01 00:10:05</td>\n",
       "      <td>Swing Trading: Up To 8.91% Return In 14 Days h...</td>\n",
       "      <td>0</td>\n",
       "      <td>0</td>\n",
       "      <td>1</td>\n",
       "      <td>[swing, trading, return, days, http, owlygdks0...</td>\n",
       "      <td>[swing, trading, return, day, http, owlygdks0,...</td>\n",
       "    </tr>\n",
       "  </tbody>\n",
       "</table>\n",
       "</div>"
      ],
      "text/plain": [
       "             tweet_id           writer           post_date  \\\n",
       "0  550441509175443456  VisualStockRSRC 2015-01-01 00:00:57   \n",
       "1  550441672312512512      KeralaGuy77 2015-01-01 00:01:36   \n",
       "2  550441732014223360      DozenStocks 2015-01-01 00:01:50   \n",
       "3  550442977802207232     ShowDreamCar 2015-01-01 00:06:47   \n",
       "4  550443807834402816     i_Know_First 2015-01-01 00:10:05   \n",
       "\n",
       "                                                body  comment_num  \\\n",
       "0  lx21 made $10,008  on $AAPL -Check it out! htt...            0   \n",
       "1  Insanity of today weirdo massive selling. $aap...            0   \n",
       "2  S&P100 #Stocks Performance $HD $LOW $SBUX $TGT...            0   \n",
       "3  $GM $TSLA: Volkswagen Pushes 2014 Record Recal...            0   \n",
       "4  Swing Trading: Up To 8.91% Return In 14 Days h...            0   \n",
       "\n",
       "   retweet_num  like_num                                     body_tokenized  \\\n",
       "0            0         1  [lx21, made, aapl, check, http, profitly1mnd8s...   \n",
       "1            0         0  [insanity, today, weirdo, massive, selling, aa...   \n",
       "2            0         0  [p100, stocks, performance, hd, low, sbux, tgt...   \n",
       "3            0         1  [gm, tsla, volkswagen, pushes, record, recall,...   \n",
       "4            0         1  [swing, trading, return, days, http, owlygdks0...   \n",
       "\n",
       "                                   lemmatized_tokens  \n",
       "0  [lx21, made, aapl, check, http, profitly1mnd8s...  \n",
       "1  [insanity, today, weirdo, massive, selling, aa...  \n",
       "2  [p100, stock, performance, hd, low, sbux, tgt,...  \n",
       "3  [gm, tsla, volkswagen, push, record, recall, t...  \n",
       "4  [swing, trading, return, day, http, owlygdks0,...  "
      ]
     },
     "execution_count": 12,
     "metadata": {},
     "output_type": "execute_result"
    }
   ],
   "source": [
    "# Lemmatization con NLTK\n",
    "\n",
    "from nltk.stem import WordNetLemmatizer\n",
    "\n",
    "wordnet_lemmatizer = WordNetLemmatizer()\n",
    "\n",
    "lemmatized_tokens_by_file = []\n",
    "for (idx, tokens) in enumerate(refined_tokens_by_file):\n",
    "  lemmatized_tokens = [wordnet_lemmatizer.lemmatize(w) for w in tokens ]\n",
    "  lemmatized_tokens_by_file.append(lemmatized_tokens)\n",
    "\n",
    "  #fdist = nltk.FreqDist(lemmatized_tokens)\n",
    "  # extract top 20 words\n",
    "  #topwords = fdist.most_common(20)\n",
    "  #print(f\"numero de palabras finales en {tweet_head['body_tokenized'][idx]} = {len(fdist)}\")\n",
    "  #print(f\"Top 20: {topwords}\")\n",
    "  #x,y = zip(*topwords)\n",
    "  #plt.figure(figsize=(15,10))\n",
    "  #plt.bar(x,y)\n",
    "  #plt.xlabel(\"Word\")\n",
    "  #plt.ylabel(\"frecuency\")\n",
    "  #plt.xticks(rotation=90)\n",
    "  #plt.show()\n",
    "  #print('------------------------------------------')\n",
    "\n",
    "tweet_head['lemmatized_tokens'] = lemmatized_tokens_by_file\n",
    "tweet_head.head()"
   ]
  },
  {
   "cell_type": "code",
   "execution_count": 43,
   "id": "3e6e8bc9-69d3-43a6-b01d-11b9911b6cd4",
   "metadata": {},
   "outputs": [],
   "source": [
    "tweet_head['list_lemma'] = tweet_head['lemmatized_tokens'].apply(\n",
    "    lambda c: list(w for w in c if not any(x.isdigit() for x in w)))"
   ]
  },
  {
   "cell_type": "code",
   "execution_count": 44,
   "id": "51744545-90e2-4e70-a573-3d27d9438ad3",
   "metadata": {},
   "outputs": [
    {
     "data": {
      "text/plain": [
       "0     [made, aapl, check, http, learn, howtotrade, h...\n",
       "1     [insanity, today, weirdo, massive, selling, aa...\n",
       "2     [stock, performance, hd, low, sbux, tgt, dvn, ...\n",
       "3     [gm, tsla, volkswagen, push, record, recall, t...\n",
       "4     [swing, trading, return, day, http, swingtradi...\n",
       "                            ...                        \n",
       "95      [tsla, scty, got, ta, wait, patient, suck, huh]\n",
       "96    [rt, cnbc, earlier, month, mysterious, glitch,...\n",
       "97    [option, greek, critical, option, trading, htt...\n",
       "98    [betting, big, cytr, gild, baba, aapl, clvs, c...\n",
       "99    [goog, max, pain, maturity, price, http, maxim...\n",
       "Name: list_lemma, Length: 100, dtype: object"
      ]
     },
     "execution_count": 44,
     "metadata": {},
     "output_type": "execute_result"
    }
   ],
   "source": [
    "tweet_head['list_lemma']"
   ]
  },
  {
   "cell_type": "code",
   "execution_count": 46,
   "id": "c56cbaf1-4675-4b0e-8f86-e9661551a443",
   "metadata": {},
   "outputs": [],
   "source": [
    "tweet_head['clean_tweet'] = tweet_head['list_lemma'].apply(lambda c: ' '.join(c))"
   ]
  },
  {
   "cell_type": "code",
   "execution_count": 47,
   "id": "095e9c85-0d0e-405d-a04a-b61c4a7985ba",
   "metadata": {},
   "outputs": [
    {
     "data": {
      "text/plain": [
       "0     made aapl check http learn howtotrade http exe...\n",
       "1     insanity today weirdo massive selling aapl bid...\n",
       "2     stock performance hd low sbux tgt dvn ibm amzn...\n",
       "3     gm tsla volkswagen push record recall tally hi...\n",
       "4     swing trading return day http swingtrading for...\n",
       "                            ...                        \n",
       "95               tsla scty got ta wait patient suck huh\n",
       "96    rt cnbc earlier month mysterious glitch caused...\n",
       "97    option greek critical option trading http bitl...\n",
       "98    betting big cytr gild baba aapl clvs cldx blue...\n",
       "99    goog max pain maturity price http maximumpainc...\n",
       "Name: clean_tweet, Length: 100, dtype: object"
      ]
     },
     "execution_count": 47,
     "metadata": {},
     "output_type": "execute_result"
    }
   ],
   "source": [
    "tweet_head['clean_tweet']"
   ]
  },
  {
   "cell_type": "code",
   "execution_count": 51,
   "id": "caf2b3e5-0afe-4f77-9180-2d8f8f1ce390",
   "metadata": {},
   "outputs": [
    {
     "name": "stderr",
     "output_type": "stream",
     "text": [
      "[nltk_data] Downloading package vader_lexicon to\n",
      "[nltk_data]     /Users/karlaorozco/nltk_data...\n",
      "[nltk_data]   Package vader_lexicon is already up-to-date!\n"
     ]
    },
    {
     "data": {
      "text/plain": [
       "True"
      ]
     },
     "execution_count": 51,
     "metadata": {},
     "output_type": "execute_result"
    }
   ],
   "source": [
    "from nltk.sentiment import SentimentAnalyzer\n",
    "from nltk.sentiment.vader import SentimentIntensityAnalyzer\n",
    "from nltk.sentiment.util import *\n",
    "nltk.download('vader_lexicon')"
   ]
  },
  {
   "cell_type": "code",
   "execution_count": 52,
   "id": "8b270cda-2ad7-45e1-a47d-1af99f0be441",
   "metadata": {},
   "outputs": [],
   "source": [
    "tweet_head['score_vader'] = tweet_head['clean_tweet'].apply(\n",
    "    lambda c: SentimentIntensityAnalyzer().polarity_scores(c)['compound'])"
   ]
  },
  {
   "cell_type": "code",
   "execution_count": 55,
   "id": "a02f6ea4-5d1e-4a86-904f-746bee3a49a8",
   "metadata": {},
   "outputs": [
    {
     "data": {
      "text/plain": [
       "0     0.0000\n",
       "1    -0.8271\n",
       "2    -0.2732\n",
       "3     0.0000\n",
       "4     0.0000\n",
       "       ...  \n",
       "95   -0.4404\n",
       "96   -0.2732\n",
       "97   -0.3182\n",
       "98    0.0000\n",
       "99   -0.5106\n",
       "Name: score_vader, Length: 100, dtype: float64"
      ]
     },
     "execution_count": 55,
     "metadata": {},
     "output_type": "execute_result"
    }
   ],
   "source": [
    "tweet_head['score_vader']"
   ]
  },
  {
   "cell_type": "code",
   "execution_count": 56,
   "id": "01a616c1-875e-4306-8594-3c06aa17fa3c",
   "metadata": {},
   "outputs": [],
   "source": [
    "conditions = [\n",
    "    (tweet_head[\"score_vader\"] >= .05),\n",
    "    (tweet_head[\"score_vader\"] > -.05) & (tweet_head[\"score_vader\"] < .05),\n",
    "    (tweet_head[\"score_vader\"] <= -.05),\n",
    "]\n",
    "\n",
    "choices = ['positive', 'neutral', 'negative']\n",
    "\n",
    "tweet_head['sentiment'] = np.select(conditions, choices)"
   ]
  },
  {
   "cell_type": "code",
   "execution_count": 57,
   "id": "af97f881-5007-496d-97e7-1400e4675eed",
   "metadata": {},
   "outputs": [
    {
     "data": {
      "text/plain": [
       "neutral     36\n",
       "positive    35\n",
       "negative    29\n",
       "Name: sentiment, dtype: int64"
      ]
     },
     "execution_count": 57,
     "metadata": {},
     "output_type": "execute_result"
    }
   ],
   "source": [
    "tweet_head['sentiment'].value_counts()"
   ]
  },
  {
   "cell_type": "code",
   "execution_count": 60,
   "id": "14b94fb5-2c00-4087-bfe4-9acb391694aa",
   "metadata": {},
   "outputs": [
    {
     "data": {
      "text/html": [
       "<div>\n",
       "<style scoped>\n",
       "    .dataframe tbody tr th:only-of-type {\n",
       "        vertical-align: middle;\n",
       "    }\n",
       "\n",
       "    .dataframe tbody tr th {\n",
       "        vertical-align: top;\n",
       "    }\n",
       "\n",
       "    .dataframe thead th {\n",
       "        text-align: right;\n",
       "    }\n",
       "</style>\n",
       "<table border=\"1\" class=\"dataframe\">\n",
       "  <thead>\n",
       "    <tr style=\"text-align: right;\">\n",
       "      <th></th>\n",
       "      <th>tweet_id</th>\n",
       "      <th>writer</th>\n",
       "      <th>post_date</th>\n",
       "      <th>body</th>\n",
       "      <th>comment_num</th>\n",
       "      <th>retweet_num</th>\n",
       "      <th>like_num</th>\n",
       "      <th>body_tokenized</th>\n",
       "      <th>lemmatized_tokens</th>\n",
       "      <th>list_lemma</th>\n",
       "      <th>clean_tweet</th>\n",
       "      <th>score_vader</th>\n",
       "      <th>sentiment</th>\n",
       "    </tr>\n",
       "  </thead>\n",
       "  <tbody>\n",
       "    <tr>\n",
       "      <th>0</th>\n",
       "      <td>550441509175443456</td>\n",
       "      <td>VisualStockRSRC</td>\n",
       "      <td>2015-01-01 00:00:57</td>\n",
       "      <td>lx21 made $10,008  on $AAPL -Check it out! htt...</td>\n",
       "      <td>0</td>\n",
       "      <td>0</td>\n",
       "      <td>1</td>\n",
       "      <td>[lx21, made, aapl, check, http, profitly1mnd8s...</td>\n",
       "      <td>[lx21, made, aapl, check, http, profitly1mnd8s...</td>\n",
       "      <td>[made, aapl, check, http, learn, howtotrade, h...</td>\n",
       "      <td>made aapl check http learn howtotrade http exe...</td>\n",
       "      <td>0.0000</td>\n",
       "      <td>neutral</td>\n",
       "    </tr>\n",
       "    <tr>\n",
       "      <th>1</th>\n",
       "      <td>550441672312512512</td>\n",
       "      <td>KeralaGuy77</td>\n",
       "      <td>2015-01-01 00:01:36</td>\n",
       "      <td>Insanity of today weirdo massive selling. $aap...</td>\n",
       "      <td>0</td>\n",
       "      <td>0</td>\n",
       "      <td>0</td>\n",
       "      <td>[insanity, today, weirdo, massive, selling, aa...</td>\n",
       "      <td>[insanity, today, weirdo, massive, selling, aa...</td>\n",
       "      <td>[insanity, today, weirdo, massive, selling, aa...</td>\n",
       "      <td>insanity today weirdo massive selling aapl bid...</td>\n",
       "      <td>-0.8271</td>\n",
       "      <td>negative</td>\n",
       "    </tr>\n",
       "    <tr>\n",
       "      <th>2</th>\n",
       "      <td>550441732014223360</td>\n",
       "      <td>DozenStocks</td>\n",
       "      <td>2015-01-01 00:01:50</td>\n",
       "      <td>S&amp;P100 #Stocks Performance $HD $LOW $SBUX $TGT...</td>\n",
       "      <td>0</td>\n",
       "      <td>0</td>\n",
       "      <td>0</td>\n",
       "      <td>[p100, stocks, performance, hd, low, sbux, tgt...</td>\n",
       "      <td>[p100, stock, performance, hd, low, sbux, tgt,...</td>\n",
       "      <td>[stock, performance, hd, low, sbux, tgt, dvn, ...</td>\n",
       "      <td>stock performance hd low sbux tgt dvn ibm amzn...</td>\n",
       "      <td>-0.2732</td>\n",
       "      <td>negative</td>\n",
       "    </tr>\n",
       "    <tr>\n",
       "      <th>3</th>\n",
       "      <td>550442977802207232</td>\n",
       "      <td>ShowDreamCar</td>\n",
       "      <td>2015-01-01 00:06:47</td>\n",
       "      <td>$GM $TSLA: Volkswagen Pushes 2014 Record Recal...</td>\n",
       "      <td>0</td>\n",
       "      <td>0</td>\n",
       "      <td>1</td>\n",
       "      <td>[gm, tsla, volkswagen, pushes, record, recall,...</td>\n",
       "      <td>[gm, tsla, volkswagen, push, record, recall, t...</td>\n",
       "      <td>[gm, tsla, volkswagen, push, record, recall, t...</td>\n",
       "      <td>gm tsla volkswagen push record recall tally hi...</td>\n",
       "      <td>0.0000</td>\n",
       "      <td>neutral</td>\n",
       "    </tr>\n",
       "    <tr>\n",
       "      <th>4</th>\n",
       "      <td>550443807834402816</td>\n",
       "      <td>i_Know_First</td>\n",
       "      <td>2015-01-01 00:10:05</td>\n",
       "      <td>Swing Trading: Up To 8.91% Return In 14 Days h...</td>\n",
       "      <td>0</td>\n",
       "      <td>0</td>\n",
       "      <td>1</td>\n",
       "      <td>[swing, trading, return, days, http, owlygdks0...</td>\n",
       "      <td>[swing, trading, return, day, http, owlygdks0,...</td>\n",
       "      <td>[swing, trading, return, day, http, swingtradi...</td>\n",
       "      <td>swing trading return day http swingtrading for...</td>\n",
       "      <td>0.0000</td>\n",
       "      <td>neutral</td>\n",
       "    </tr>\n",
       "  </tbody>\n",
       "</table>\n",
       "</div>"
      ],
      "text/plain": [
       "             tweet_id           writer           post_date  \\\n",
       "0  550441509175443456  VisualStockRSRC 2015-01-01 00:00:57   \n",
       "1  550441672312512512      KeralaGuy77 2015-01-01 00:01:36   \n",
       "2  550441732014223360      DozenStocks 2015-01-01 00:01:50   \n",
       "3  550442977802207232     ShowDreamCar 2015-01-01 00:06:47   \n",
       "4  550443807834402816     i_Know_First 2015-01-01 00:10:05   \n",
       "\n",
       "                                                body  comment_num  \\\n",
       "0  lx21 made $10,008  on $AAPL -Check it out! htt...            0   \n",
       "1  Insanity of today weirdo massive selling. $aap...            0   \n",
       "2  S&P100 #Stocks Performance $HD $LOW $SBUX $TGT...            0   \n",
       "3  $GM $TSLA: Volkswagen Pushes 2014 Record Recal...            0   \n",
       "4  Swing Trading: Up To 8.91% Return In 14 Days h...            0   \n",
       "\n",
       "   retweet_num  like_num                                     body_tokenized  \\\n",
       "0            0         1  [lx21, made, aapl, check, http, profitly1mnd8s...   \n",
       "1            0         0  [insanity, today, weirdo, massive, selling, aa...   \n",
       "2            0         0  [p100, stocks, performance, hd, low, sbux, tgt...   \n",
       "3            0         1  [gm, tsla, volkswagen, pushes, record, recall,...   \n",
       "4            0         1  [swing, trading, return, days, http, owlygdks0...   \n",
       "\n",
       "                                   lemmatized_tokens  \\\n",
       "0  [lx21, made, aapl, check, http, profitly1mnd8s...   \n",
       "1  [insanity, today, weirdo, massive, selling, aa...   \n",
       "2  [p100, stock, performance, hd, low, sbux, tgt,...   \n",
       "3  [gm, tsla, volkswagen, push, record, recall, t...   \n",
       "4  [swing, trading, return, day, http, owlygdks0,...   \n",
       "\n",
       "                                          list_lemma  \\\n",
       "0  [made, aapl, check, http, learn, howtotrade, h...   \n",
       "1  [insanity, today, weirdo, massive, selling, aa...   \n",
       "2  [stock, performance, hd, low, sbux, tgt, dvn, ...   \n",
       "3  [gm, tsla, volkswagen, push, record, recall, t...   \n",
       "4  [swing, trading, return, day, http, swingtradi...   \n",
       "\n",
       "                                         clean_tweet  score_vader sentiment  \n",
       "0  made aapl check http learn howtotrade http exe...       0.0000   neutral  \n",
       "1  insanity today weirdo massive selling aapl bid...      -0.8271  negative  \n",
       "2  stock performance hd low sbux tgt dvn ibm amzn...      -0.2732  negative  \n",
       "3  gm tsla volkswagen push record recall tally hi...       0.0000   neutral  \n",
       "4  swing trading return day http swingtrading for...       0.0000   neutral  "
      ]
     },
     "execution_count": 60,
     "metadata": {},
     "output_type": "execute_result"
    }
   ],
   "source": [
    "tweet_head.head()"
   ]
  },
  {
   "cell_type": "code",
   "execution_count": null,
   "id": "64685bc1-794d-498e-a4b6-ff3e500c9344",
   "metadata": {},
   "outputs": [],
   "source": []
  },
  {
   "cell_type": "code",
   "execution_count": 6,
   "id": "d0ef46f3-fabc-4493-ab8c-f3c58837cf67",
   "metadata": {},
   "outputs": [
    {
     "data": {
      "text/plain": [
       "array(['AAPL', 'GOOG', 'GOOGL', 'AMZN', 'TSLA', 'MSFT'], dtype=object)"
      ]
     },
     "execution_count": 6,
     "metadata": {},
     "output_type": "execute_result"
    }
   ],
   "source": [
    "company['ticker_symbol'].values"
   ]
  },
  {
   "cell_type": "code",
   "execution_count": 8,
   "id": "a93ed936-9dab-4c5b-a041-239949b75958",
   "metadata": {},
   "outputs": [],
   "source": [
    "import yfinance as yf"
   ]
  },
  {
   "cell_type": "code",
   "execution_count": 143,
   "id": "bfd5b11c-2688-47d4-a7e7-c1664de4fcc6",
   "metadata": {},
   "outputs": [
    {
     "name": "stdout",
     "output_type": "stream",
     "text": [
      "[*********************100%***********************]  6 of 6 completed\n"
     ]
    }
   ],
   "source": [
    "prices=yf.download(list(company['ticker_symbol'].values), start=\"2014-12-31\", end=\"2020-12-31\")['Adj Close']"
   ]
  },
  {
   "cell_type": "code",
   "execution_count": 144,
   "id": "18d6da80-5ca2-4319-8a7e-43098a6f90ed",
   "metadata": {},
   "outputs": [
    {
     "data": {
      "text/html": [
       "<div>\n",
       "<style scoped>\n",
       "    .dataframe tbody tr th:only-of-type {\n",
       "        vertical-align: middle;\n",
       "    }\n",
       "\n",
       "    .dataframe tbody tr th {\n",
       "        vertical-align: top;\n",
       "    }\n",
       "\n",
       "    .dataframe thead th {\n",
       "        text-align: right;\n",
       "    }\n",
       "</style>\n",
       "<table border=\"1\" class=\"dataframe\">\n",
       "  <thead>\n",
       "    <tr style=\"text-align: right;\">\n",
       "      <th></th>\n",
       "      <th>AAPL</th>\n",
       "      <th>AMZN</th>\n",
       "      <th>GOOG</th>\n",
       "      <th>GOOGL</th>\n",
       "      <th>MSFT</th>\n",
       "      <th>TSLA</th>\n",
       "    </tr>\n",
       "    <tr>\n",
       "      <th>Date</th>\n",
       "      <th></th>\n",
       "      <th></th>\n",
       "      <th></th>\n",
       "      <th></th>\n",
       "      <th></th>\n",
       "      <th></th>\n",
       "    </tr>\n",
       "  </thead>\n",
       "  <tbody>\n",
       "    <tr>\n",
       "      <th>2014-12-31</th>\n",
       "      <td>24.983650</td>\n",
       "      <td>310.350006</td>\n",
       "      <td>524.958740</td>\n",
       "      <td>530.659973</td>\n",
       "      <td>40.920731</td>\n",
       "      <td>44.481998</td>\n",
       "    </tr>\n",
       "    <tr>\n",
       "      <th>2015-01-02</th>\n",
       "      <td>24.745998</td>\n",
       "      <td>308.519989</td>\n",
       "      <td>523.373108</td>\n",
       "      <td>529.549988</td>\n",
       "      <td>41.193836</td>\n",
       "      <td>43.862000</td>\n",
       "    </tr>\n",
       "    <tr>\n",
       "      <th>2015-01-05</th>\n",
       "      <td>24.048861</td>\n",
       "      <td>302.190002</td>\n",
       "      <td>512.463013</td>\n",
       "      <td>519.460022</td>\n",
       "      <td>40.815033</td>\n",
       "      <td>42.018002</td>\n",
       "    </tr>\n",
       "    <tr>\n",
       "      <th>2015-01-06</th>\n",
       "      <td>24.051128</td>\n",
       "      <td>295.290009</td>\n",
       "      <td>500.585632</td>\n",
       "      <td>506.640015</td>\n",
       "      <td>40.215965</td>\n",
       "      <td>42.256001</td>\n",
       "    </tr>\n",
       "    <tr>\n",
       "      <th>2015-01-07</th>\n",
       "      <td>24.388371</td>\n",
       "      <td>298.420013</td>\n",
       "      <td>499.727997</td>\n",
       "      <td>505.149994</td>\n",
       "      <td>40.726933</td>\n",
       "      <td>42.189999</td>\n",
       "    </tr>\n",
       "  </tbody>\n",
       "</table>\n",
       "</div>"
      ],
      "text/plain": [
       "                 AAPL        AMZN        GOOG       GOOGL       MSFT  \\\n",
       "Date                                                                   \n",
       "2014-12-31  24.983650  310.350006  524.958740  530.659973  40.920731   \n",
       "2015-01-02  24.745998  308.519989  523.373108  529.549988  41.193836   \n",
       "2015-01-05  24.048861  302.190002  512.463013  519.460022  40.815033   \n",
       "2015-01-06  24.051128  295.290009  500.585632  506.640015  40.215965   \n",
       "2015-01-07  24.388371  298.420013  499.727997  505.149994  40.726933   \n",
       "\n",
       "                 TSLA  \n",
       "Date                   \n",
       "2014-12-31  44.481998  \n",
       "2015-01-02  43.862000  \n",
       "2015-01-05  42.018002  \n",
       "2015-01-06  42.256001  \n",
       "2015-01-07  42.189999  "
      ]
     },
     "execution_count": 144,
     "metadata": {},
     "output_type": "execute_result"
    }
   ],
   "source": [
    "prices.head()"
   ]
  },
  {
   "cell_type": "markdown",
   "id": "d6928dc0-7792-4d3e-8eec-38e0cf6a2102",
   "metadata": {},
   "source": [
    "#### Rellenar las fechas diarias dentro del rango de análisis que no aparecen en los precios descargados, con los datos no nulos de periodos previos:"
   ]
  },
  {
   "cell_type": "markdown",
   "id": "618fcdd9-6eb7-4af7-9dbc-334555c866ab",
   "metadata": {},
   "source": [
    "Crear un DataFrame con las fechas diarias del rango de análisis como índice, nombrado \"Date\":"
   ]
  },
  {
   "cell_type": "code",
   "execution_count": 145,
   "id": "1c945cfc-67c8-4f2e-9147-9ac50d114ed8",
   "metadata": {},
   "outputs": [],
   "source": [
    "price=pd.DataFrame(index=pd.date_range(start=\"2014-12-31\",end=\"2020-12-31\"))\n",
    "price.index.name='Date'"
   ]
  },
  {
   "cell_type": "code",
   "execution_count": 146,
   "id": "eb28318a-1852-4e63-bbf5-000917d1d123",
   "metadata": {},
   "outputs": [
    {
     "data": {
      "text/html": [
       "<div>\n",
       "<style scoped>\n",
       "    .dataframe tbody tr th:only-of-type {\n",
       "        vertical-align: middle;\n",
       "    }\n",
       "\n",
       "    .dataframe tbody tr th {\n",
       "        vertical-align: top;\n",
       "    }\n",
       "\n",
       "    .dataframe thead th {\n",
       "        text-align: right;\n",
       "    }\n",
       "</style>\n",
       "<table border=\"1\" class=\"dataframe\">\n",
       "  <thead>\n",
       "    <tr style=\"text-align: right;\">\n",
       "      <th></th>\n",
       "    </tr>\n",
       "    <tr>\n",
       "      <th>Date</th>\n",
       "    </tr>\n",
       "  </thead>\n",
       "  <tbody>\n",
       "    <tr>\n",
       "      <th>2014-12-31</th>\n",
       "    </tr>\n",
       "    <tr>\n",
       "      <th>2015-01-01</th>\n",
       "    </tr>\n",
       "    <tr>\n",
       "      <th>2015-01-02</th>\n",
       "    </tr>\n",
       "    <tr>\n",
       "      <th>2015-01-03</th>\n",
       "    </tr>\n",
       "    <tr>\n",
       "      <th>2015-01-04</th>\n",
       "    </tr>\n",
       "  </tbody>\n",
       "</table>\n",
       "</div>"
      ],
      "text/plain": [
       "Empty DataFrame\n",
       "Columns: []\n",
       "Index: [2014-12-31 00:00:00, 2015-01-01 00:00:00, 2015-01-02 00:00:00, 2015-01-03 00:00:00, 2015-01-04 00:00:00]"
      ]
     },
     "execution_count": 146,
     "metadata": {},
     "output_type": "execute_result"
    }
   ],
   "source": [
    "price.head()"
   ]
  },
  {
   "cell_type": "markdown",
   "id": "ed6526f1-94c9-4c4e-8514-0757c499823a",
   "metadata": {},
   "source": [
    "Concatenar el DataFrame creado con los precios descargador por índice:"
   ]
  },
  {
   "cell_type": "code",
   "execution_count": 147,
   "id": "5acec244-0962-485f-8239-375de64659b6",
   "metadata": {},
   "outputs": [],
   "source": [
    "price=pd.concat([price,prices],axis=1)"
   ]
  },
  {
   "cell_type": "code",
   "execution_count": 148,
   "id": "347db7c2-6df9-4ccb-a69a-c32563daf2ca",
   "metadata": {},
   "outputs": [
    {
     "data": {
      "text/html": [
       "<div>\n",
       "<style scoped>\n",
       "    .dataframe tbody tr th:only-of-type {\n",
       "        vertical-align: middle;\n",
       "    }\n",
       "\n",
       "    .dataframe tbody tr th {\n",
       "        vertical-align: top;\n",
       "    }\n",
       "\n",
       "    .dataframe thead th {\n",
       "        text-align: right;\n",
       "    }\n",
       "</style>\n",
       "<table border=\"1\" class=\"dataframe\">\n",
       "  <thead>\n",
       "    <tr style=\"text-align: right;\">\n",
       "      <th></th>\n",
       "      <th>AAPL</th>\n",
       "      <th>AMZN</th>\n",
       "      <th>GOOG</th>\n",
       "      <th>GOOGL</th>\n",
       "      <th>MSFT</th>\n",
       "      <th>TSLA</th>\n",
       "    </tr>\n",
       "    <tr>\n",
       "      <th>Date</th>\n",
       "      <th></th>\n",
       "      <th></th>\n",
       "      <th></th>\n",
       "      <th></th>\n",
       "      <th></th>\n",
       "      <th></th>\n",
       "    </tr>\n",
       "  </thead>\n",
       "  <tbody>\n",
       "    <tr>\n",
       "      <th>2014-12-31</th>\n",
       "      <td>24.983650</td>\n",
       "      <td>310.350006</td>\n",
       "      <td>524.958740</td>\n",
       "      <td>530.659973</td>\n",
       "      <td>40.920731</td>\n",
       "      <td>44.481998</td>\n",
       "    </tr>\n",
       "    <tr>\n",
       "      <th>2015-01-01</th>\n",
       "      <td>NaN</td>\n",
       "      <td>NaN</td>\n",
       "      <td>NaN</td>\n",
       "      <td>NaN</td>\n",
       "      <td>NaN</td>\n",
       "      <td>NaN</td>\n",
       "    </tr>\n",
       "    <tr>\n",
       "      <th>2015-01-02</th>\n",
       "      <td>24.745998</td>\n",
       "      <td>308.519989</td>\n",
       "      <td>523.373108</td>\n",
       "      <td>529.549988</td>\n",
       "      <td>41.193836</td>\n",
       "      <td>43.862000</td>\n",
       "    </tr>\n",
       "    <tr>\n",
       "      <th>2015-01-03</th>\n",
       "      <td>NaN</td>\n",
       "      <td>NaN</td>\n",
       "      <td>NaN</td>\n",
       "      <td>NaN</td>\n",
       "      <td>NaN</td>\n",
       "      <td>NaN</td>\n",
       "    </tr>\n",
       "    <tr>\n",
       "      <th>2015-01-04</th>\n",
       "      <td>NaN</td>\n",
       "      <td>NaN</td>\n",
       "      <td>NaN</td>\n",
       "      <td>NaN</td>\n",
       "      <td>NaN</td>\n",
       "      <td>NaN</td>\n",
       "    </tr>\n",
       "  </tbody>\n",
       "</table>\n",
       "</div>"
      ],
      "text/plain": [
       "                 AAPL        AMZN        GOOG       GOOGL       MSFT  \\\n",
       "Date                                                                   \n",
       "2014-12-31  24.983650  310.350006  524.958740  530.659973  40.920731   \n",
       "2015-01-01        NaN         NaN         NaN         NaN        NaN   \n",
       "2015-01-02  24.745998  308.519989  523.373108  529.549988  41.193836   \n",
       "2015-01-03        NaN         NaN         NaN         NaN        NaN   \n",
       "2015-01-04        NaN         NaN         NaN         NaN        NaN   \n",
       "\n",
       "                 TSLA  \n",
       "Date                   \n",
       "2014-12-31  44.481998  \n",
       "2015-01-01        NaN  \n",
       "2015-01-02  43.862000  \n",
       "2015-01-03        NaN  \n",
       "2015-01-04        NaN  "
      ]
     },
     "execution_count": 148,
     "metadata": {},
     "output_type": "execute_result"
    }
   ],
   "source": [
    "price.head()"
   ]
  },
  {
   "cell_type": "markdown",
   "id": "3f4fc11c-e3b6-4080-9d15-99a9012666a3",
   "metadata": {},
   "source": [
    "Rellenar los datos \"NaN\" con el los datos no nulos de la fila anterior:"
   ]
  },
  {
   "cell_type": "code",
   "execution_count": 149,
   "id": "ef9dfa6d-cf7c-462c-a643-27c9e7b78dc9",
   "metadata": {},
   "outputs": [],
   "source": [
    "price=price.fillna(method='ffill')"
   ]
  },
  {
   "cell_type": "code",
   "execution_count": 150,
   "id": "d418b041-e380-4522-860d-66b5f4fb5bff",
   "metadata": {},
   "outputs": [
    {
     "data": {
      "text/html": [
       "<div>\n",
       "<style scoped>\n",
       "    .dataframe tbody tr th:only-of-type {\n",
       "        vertical-align: middle;\n",
       "    }\n",
       "\n",
       "    .dataframe tbody tr th {\n",
       "        vertical-align: top;\n",
       "    }\n",
       "\n",
       "    .dataframe thead th {\n",
       "        text-align: right;\n",
       "    }\n",
       "</style>\n",
       "<table border=\"1\" class=\"dataframe\">\n",
       "  <thead>\n",
       "    <tr style=\"text-align: right;\">\n",
       "      <th></th>\n",
       "      <th>AAPL</th>\n",
       "      <th>AMZN</th>\n",
       "      <th>GOOG</th>\n",
       "      <th>GOOGL</th>\n",
       "      <th>MSFT</th>\n",
       "      <th>TSLA</th>\n",
       "    </tr>\n",
       "    <tr>\n",
       "      <th>Date</th>\n",
       "      <th></th>\n",
       "      <th></th>\n",
       "      <th></th>\n",
       "      <th></th>\n",
       "      <th></th>\n",
       "      <th></th>\n",
       "    </tr>\n",
       "  </thead>\n",
       "  <tbody>\n",
       "    <tr>\n",
       "      <th>2014-12-31</th>\n",
       "      <td>24.98365</td>\n",
       "      <td>310.350006</td>\n",
       "      <td>524.95874</td>\n",
       "      <td>530.659973</td>\n",
       "      <td>40.920731</td>\n",
       "      <td>44.481998</td>\n",
       "    </tr>\n",
       "    <tr>\n",
       "      <th>2015-01-01</th>\n",
       "      <td>24.98365</td>\n",
       "      <td>310.350006</td>\n",
       "      <td>524.95874</td>\n",
       "      <td>530.659973</td>\n",
       "      <td>40.920731</td>\n",
       "      <td>44.481998</td>\n",
       "    </tr>\n",
       "  </tbody>\n",
       "</table>\n",
       "</div>"
      ],
      "text/plain": [
       "                AAPL        AMZN       GOOG       GOOGL       MSFT       TSLA\n",
       "Date                                                                         \n",
       "2014-12-31  24.98365  310.350006  524.95874  530.659973  40.920731  44.481998\n",
       "2015-01-01  24.98365  310.350006  524.95874  530.659973  40.920731  44.481998"
      ]
     },
     "execution_count": 150,
     "metadata": {},
     "output_type": "execute_result"
    }
   ],
   "source": [
    "price.head(2)"
   ]
  },
  {
   "cell_type": "code",
   "execution_count": 151,
   "id": "03831b3c-9168-4c0e-b5d3-317adb48ffb3",
   "metadata": {},
   "outputs": [
    {
     "data": {
      "text/html": [
       "<div>\n",
       "<style scoped>\n",
       "    .dataframe tbody tr th:only-of-type {\n",
       "        vertical-align: middle;\n",
       "    }\n",
       "\n",
       "    .dataframe tbody tr th {\n",
       "        vertical-align: top;\n",
       "    }\n",
       "\n",
       "    .dataframe thead th {\n",
       "        text-align: right;\n",
       "    }\n",
       "</style>\n",
       "<table border=\"1\" class=\"dataframe\">\n",
       "  <thead>\n",
       "    <tr style=\"text-align: right;\">\n",
       "      <th></th>\n",
       "      <th>AAPL</th>\n",
       "      <th>AMZN</th>\n",
       "      <th>GOOG</th>\n",
       "      <th>GOOGL</th>\n",
       "      <th>MSFT</th>\n",
       "      <th>TSLA</th>\n",
       "    </tr>\n",
       "    <tr>\n",
       "      <th>Date</th>\n",
       "      <th></th>\n",
       "      <th></th>\n",
       "      <th></th>\n",
       "      <th></th>\n",
       "      <th></th>\n",
       "      <th></th>\n",
       "    </tr>\n",
       "  </thead>\n",
       "  <tbody>\n",
       "    <tr>\n",
       "      <th>2014-12-31</th>\n",
       "      <td>24.983650</td>\n",
       "      <td>310.350006</td>\n",
       "      <td>524.958740</td>\n",
       "      <td>530.659973</td>\n",
       "      <td>40.920731</td>\n",
       "      <td>44.481998</td>\n",
       "    </tr>\n",
       "    <tr>\n",
       "      <th>2015-01-01</th>\n",
       "      <td>24.983650</td>\n",
       "      <td>310.350006</td>\n",
       "      <td>524.958740</td>\n",
       "      <td>530.659973</td>\n",
       "      <td>40.920731</td>\n",
       "      <td>44.481998</td>\n",
       "    </tr>\n",
       "    <tr>\n",
       "      <th>2015-01-02</th>\n",
       "      <td>24.745998</td>\n",
       "      <td>308.519989</td>\n",
       "      <td>523.373108</td>\n",
       "      <td>529.549988</td>\n",
       "      <td>41.193836</td>\n",
       "      <td>43.862000</td>\n",
       "    </tr>\n",
       "    <tr>\n",
       "      <th>2015-01-03</th>\n",
       "      <td>24.745998</td>\n",
       "      <td>308.519989</td>\n",
       "      <td>523.373108</td>\n",
       "      <td>529.549988</td>\n",
       "      <td>41.193836</td>\n",
       "      <td>43.862000</td>\n",
       "    </tr>\n",
       "    <tr>\n",
       "      <th>2015-01-04</th>\n",
       "      <td>24.745998</td>\n",
       "      <td>308.519989</td>\n",
       "      <td>523.373108</td>\n",
       "      <td>529.549988</td>\n",
       "      <td>41.193836</td>\n",
       "      <td>43.862000</td>\n",
       "    </tr>\n",
       "  </tbody>\n",
       "</table>\n",
       "</div>"
      ],
      "text/plain": [
       "                 AAPL        AMZN        GOOG       GOOGL       MSFT  \\\n",
       "Date                                                                   \n",
       "2014-12-31  24.983650  310.350006  524.958740  530.659973  40.920731   \n",
       "2015-01-01  24.983650  310.350006  524.958740  530.659973  40.920731   \n",
       "2015-01-02  24.745998  308.519989  523.373108  529.549988  41.193836   \n",
       "2015-01-03  24.745998  308.519989  523.373108  529.549988  41.193836   \n",
       "2015-01-04  24.745998  308.519989  523.373108  529.549988  41.193836   \n",
       "\n",
       "                 TSLA  \n",
       "Date                   \n",
       "2014-12-31  44.481998  \n",
       "2015-01-01  44.481998  \n",
       "2015-01-02  43.862000  \n",
       "2015-01-03  43.862000  \n",
       "2015-01-04  43.862000  "
      ]
     },
     "execution_count": 151,
     "metadata": {},
     "output_type": "execute_result"
    }
   ],
   "source": [
    "price.head()"
   ]
  },
  {
   "cell_type": "markdown",
   "id": "21f3ef9a-0c95-4c91-9a75-8b9bf34352d9",
   "metadata": {},
   "source": [
    "Validar no vácios:"
   ]
  },
  {
   "cell_type": "code",
   "execution_count": 152,
   "id": "14fd9e8d-d9be-45bb-a004-d8d7ae07079b",
   "metadata": {},
   "outputs": [
    {
     "data": {
      "text/plain": [
       "True"
      ]
     },
     "execution_count": 152,
     "metadata": {},
     "output_type": "execute_result"
    }
   ],
   "source": [
    "price.isnull().sum().sum()==0"
   ]
  },
  {
   "cell_type": "markdown",
   "id": "ee03ae8a-a24d-4ed1-b96c-155f98363982",
   "metadata": {},
   "source": [
    "Validar que todas las fechas díarias del rango de análisis se encuentren:"
   ]
  },
  {
   "cell_type": "code",
   "execution_count": 177,
   "id": "acbb5f23-8bed-47cd-9b06-082dd4ad6c90",
   "metadata": {},
   "outputs": [
    {
     "data": {
      "text/plain": [
       "True"
      ]
     },
     "execution_count": 177,
     "metadata": {},
     "output_type": "execute_result"
    }
   ],
   "source": [
    "all(pd.date_range(start=\"2015-01-01\",end=\"2020-12-31\").isin(price.index))"
   ]
  },
  {
   "cell_type": "markdown",
   "id": "d248e14b-02ec-426b-86b9-56c492b362a3",
   "metadata": {},
   "source": [
    "Calcular el cambio porcentual en el precio por día:"
   ]
  },
  {
   "cell_type": "code",
   "execution_count": 170,
   "id": "6de1882e-99e7-401d-a8c0-4ba88205fa78",
   "metadata": {},
   "outputs": [],
   "source": [
    "change_price=price.pct_change()"
   ]
  },
  {
   "cell_type": "code",
   "execution_count": 171,
   "id": "cefe6384-6937-467b-b841-664213e8487f",
   "metadata": {},
   "outputs": [
    {
     "data": {
      "text/html": [
       "<div>\n",
       "<style scoped>\n",
       "    .dataframe tbody tr th:only-of-type {\n",
       "        vertical-align: middle;\n",
       "    }\n",
       "\n",
       "    .dataframe tbody tr th {\n",
       "        vertical-align: top;\n",
       "    }\n",
       "\n",
       "    .dataframe thead th {\n",
       "        text-align: right;\n",
       "    }\n",
       "</style>\n",
       "<table border=\"1\" class=\"dataframe\">\n",
       "  <thead>\n",
       "    <tr style=\"text-align: right;\">\n",
       "      <th></th>\n",
       "      <th>AAPL</th>\n",
       "      <th>AMZN</th>\n",
       "      <th>GOOG</th>\n",
       "      <th>GOOGL</th>\n",
       "      <th>MSFT</th>\n",
       "      <th>TSLA</th>\n",
       "    </tr>\n",
       "    <tr>\n",
       "      <th>Date</th>\n",
       "      <th></th>\n",
       "      <th></th>\n",
       "      <th></th>\n",
       "      <th></th>\n",
       "      <th></th>\n",
       "      <th></th>\n",
       "    </tr>\n",
       "  </thead>\n",
       "  <tbody>\n",
       "    <tr>\n",
       "      <th>2014-12-31</th>\n",
       "      <td>NaN</td>\n",
       "      <td>NaN</td>\n",
       "      <td>NaN</td>\n",
       "      <td>NaN</td>\n",
       "      <td>NaN</td>\n",
       "      <td>NaN</td>\n",
       "    </tr>\n",
       "    <tr>\n",
       "      <th>2015-01-01</th>\n",
       "      <td>0.000000</td>\n",
       "      <td>0.000000</td>\n",
       "      <td>0.00000</td>\n",
       "      <td>0.000000</td>\n",
       "      <td>0.000000</td>\n",
       "      <td>0.000000</td>\n",
       "    </tr>\n",
       "    <tr>\n",
       "      <th>2015-01-02</th>\n",
       "      <td>-0.009512</td>\n",
       "      <td>-0.005897</td>\n",
       "      <td>-0.00302</td>\n",
       "      <td>-0.002092</td>\n",
       "      <td>0.006674</td>\n",
       "      <td>-0.013938</td>\n",
       "    </tr>\n",
       "    <tr>\n",
       "      <th>2015-01-03</th>\n",
       "      <td>0.000000</td>\n",
       "      <td>0.000000</td>\n",
       "      <td>0.00000</td>\n",
       "      <td>0.000000</td>\n",
       "      <td>0.000000</td>\n",
       "      <td>0.000000</td>\n",
       "    </tr>\n",
       "    <tr>\n",
       "      <th>2015-01-04</th>\n",
       "      <td>0.000000</td>\n",
       "      <td>0.000000</td>\n",
       "      <td>0.00000</td>\n",
       "      <td>0.000000</td>\n",
       "      <td>0.000000</td>\n",
       "      <td>0.000000</td>\n",
       "    </tr>\n",
       "  </tbody>\n",
       "</table>\n",
       "</div>"
      ],
      "text/plain": [
       "                AAPL      AMZN     GOOG     GOOGL      MSFT      TSLA\n",
       "Date                                                                 \n",
       "2014-12-31       NaN       NaN      NaN       NaN       NaN       NaN\n",
       "2015-01-01  0.000000  0.000000  0.00000  0.000000  0.000000  0.000000\n",
       "2015-01-02 -0.009512 -0.005897 -0.00302 -0.002092  0.006674 -0.013938\n",
       "2015-01-03  0.000000  0.000000  0.00000  0.000000  0.000000  0.000000\n",
       "2015-01-04  0.000000  0.000000  0.00000  0.000000  0.000000  0.000000"
      ]
     },
     "execution_count": 171,
     "metadata": {},
     "output_type": "execute_result"
    }
   ],
   "source": [
    "change_price.head()"
   ]
  },
  {
   "cell_type": "markdown",
   "id": "71856bb1-1fb2-4e14-be68-bb4ea604038b",
   "metadata": {},
   "source": [
    "Restar al índice de fechas un día, correspondiente al periodo donde se evaluarán los tweets que pudieron haber tenido relación con la variación ocurrida en el día siguiente:"
   ]
  },
  {
   "cell_type": "code",
   "execution_count": 172,
   "id": "535cdce8-a74a-42f3-a21e-49fe52c705b1",
   "metadata": {},
   "outputs": [],
   "source": [
    "import datetime"
   ]
  },
  {
   "cell_type": "code",
   "execution_count": 173,
   "id": "4ab4df2a-e380-4260-9cd5-ddfd8fd7b09c",
   "metadata": {},
   "outputs": [],
   "source": [
    "change_price.index-=datetime.timedelta(days=1)"
   ]
  },
  {
   "cell_type": "code",
   "execution_count": 174,
   "id": "cffdb277-9989-4a02-86e2-6e543daa4664",
   "metadata": {},
   "outputs": [
    {
     "data": {
      "text/html": [
       "<div>\n",
       "<style scoped>\n",
       "    .dataframe tbody tr th:only-of-type {\n",
       "        vertical-align: middle;\n",
       "    }\n",
       "\n",
       "    .dataframe tbody tr th {\n",
       "        vertical-align: top;\n",
       "    }\n",
       "\n",
       "    .dataframe thead th {\n",
       "        text-align: right;\n",
       "    }\n",
       "</style>\n",
       "<table border=\"1\" class=\"dataframe\">\n",
       "  <thead>\n",
       "    <tr style=\"text-align: right;\">\n",
       "      <th></th>\n",
       "      <th>AAPL</th>\n",
       "      <th>AMZN</th>\n",
       "      <th>GOOG</th>\n",
       "      <th>GOOGL</th>\n",
       "      <th>MSFT</th>\n",
       "      <th>TSLA</th>\n",
       "    </tr>\n",
       "    <tr>\n",
       "      <th>Date</th>\n",
       "      <th></th>\n",
       "      <th></th>\n",
       "      <th></th>\n",
       "      <th></th>\n",
       "      <th></th>\n",
       "      <th></th>\n",
       "    </tr>\n",
       "  </thead>\n",
       "  <tbody>\n",
       "    <tr>\n",
       "      <th>2014-12-30</th>\n",
       "      <td>NaN</td>\n",
       "      <td>NaN</td>\n",
       "      <td>NaN</td>\n",
       "      <td>NaN</td>\n",
       "      <td>NaN</td>\n",
       "      <td>NaN</td>\n",
       "    </tr>\n",
       "    <tr>\n",
       "      <th>2014-12-31</th>\n",
       "      <td>0.000000</td>\n",
       "      <td>0.000000</td>\n",
       "      <td>0.00000</td>\n",
       "      <td>0.000000</td>\n",
       "      <td>0.000000</td>\n",
       "      <td>0.000000</td>\n",
       "    </tr>\n",
       "    <tr>\n",
       "      <th>2015-01-01</th>\n",
       "      <td>-0.009512</td>\n",
       "      <td>-0.005897</td>\n",
       "      <td>-0.00302</td>\n",
       "      <td>-0.002092</td>\n",
       "      <td>0.006674</td>\n",
       "      <td>-0.013938</td>\n",
       "    </tr>\n",
       "    <tr>\n",
       "      <th>2015-01-02</th>\n",
       "      <td>0.000000</td>\n",
       "      <td>0.000000</td>\n",
       "      <td>0.00000</td>\n",
       "      <td>0.000000</td>\n",
       "      <td>0.000000</td>\n",
       "      <td>0.000000</td>\n",
       "    </tr>\n",
       "    <tr>\n",
       "      <th>2015-01-03</th>\n",
       "      <td>0.000000</td>\n",
       "      <td>0.000000</td>\n",
       "      <td>0.00000</td>\n",
       "      <td>0.000000</td>\n",
       "      <td>0.000000</td>\n",
       "      <td>0.000000</td>\n",
       "    </tr>\n",
       "  </tbody>\n",
       "</table>\n",
       "</div>"
      ],
      "text/plain": [
       "                AAPL      AMZN     GOOG     GOOGL      MSFT      TSLA\n",
       "Date                                                                 \n",
       "2014-12-30       NaN       NaN      NaN       NaN       NaN       NaN\n",
       "2014-12-31  0.000000  0.000000  0.00000  0.000000  0.000000  0.000000\n",
       "2015-01-01 -0.009512 -0.005897 -0.00302 -0.002092  0.006674 -0.013938\n",
       "2015-01-02  0.000000  0.000000  0.00000  0.000000  0.000000  0.000000\n",
       "2015-01-03  0.000000  0.000000  0.00000  0.000000  0.000000  0.000000"
      ]
     },
     "execution_count": 174,
     "metadata": {},
     "output_type": "execute_result"
    }
   ],
   "source": [
    "change_price.head()"
   ]
  },
  {
   "cell_type": "markdown",
   "id": "2305506d-80e8-4df7-85fc-a5206fae0fe2",
   "metadata": {},
   "source": [
    "Eliminar periodos fuera del rango de análisis:"
   ]
  },
  {
   "cell_type": "code",
   "execution_count": 175,
   "id": "461e33fa-9d84-4e57-b90c-f2ec0cb253a8",
   "metadata": {},
   "outputs": [],
   "source": [
    "change_price.drop(['2014-12-30','2014-12-31'], inplace=True)"
   ]
  },
  {
   "cell_type": "code",
   "execution_count": 178,
   "id": "0a2ed315-f9e3-4745-900d-aab9f2096236",
   "metadata": {},
   "outputs": [
    {
     "data": {
      "text/html": [
       "<div>\n",
       "<style scoped>\n",
       "    .dataframe tbody tr th:only-of-type {\n",
       "        vertical-align: middle;\n",
       "    }\n",
       "\n",
       "    .dataframe tbody tr th {\n",
       "        vertical-align: top;\n",
       "    }\n",
       "\n",
       "    .dataframe thead th {\n",
       "        text-align: right;\n",
       "    }\n",
       "</style>\n",
       "<table border=\"1\" class=\"dataframe\">\n",
       "  <thead>\n",
       "    <tr style=\"text-align: right;\">\n",
       "      <th></th>\n",
       "      <th>AAPL</th>\n",
       "      <th>AMZN</th>\n",
       "      <th>GOOG</th>\n",
       "      <th>GOOGL</th>\n",
       "      <th>MSFT</th>\n",
       "      <th>TSLA</th>\n",
       "    </tr>\n",
       "    <tr>\n",
       "      <th>Date</th>\n",
       "      <th></th>\n",
       "      <th></th>\n",
       "      <th></th>\n",
       "      <th></th>\n",
       "      <th></th>\n",
       "      <th></th>\n",
       "    </tr>\n",
       "  </thead>\n",
       "  <tbody>\n",
       "    <tr>\n",
       "      <th>2015-01-01</th>\n",
       "      <td>-0.009512</td>\n",
       "      <td>-0.005897</td>\n",
       "      <td>-0.003020</td>\n",
       "      <td>-0.002092</td>\n",
       "      <td>0.006674</td>\n",
       "      <td>-0.013938</td>\n",
       "    </tr>\n",
       "    <tr>\n",
       "      <th>2015-01-02</th>\n",
       "      <td>0.000000</td>\n",
       "      <td>0.000000</td>\n",
       "      <td>0.000000</td>\n",
       "      <td>0.000000</td>\n",
       "      <td>0.000000</td>\n",
       "      <td>0.000000</td>\n",
       "    </tr>\n",
       "    <tr>\n",
       "      <th>2015-01-03</th>\n",
       "      <td>0.000000</td>\n",
       "      <td>0.000000</td>\n",
       "      <td>0.000000</td>\n",
       "      <td>0.000000</td>\n",
       "      <td>0.000000</td>\n",
       "      <td>0.000000</td>\n",
       "    </tr>\n",
       "    <tr>\n",
       "      <th>2015-01-04</th>\n",
       "      <td>-0.028172</td>\n",
       "      <td>-0.020517</td>\n",
       "      <td>-0.020846</td>\n",
       "      <td>-0.019054</td>\n",
       "      <td>-0.009196</td>\n",
       "      <td>-0.042041</td>\n",
       "    </tr>\n",
       "    <tr>\n",
       "      <th>2015-01-05</th>\n",
       "      <td>0.000094</td>\n",
       "      <td>-0.022833</td>\n",
       "      <td>-0.023177</td>\n",
       "      <td>-0.024679</td>\n",
       "      <td>-0.014678</td>\n",
       "      <td>0.005664</td>\n",
       "    </tr>\n",
       "  </tbody>\n",
       "</table>\n",
       "</div>"
      ],
      "text/plain": [
       "                AAPL      AMZN      GOOG     GOOGL      MSFT      TSLA\n",
       "Date                                                                  \n",
       "2015-01-01 -0.009512 -0.005897 -0.003020 -0.002092  0.006674 -0.013938\n",
       "2015-01-02  0.000000  0.000000  0.000000  0.000000  0.000000  0.000000\n",
       "2015-01-03  0.000000  0.000000  0.000000  0.000000  0.000000  0.000000\n",
       "2015-01-04 -0.028172 -0.020517 -0.020846 -0.019054 -0.009196 -0.042041\n",
       "2015-01-05  0.000094 -0.022833 -0.023177 -0.024679 -0.014678  0.005664"
      ]
     },
     "execution_count": 178,
     "metadata": {},
     "output_type": "execute_result"
    }
   ],
   "source": [
    "change_price.head()"
   ]
  },
  {
   "cell_type": "markdown",
   "id": "91d6315c-bbb7-4bbe-9131-33d104497664",
   "metadata": {},
   "source": [
    "#### Umbral"
   ]
  },
  {
   "cell_type": "code",
   "execution_count": null,
   "id": "a5755d1a-4d7b-4846-9d76-23b8d1e9f100",
   "metadata": {},
   "outputs": [],
   "source": []
  },
  {
   "cell_type": "code",
   "execution_count": null,
   "id": "2f9d9efc-ca4f-4f4e-931d-edd79baa0d56",
   "metadata": {},
   "outputs": [],
   "source": []
  },
  {
   "cell_type": "markdown",
   "id": "196c9f2a-085d-4378-a048-f4c8bf210d57",
   "metadata": {},
   "source": [
    "---\n",
    "#### Exportar datos a la zona trusted"
   ]
  },
  {
   "cell_type": "code",
   "execution_count": 23,
   "id": "55b93f47-4cab-45f5-b3b4-f71618f94c09",
   "metadata": {},
   "outputs": [],
   "source": [
    "tweet.to_csv('trusted/data.csv',index=False)"
   ]
  }
 ],
 "metadata": {
  "kernelspec": {
   "display_name": "Python 3 (ipykernel)",
   "language": "python",
   "name": "python3"
  },
  "language_info": {
   "codemirror_mode": {
    "name": "ipython",
    "version": 3
   },
   "file_extension": ".py",
   "mimetype": "text/x-python",
   "name": "python",
   "nbconvert_exporter": "python",
   "pygments_lexer": "ipython3",
   "version": "3.8.9"
  }
 },
 "nbformat": 4,
 "nbformat_minor": 5
}
